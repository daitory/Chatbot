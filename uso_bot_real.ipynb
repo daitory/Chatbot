{
 "cells": [
  {
   "cell_type": "code",
   "execution_count": 14,
   "metadata": {},
   "outputs": [],
   "source": [
    "import random\n",
    "import numpy as np\n",
    "import tensorflow as tf\n",
    "import json\n",
    "import pickle\n",
    "import nltk\n",
    "from nltk.stem import WordNetLemmatizer\n",
    "import unidecode"
   ]
  },
  {
   "cell_type": "code",
   "execution_count": 15,
   "metadata": {},
   "outputs": [],
   "source": [
    "# gpus = tf.config.experimental.list_physical_devices('GPU')\n",
    "# if gpus:\n",
    "#   try:\n",
    "#     tf.config.experimental.set_virtual_device_configuration(\n",
    "#         gpus[0],[tf.config.experimental.VirtualDeviceConfiguration(memory_limit=6120)])\n",
    "#   except RuntimeError as e:\n",
    "#     print(e)"
   ]
  },
  {
   "cell_type": "code",
   "execution_count": 16,
   "metadata": {},
   "outputs": [],
   "source": [
    "lemmatizer=WordNetLemmatizer()\n",
    "data = open(\"Json_detalle_conversaciones_bot.json\").read()\n",
    "intents = json.loads(data)\n",
    "words = pickle.load(open('words_chatbot.pkl','rb'))\n",
    "clases = pickle.load(open('clases_chatbot.pkl','rb'))\n",
    "model = tf.keras.models.load_model('Chatbot_base_chatbot_protocolarv2.tf')"
   ]
  },
  {
   "cell_type": "code",
   "execution_count": 17,
   "metadata": {},
   "outputs": [
    {
     "name": "stdout",
     "output_type": "stream",
     "text": [
      "[{'tag': 'Identificacion', 'patterns': ['como te llamas', 'como puedo llamarte', 'cual es tu nombre'], 'responses': ['me llamo FINANCIALYTICS-BOT, tu bot de apoyo en Financialitica', 'Llámame FINANCIALYTICS-BOT,soy bot de apoyo en Financialitica']}, {'tag': 'Presentacion', 'patterns': ['hola', 'buenas', 'buenos dias', 'buenas tardes', 'hi', 'hello', 'morning'], 'responses': ['Buenas, ¿en qué puedo ayudarte?', 'Hola, ¿en qué puedo ayudarte?', '¿en qué puedo serte útil?', 'Buenas, requieres de algún apoyo con el Website o con algún Producto?']}, {'tag': 'Proposito', 'patterns': ['cual es tu proposito', 'como me puedes ayudar', 'que puedes hacer por mi'], 'responses': ['Soy un bot creado con Inteligencia Artificial, entrenado por el equipo de Financialitica, para responder  preguntas limitadas sobre funcionamiento del website y  productos .', 'Soy un bot entrenado por el equipo de Financialitica, que te va a servir de guia en el Website homónimo. Puedes preguntar sobre el tema que desees.', 'Soy un bot, desarrollado con Inteligencia Artificial, por el equipo de Financialitica. Soy prueba de como puede ayudar la Inteligencia Artificial a la Industria. Pregúntame lo que necesites saber sobre Productos o sobre el funcionamiento de elementos del Website.']}, {'tag': 'Despedida', 'patterns': ['adios', 'chao', 'bye', 'hasta luego'], 'responses': ['Ha sido un placer ayudarte, hasta la próxima!', 'Espero te hayas sentido bien con mi compañía, vuelve pronto!', 'Vuelve cuando gustes, acá estaremos para servirte!']}, {'tag': 'Menu_Producto', 'patterns': ['como puedo visualizar los productos', 'detalle de productos', 'productos'], 'responses': ['El menu de productos tiene 2 niveles de búsqueda. En principio, debes darle a la lista desplegable para seleccionar el tipo de modelo que deseas consultar, pulsas Buscar y luego te apareceran las opciones de Modelos con esa tipologia. Si decides indagar sobre un modelo de esa tipología, seleccionalo en la segunda lista despĺegable y pulsa Buscar']}, {'tag': 'Menu_Contacto', 'patterns': ['quiero solicitar mas informacion sobre un modelo en particular', 'como puedo contactar'], 'responses': ['Para saber mayor información sobre los productos ofrecidos, capacitaciones y oportunidades de Outsourcing. Dirígete al menu de Contacto, dejanos tus datos y explicános brevemente sobre tu necesidad.  Pronto te atenderá un miembro del equipo de Financialitica!']}, {'tag': 'Menu_Capacitaciones', 'patterns': ['quiero mayor informacion sobre  capacitaciones', 'capacitaciones', 'capacitacion'], 'responses': ['Para mayor información sobre nuestras capacitaciones , comunicate directamente con nuestro representante Marcos de Leon, sus datos de contacto actualizados están en el fondo de la página.']}, {'tag': 'Menu_Outsourcing', 'patterns': ['mas detalle sobre outsourcing', 'outsourcing', 'servicio tercerizado', 'servicios tercerizados'], 'responses': ['Para mayor información referente a Outsourcing, comúnicate con nuestro representante local. Marcos de León , su número de contacto lo encontrarás en el fondo de la página.']}]\n"
     ]
    }
   ],
   "source": [
    "print(intents['intents'])"
   ]
  },
  {
   "cell_type": "code",
   "execution_count": 18,
   "metadata": {},
   "outputs": [
    {
     "name": "stdout",
     "output_type": "stream",
     "text": [
      "Model: \"chatbot_trainer\"\n",
      "_________________________________________________________________\n",
      " Layer (type)                Output Shape              Param #   \n",
      "=================================================================\n",
      " flatten (Flatten)           multiple                  0         \n",
      "                                                                 \n",
      " dense (Dense)               multiple                  6912      \n",
      "                                                                 \n",
      " dropout (Dropout)           multiple                  0         \n",
      "                                                                 \n",
      " dense_1 (Dense)             multiple                  8256      \n",
      "                                                                 \n",
      " dropout_1 (Dropout)         multiple                  0         \n",
      "                                                                 \n",
      " dense_2 (Dense)             multiple                  520       \n",
      "                                                                 \n",
      "=================================================================\n",
      "Total params: 15,688\n",
      "Trainable params: 15,688\n",
      "Non-trainable params: 0\n",
      "_________________________________________________________________\n"
     ]
    }
   ],
   "source": [
    "model.summary()"
   ]
  },
  {
   "cell_type": "code",
   "execution_count": 19,
   "metadata": {},
   "outputs": [],
   "source": [
    "# model.predict([])"
   ]
  },
  {
   "cell_type": "code",
   "execution_count": 20,
   "metadata": {},
   "outputs": [],
   "source": [
    "def clean_up_sentences(sentence):\n",
    "    sentence_words = nltk.word_tokenize(sentence)\n",
    "    sentence_words = [lemmatizer.lemmatize((unidecode.unidecode(word)).lower())\n",
    "                      for word in sentence_words]\n",
    "    return sentence_words\n",
    "\n"
   ]
  },
  {
   "cell_type": "code",
   "execution_count": 21,
   "metadata": {},
   "outputs": [],
   "source": [
    "# this function will return 1 if the word is contained in our sentence and in the list previously defined \n",
    "def bow(sentence, words, show_details=True):\n",
    "    sentence_words = clean_up_sentences(sentence)\n",
    "    bag = [0]*len(words)\n",
    "    for s in sentence_words:\n",
    "        for i,w in enumerate(words):\n",
    "            if w == s:\n",
    "                bag[i] = 1\n",
    "                if show_details:\n",
    "                    print (\"found in bag: %s\" % w)\n",
    "    return(np.array(bag))\n"
   ]
  },
  {
   "cell_type": "code",
   "execution_count": 22,
   "metadata": {},
   "outputs": [],
   "source": [
    "# This function predicts a cleansed data with a mark in the bow (flag = 1 )\n",
    "# It also appends the class - tag in the clases list where it belongs \n",
    "def predict_clases(sentence,model):\n",
    "    print(clean_up_sentences(sentence))\n",
    "    p = bow(sentence,words,show_details=True)\n",
    "    print(p)\n",
    "    res = model.predict(np.array([p]))[0]\n",
    "    \n",
    "    ERROR_THRESHOLD=0.3#0.25\n",
    "    results = [[ i , r ] for i , r  in enumerate(res) if r>ERROR_THRESHOLD]\n",
    "    results.sort(key = lambda x : x[1], reverse=True)\n",
    "    return_list = []\n",
    "    for r in results:\n",
    "        return_list.append({\n",
    "            'intent' : clases[r[0]],\n",
    "            'probability': str(r[1])\n",
    "\n",
    "        } )\n",
    "        return return_list\n"
   ]
  },
  {
   "cell_type": "code",
   "execution_count": 23,
   "metadata": {},
   "outputs": [
    {
     "name": "stdout",
     "output_type": "stream",
     "text": [
      "Esta vivo!\n"
     ]
    }
   ],
   "source": [
    "# this function will print a random response in the class according the input that the user made\n",
    "def get_response(intents_list,intents_json):\n",
    "    print('intents_list',intents_list)\n",
    "    tag = intents_list[0]['intent']\n",
    "    list_of_intents = intents_json ['intents']\n",
    "    result = \"\"\n",
    "    for i in list_of_intents:\n",
    "        if i['tag'] == tag:\n",
    "            result = random.choice(i['responses'])\n",
    "            break\n",
    "    return result\n",
    "\n",
    "print (\"Esta vivo!\")"
   ]
  },
  {
   "cell_type": "code",
   "execution_count": 24,
   "metadata": {},
   "outputs": [],
   "source": [
    "\n",
    "\n",
    "# while True:\n",
    "#     message = \"\"\n",
    "#     ints = predict_clases(message)\n",
    "#     res = get_response(ints , intents)\n",
    "#     print(res)\n",
    "\n",
    "#     # if message == 'salir':\n",
    "    #     C=False\n"
   ]
  },
  {
   "cell_type": "code",
   "execution_count": 25,
   "metadata": {},
   "outputs": [],
   "source": [
    "# message = \"whats your name?\"\n",
    "\n",
    "# ints = predict_clases(message,model)\n",
    "# res = get_response(ints , intents)\n",
    "# print(res)"
   ]
  },
  {
   "cell_type": "code",
   "execution_count": 28,
   "metadata": {},
   "outputs": [
    {
     "name": "stdout",
     "output_type": "stream",
     "text": [
      "esto es message adios\n",
      "esto es message <keras.saving.legacy.saved_model.load.Chatbot_trainer object at 0x7f15e87bbe80>\n",
      "['adios']\n",
      "found in bag: adios\n",
      "[1 0 0 0 0 0 0 0 0 0 0 0 0 0 0 0 0 0 0 0 0 0 0 0 0 0 0 0 0 0 0 0 0 0 0 0 0\n",
      " 0 0 0 0 0 0 0 0 0 0 0 0 0 0 0 0]\n",
      "1/1 [==============================] - 0s 18ms/step\n",
      "esto es ints [{'intent': 'Despedida', 'probability': '1.0'}]\n",
      "intents_list [{'intent': 'Despedida', 'probability': '1.0'}]\n",
      "Ha sido un placer ayudarte, hasta la próxima!\n"
     ]
    }
   ],
   "source": [
    "message = \"adios\"\n",
    "print(\"esto es message\",message)\n",
    "print(\"esto es message\",model)\n",
    "\n",
    "ints = predict_clases(message,model)\n",
    "print(\"esto es ints\",ints)\n",
    "res = get_response(ints , intents)\n",
    "print(res)"
   ]
  },
  {
   "cell_type": "code",
   "execution_count": null,
   "metadata": {},
   "outputs": [],
   "source": []
  },
  {
   "cell_type": "code",
   "execution_count": null,
   "metadata": {},
   "outputs": [],
   "source": []
  }
 ],
 "metadata": {
  "kernelspec": {
   "display_name": "base",
   "language": "python",
   "name": "python3"
  },
  "language_info": {
   "codemirror_mode": {
    "name": "ipython",
    "version": 3
   },
   "file_extension": ".py",
   "mimetype": "text/x-python",
   "name": "python",
   "nbconvert_exporter": "python",
   "pygments_lexer": "ipython3",
   "version": "3.8.8"
  },
  "orig_nbformat": 4
 },
 "nbformat": 4,
 "nbformat_minor": 2
}
