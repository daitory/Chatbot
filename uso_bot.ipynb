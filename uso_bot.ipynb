{
 "cells": [
  {
   "cell_type": "code",
   "execution_count": 1,
   "metadata": {},
   "outputs": [],
   "source": [
    "import random\n",
    "import numpy as np\n",
    "import tensorflow as tf\n",
    "import json\n",
    "import pickle\n",
    "import nltk\n",
    "from nltk.stem import WordNetLemmatizer"
   ]
  },
  {
   "cell_type": "code",
   "execution_count": 2,
   "metadata": {},
   "outputs": [],
   "source": [
    "# gpus = tf.config.experimental.list_physical_devices('GPU')\n",
    "# if gpus:\n",
    "#   try:\n",
    "#     tf.config.experimental.set_virtual_device_configuration(\n",
    "#         gpus[0],[tf.config.experimental.VirtualDeviceConfiguration(memory_limit=6120)])\n",
    "#   except RuntimeError as e:\n",
    "#     print(e)"
   ]
  },
  {
   "cell_type": "code",
   "execution_count": 3,
   "metadata": {},
   "outputs": [],
   "source": [
    "lemmatizer=WordNetLemmatizer()\n",
    "data = open(\"intense_spanish.json\").read()\n",
    "intents = json.loads(data)\n",
    "words = pickle.load(open('words_spanish.pkl','rb'))\n",
    "clases = pickle.load(open('clases_spanish.pkl','rb'))\n",
    "model = tf.keras.models.load_model('Chatbot_base_spanish.tf')"
   ]
  },
  {
   "cell_type": "code",
   "execution_count": 4,
   "metadata": {},
   "outputs": [
    {
     "name": "stdout",
     "output_type": "stream",
     "text": [
      "Model: \"chatbot_trainer\"\n",
      "_________________________________________________________________\n",
      " Layer (type)                Output Shape              Param #   \n",
      "=================================================================\n",
      " flatten (Flatten)           multiple                  0         \n",
      "                                                                 \n",
      " dense (Dense)               multiple                  3456      \n",
      "                                                                 \n",
      " dropout (Dropout)           multiple                  0         \n",
      "                                                                 \n",
      " dense_1 (Dense)             multiple                  8256      \n",
      "                                                                 \n",
      " dropout_1 (Dropout)         multiple                  0         \n",
      "                                                                 \n",
      " dense_2 (Dense)             multiple                  195       \n",
      "                                                                 \n",
      "=================================================================\n",
      "Total params: 11,907\n",
      "Trainable params: 11,907\n",
      "Non-trainable params: 0\n",
      "_________________________________________________________________\n"
     ]
    }
   ],
   "source": [
    "model.summary()"
   ]
  },
  {
   "cell_type": "code",
   "execution_count": 5,
   "metadata": {},
   "outputs": [],
   "source": [
    "# model.predict([])"
   ]
  },
  {
   "cell_type": "code",
   "execution_count": 6,
   "metadata": {},
   "outputs": [],
   "source": [
    "def clean_up_sentences(sentence):\n",
    "    sentence_words = nltk.word_tokenize(sentence)\n",
    "    sentence_words = [lemmatizer.lemmatize(word)\n",
    "                      for word in sentence_words]\n",
    "    return sentence_words\n",
    "\n"
   ]
  },
  {
   "cell_type": "code",
   "execution_count": 7,
   "metadata": {},
   "outputs": [],
   "source": [
    "# this function will return 1 if the word is contained in our sentence and in the list previously defined \n",
    "def bow(sentence, words, show_details=True):\n",
    "    sentence_words = clean_up_sentences(sentence)\n",
    "    bag = [0]*len(words)\n",
    "    for s in sentence_words:\n",
    "        for i,w in enumerate(words):\n",
    "            if w == s:\n",
    "                bag[i] = 1\n",
    "                if show_details:\n",
    "                    print (\"found in bag: %s\" % w)\n",
    "    return(np.array(bag))\n"
   ]
  },
  {
   "cell_type": "code",
   "execution_count": 8,
   "metadata": {},
   "outputs": [],
   "source": [
    "# This function predicts a cleansed data with a mark in the bow (flag = 1 )\n",
    "# It also appends the class - tag in the clases list where it belongs \n",
    "def predict_clases(sentence,model):\n",
    "    print(clean_up_sentences(sentence))\n",
    "    p = bow(sentence,words,show_details=True)\n",
    "    \n",
    "    res = model.predict(np.array([p]))[0]\n",
    "    \n",
    "    ERROR_THRESHOLD=0.35#0.25\n",
    "    results = [[ i , r ] for i , r  in enumerate(res) if r>ERROR_THRESHOLD]\n",
    "    results.sort(key = lambda x : x[1], reverse=True)\n",
    "    return_list = []\n",
    "    for r in results:\n",
    "        return_list.append({\n",
    "            'intent' : clases[r[0]],\n",
    "            'probability': str(r[1])\n",
    "\n",
    "        } )\n",
    "        return return_list\n"
   ]
  },
  {
   "cell_type": "code",
   "execution_count": 9,
   "metadata": {},
   "outputs": [
    {
     "name": "stdout",
     "output_type": "stream",
     "text": [
      "Esta vivo!\n"
     ]
    }
   ],
   "source": [
    "# this function will print a random response in the class according the input that the user made\n",
    "def get_response(intents_list,intents_json):\n",
    "    tag = intents_list[0]['intent']\n",
    "    list_of_intents = intents_json ['intents']\n",
    "    result = \"\"\n",
    "    for i in list_of_intents:\n",
    "        if i['tag'] == tag:\n",
    "            result = random.choice(i['responses'])\n",
    "            break\n",
    "    return result\n",
    "\n",
    "print (\"Esta vivo!\")"
   ]
  },
  {
   "cell_type": "code",
   "execution_count": 10,
   "metadata": {},
   "outputs": [],
   "source": [
    "\n",
    "\n",
    "# while True:\n",
    "#     message = \"\"\n",
    "#     ints = predict_clases(message)\n",
    "#     res = get_response(ints , intents)\n",
    "#     print(res)\n",
    "\n",
    "#     # if message == 'salir':\n",
    "    #     C=False\n"
   ]
  },
  {
   "cell_type": "code",
   "execution_count": 11,
   "metadata": {},
   "outputs": [],
   "source": [
    "# message = \"whats your name?\"\n",
    "\n",
    "# ints = predict_clases(message,model)\n",
    "# res = get_response(ints , intents)\n",
    "# print(res)"
   ]
  },
  {
   "cell_type": "code",
   "execution_count": 17,
   "metadata": {},
   "outputs": [
    {
     "name": "stdout",
     "output_type": "stream",
     "text": [
      "['hola', 'buenas', 'tardes', ',', 'mucho', 'gusto', 'mi', 'nombre', 'e', 'maria', ',', 'quien', 'eres', 'tu', '?']\n",
      "found in bag: hola\n",
      "found in bag: buenas\n",
      "found in bag: nombre\n",
      "found in bag: e\n",
      "found in bag: tu\n",
      "1/1 [==============================] - 0s 12ms/step\n",
      "Llámame FINANCIALYTICS-BOT,soy bot de apoyo en Financialitica\n"
     ]
    }
   ],
   "source": [
    "message = \"hola buenas tardes , mucho gusto mi nombre es maria , quien eres tu  ?\"\n",
    "\n",
    "ints = predict_clases(message,model)\n",
    "res = get_response(ints , intents)\n",
    "print(res)"
   ]
  },
  {
   "cell_type": "code",
   "execution_count": null,
   "metadata": {},
   "outputs": [],
   "source": []
  },
  {
   "cell_type": "code",
   "execution_count": null,
   "metadata": {},
   "outputs": [],
   "source": []
  }
 ],
 "metadata": {
  "kernelspec": {
   "display_name": "base",
   "language": "python",
   "name": "python3"
  },
  "language_info": {
   "codemirror_mode": {
    "name": "ipython",
    "version": 3
   },
   "file_extension": ".py",
   "mimetype": "text/x-python",
   "name": "python",
   "nbconvert_exporter": "python",
   "pygments_lexer": "ipython3",
   "version": "3.8.8"
  },
  "orig_nbformat": 4
 },
 "nbformat": 4,
 "nbformat_minor": 2
}
