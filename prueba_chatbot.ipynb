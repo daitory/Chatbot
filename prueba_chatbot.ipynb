{
 "cells": [
  {
   "cell_type": "code",
   "execution_count": 1,
   "metadata": {},
   "outputs": [
    {
     "name": "stderr",
     "output_type": "stream",
     "text": [
      "[nltk_data] Downloading package punkt to /home/dai/nltk_data...\n",
      "[nltk_data]   Package punkt is already up-to-date!\n",
      "[nltk_data] Downloading package wordnet to /home/dai/nltk_data...\n",
      "[nltk_data]   Package wordnet is already up-to-date!\n"
     ]
    },
    {
     "data": {
      "text/plain": [
       "True"
      ]
     },
     "execution_count": 1,
     "metadata": {},
     "output_type": "execute_result"
    }
   ],
   "source": [
    "import random\n",
    "import json\n",
    "import nltk\n",
    "import pickle\n",
    "import numpy as np\n",
    "from nltk.stem import WordNetLemmatizer\n",
    "import tensorflow as tf\n",
    "nltk.download('punkt')\n",
    "nltk.download('wordnet')"
   ]
  },
  {
   "cell_type": "code",
   "execution_count": 2,
   "metadata": {},
   "outputs": [],
   "source": [
    "lemmantizer=WordNetLemmatizer()\n",
    "data = open(\"intense_spanish.json\").read()\n",
    "intents=json.loads(data)#json.loads(open(\"intense.json\"))"
   ]
  },
  {
   "cell_type": "code",
   "execution_count": 3,
   "metadata": {},
   "outputs": [
    {
     "name": "stdout",
     "output_type": "stream",
     "text": [
      "{'intents': [{'tag': 'saludos', 'patterns': ['hola', 'buenas', 'buenos dias', 'que tal?', '¿que tal?', 'klk', 'hi', 'hello'], 'responses': ['!hola¡', '!hola humano¡', 'buenas, ¿en qué puedo ayudarte?', 'hola, ¿en qué puedo ayudarte?', '¿en qué puedo ser útil?']}, {'tag': 'nombre', 'patterns': ['¿cómo te llamas?', '¿cuál es tu nombre?', '¿cómo puedo llamarte?', 'te llamas Robot?'], 'responses': ['me llamo FINANCIALYTICS-BOT, tu bot de apoyo en Financialitica', 'Llámame FINANCIALYTICS-BOT,soy bot de apoyo en Financialitica', 'soy tu bot de apoyo en Financialitica,FINANCIALYTICS-BOT']}, {'tag': 'edad', 'patterns': ['¿qué edad tienes?', '¿que edad tienes?', '¿cuál es tu edad?', 'edad?', 'los bots tienen edad?'], 'responses': ['mi creador tiene 34 años, yo tengo menos de 1', 'soy joven en edad humana, pero aprendo más rápido,tengo menos de 1 año']}]}\n"
     ]
    }
   ],
   "source": [
    "print(intents)"
   ]
  },
  {
   "cell_type": "code",
   "execution_count": 4,
   "metadata": {},
   "outputs": [
    {
     "name": "stdout",
     "output_type": "stream",
     "text": [
      "['hola', 'buenas', 'buenos dias', 'que tal?', '¿que tal?', 'klk', 'hi', 'hello']\n",
      "['¿cómo te llamas?', '¿cuál es tu nombre?', '¿cómo puedo llamarte?', 'te llamas Robot?']\n",
      "['¿qué edad tienes?', '¿que edad tienes?', '¿cuál es tu edad?', 'edad?', 'los bots tienen edad?']\n"
     ]
    }
   ],
   "source": [
    "for intent in intents['intents']:\n",
    "    print(intent['patterns'])"
   ]
  },
  {
   "cell_type": "code",
   "execution_count": 5,
   "metadata": {},
   "outputs": [],
   "source": [
    "words=[]\n",
    "clases=[]\n",
    "documents=[]\n",
    "ignore_letters=[\"?\",\"¿\",\"!\",\"¡\",\".\",\"-\",\"_\",\",\"]\n",
    "for intent in intents['intents']:\n",
    "    for pattern in intent['patterns']:\n",
    "        word_list=nltk.word_tokenize(pattern)\n",
    "        words.extend(word_list)\n",
    "        documents.append(((word_list),intent['tag']))\n",
    "\n",
    "\n",
    "        if intent['tag'] not in clases:\n",
    "            clases.append(intent['tag'])\n",
    "\n",
    "words = [lemmantizer.lemmatize(word) for word in words \n",
    "       if not word in ignore_letters]\n",
    "\n",
    "words = sorted( set(words))\n",
    "\n",
    "\n",
    "pickle.dump(words, open('words_spanish.pkl','wb'))\n",
    "pickle.dump(clases, open('clases_spanish.pkl','wb'))"
   ]
  },
  {
   "cell_type": "code",
   "execution_count": 6,
   "metadata": {},
   "outputs": [
    {
     "data": {
      "text/plain": [
       "[(['hola'], 'saludos'),\n",
       " (['buenas'], 'saludos'),\n",
       " (['buenos', 'dias'], 'saludos'),\n",
       " (['que', 'tal', '?'], 'saludos'),\n",
       " (['¿que', 'tal', '?'], 'saludos'),\n",
       " (['klk'], 'saludos'),\n",
       " (['hi'], 'saludos'),\n",
       " (['hello'], 'saludos'),\n",
       " (['¿cómo', 'te', 'llamas', '?'], 'nombre'),\n",
       " (['¿cuál', 'es', 'tu', 'nombre', '?'], 'nombre'),\n",
       " (['¿cómo', 'puedo', 'llamarte', '?'], 'nombre'),\n",
       " (['te', 'llamas', 'Robot', '?'], 'nombre'),\n",
       " (['¿qué', 'edad', 'tienes', '?'], 'edad'),\n",
       " (['¿que', 'edad', 'tienes', '?'], 'edad'),\n",
       " (['¿cuál', 'es', 'tu', 'edad', '?'], 'edad'),\n",
       " (['edad', '?'], 'edad'),\n",
       " (['los', 'bots', 'tienen', 'edad', '?'], 'edad')]"
      ]
     },
     "execution_count": 6,
     "metadata": {},
     "output_type": "execute_result"
    }
   ],
   "source": [
    "documents"
   ]
  },
  {
   "cell_type": "code",
   "execution_count": 7,
   "metadata": {},
   "outputs": [
    {
     "data": {
      "text/plain": [
       "['Robot',\n",
       " 'bot',\n",
       " 'buenas',\n",
       " 'buenos',\n",
       " 'dia',\n",
       " 'e',\n",
       " 'edad',\n",
       " 'hello',\n",
       " 'hi',\n",
       " 'hola',\n",
       " 'klk',\n",
       " 'llama',\n",
       " 'llamarte',\n",
       " 'los',\n",
       " 'nombre',\n",
       " 'puedo',\n",
       " 'que',\n",
       " 'tal',\n",
       " 'te',\n",
       " 'tienen',\n",
       " 'tienes',\n",
       " 'tu',\n",
       " '¿cuál',\n",
       " '¿cómo',\n",
       " '¿que',\n",
       " '¿qué']"
      ]
     },
     "execution_count": 7,
     "metadata": {},
     "output_type": "execute_result"
    }
   ],
   "source": [
    "words"
   ]
  },
  {
   "cell_type": "code",
   "execution_count": 8,
   "metadata": {},
   "outputs": [
    {
     "data": {
      "text/plain": [
       "['saludos', 'nombre', 'edad']"
      ]
     },
     "execution_count": 8,
     "metadata": {},
     "output_type": "execute_result"
    }
   ],
   "source": [
    "clases"
   ]
  },
  {
   "cell_type": "code",
   "execution_count": 9,
   "metadata": {},
   "outputs": [
    {
     "name": "stderr",
     "output_type": "stream",
     "text": [
      "<ipython-input-9-4aee5438df8c>:19: VisibleDeprecationWarning: Creating an ndarray from ragged nested sequences (which is a list-or-tuple of lists-or-tuples-or ndarrays with different lengths or shapes) is deprecated. If you meant to do this, you must specify 'dtype=object' when creating the ndarray.\n",
      "  training= np.array(training)\n"
     ]
    }
   ],
   "source": [
    "#one hot encoding \n",
    "\n",
    "\n",
    "training=[]\n",
    "output_empty=[0]*len(clases)\n",
    "\n",
    "for document in documents:\n",
    "    bag=[]\n",
    "    word_patterns = document[0]\n",
    "    word_patterns = [lemmantizer.lemmatize(word.lower()) for word in word_patterns]\n",
    "    for word in words:\n",
    "        bag.append(1) if word in word_patterns else bag.append(0)\n",
    "    \n",
    "\n",
    "    output_row = list(output_empty) #making a copy of output_empty\n",
    "    output_row[clases.index(document[1])] = 1\n",
    "    training.append([bag,output_row])\n",
    "random.shuffle(training)\n",
    "training= np.array(training)\n",
    "\n",
    "\n",
    "train_x = list(training[:,0])\n",
    "train_y = list(training[:,1])"
   ]
  },
  {
   "cell_type": "code",
   "execution_count": 10,
   "metadata": {},
   "outputs": [
    {
     "data": {
      "text/plain": [
       "[0, 0, 0, 0, 0, 0, 0, 0, 0, 0, 0, 0, 0, 0, 0, 0, 0, 1, 0, 0, 0, 0, 0, 0, 1, 0]"
      ]
     },
     "execution_count": 10,
     "metadata": {},
     "output_type": "execute_result"
    }
   ],
   "source": [
    "train_x[0]"
   ]
  },
  {
   "cell_type": "code",
   "execution_count": 11,
   "metadata": {},
   "outputs": [
    {
     "data": {
      "text/plain": [
       "array([[1, 0, 0],\n",
       "       [0, 1, 0],\n",
       "       [0, 0, 1],\n",
       "       [1, 0, 0],\n",
       "       [0, 1, 0],\n",
       "       [0, 0, 1],\n",
       "       [0, 1, 0],\n",
       "       [1, 0, 0],\n",
       "       [0, 0, 1],\n",
       "       [0, 0, 1],\n",
       "       [1, 0, 0],\n",
       "       [1, 0, 0],\n",
       "       [0, 0, 1],\n",
       "       [0, 1, 0],\n",
       "       [1, 0, 0],\n",
       "       [1, 0, 0],\n",
       "       [1, 0, 0]])"
      ]
     },
     "execution_count": 11,
     "metadata": {},
     "output_type": "execute_result"
    }
   ],
   "source": [
    "(np.array(train_y))"
   ]
  },
  {
   "cell_type": "code",
   "execution_count": null,
   "metadata": {},
   "outputs": [],
   "source": []
  },
  {
   "cell_type": "code",
   "execution_count": 12,
   "metadata": {},
   "outputs": [],
   "source": [
    "class Chatbot_trainer(tf.keras.Model):\n",
    "    def __init__(self,num_classes=3,activation='relu',units=128,**kwargs):\n",
    "        super().__init__(**kwargs)\n",
    "        \n",
    "        self.num_classes=num_classes\n",
    "        # self.inputs=tf.keras.Input(shape=(26,))\n",
    "        self.flat=tf.keras.layers.Flatten()        \n",
    "        self.dense1=tf.keras.layers.Dense(units,activation=activation)\n",
    "        self.dropout1=tf.keras.layers.Dropout(0.5)\n",
    "        self.dense2=tf.keras.layers.Dense((units/2), activation=activation)\n",
    "        self.dropout2=tf.keras.layers.Dropout(0.2)\n",
    "        self.dense3=tf.keras.layers.Dense(self.num_classes, activation='softmax')\n",
    "        \n",
    "\n",
    "\n",
    "\n",
    "    def call(self,inputs):\n",
    "        # input=self.input_base(input_shape=(len(input_length[0]),))\n",
    "        # input1=self.inputs()\n",
    "        x = self.flat(inputs)\n",
    "        x = self.dense1(x)\n",
    "        x = self.dropout1(x)\n",
    "        x = self.dense2(x)\n",
    "        x = self.dropout2(x)\n",
    "        output = self.dense3(x)\n",
    "\n",
    "        return  output\n",
    "\n",
    "\n",
    "\n",
    "        "
   ]
  },
  {
   "cell_type": "code",
   "execution_count": 13,
   "metadata": {},
   "outputs": [],
   "source": [
    "model=Chatbot_trainer(num_classes=3)\n",
    "model.compile(optimizer=tf.keras.optimizers.experimental.SGD(learning_rate=0.01,weight_decay=1e-6,momentum=0.90,nesterov=True),loss=tf.keras.losses.CategoricalCrossentropy(),metrics=['accuracy'])\n",
    "\n"
   ]
  },
  {
   "cell_type": "code",
   "execution_count": 14,
   "metadata": {},
   "outputs": [
    {
     "name": "stdout",
     "output_type": "stream",
     "text": [
      "Epoch 1/400\n",
      "9/9 [==============================] - 2s 4ms/step - loss: 1.0879 - accuracy: 0.3529 \n",
      "Epoch 2/400\n",
      "9/9 [==============================] - 0s 4ms/step - loss: 0.9757 - accuracy: 0.7059\n",
      "Epoch 3/400\n",
      "9/9 [==============================] - 0s 3ms/step - loss: 0.8829 - accuracy: 0.7647\n",
      "Epoch 4/400\n",
      "9/9 [==============================] - 0s 3ms/step - loss: 0.7988 - accuracy: 0.7647\n",
      "Epoch 5/400\n",
      "9/9 [==============================] - 0s 3ms/step - loss: 0.5887 - accuracy: 0.8824\n",
      "Epoch 6/400\n",
      "9/9 [==============================] - 0s 3ms/step - loss: 0.4235 - accuracy: 1.0000\n",
      "Epoch 7/400\n",
      "9/9 [==============================] - 0s 3ms/step - loss: 0.4168 - accuracy: 1.0000\n",
      "Epoch 8/400\n",
      "9/9 [==============================] - 0s 3ms/step - loss: 0.2144 - accuracy: 1.0000\n",
      "Epoch 9/400\n",
      "9/9 [==============================] - 0s 3ms/step - loss: 0.2055 - accuracy: 0.9412\n",
      "Epoch 10/400\n",
      "9/9 [==============================] - 0s 3ms/step - loss: 0.1233 - accuracy: 1.0000\n",
      "Epoch 11/400\n",
      "9/9 [==============================] - 0s 3ms/step - loss: 0.0956 - accuracy: 1.0000\n",
      "Epoch 12/400\n",
      "9/9 [==============================] - 0s 3ms/step - loss: 0.0965 - accuracy: 1.0000\n",
      "Epoch 13/400\n",
      "9/9 [==============================] - 0s 3ms/step - loss: 0.0810 - accuracy: 1.0000\n",
      "Epoch 14/400\n",
      "9/9 [==============================] - 0s 3ms/step - loss: 0.0574 - accuracy: 1.0000\n",
      "Epoch 15/400\n",
      "9/9 [==============================] - 0s 3ms/step - loss: 0.0633 - accuracy: 1.0000\n",
      "Epoch 16/400\n",
      "9/9 [==============================] - 0s 4ms/step - loss: 0.0307 - accuracy: 1.0000\n",
      "Epoch 17/400\n",
      "9/9 [==============================] - 0s 4ms/step - loss: 0.0243 - accuracy: 1.0000\n",
      "Epoch 18/400\n",
      "9/9 [==============================] - 0s 3ms/step - loss: 0.0513 - accuracy: 1.0000\n",
      "Epoch 19/400\n",
      "9/9 [==============================] - 0s 3ms/step - loss: 0.0129 - accuracy: 1.0000\n",
      "Epoch 20/400\n",
      "9/9 [==============================] - 0s 3ms/step - loss: 0.0308 - accuracy: 1.0000\n",
      "Epoch 21/400\n",
      "9/9 [==============================] - 0s 3ms/step - loss: 0.0643 - accuracy: 1.0000\n",
      "Epoch 22/400\n",
      "9/9 [==============================] - 0s 3ms/step - loss: 0.0241 - accuracy: 1.0000\n",
      "Epoch 23/400\n",
      "9/9 [==============================] - 0s 3ms/step - loss: 0.0108 - accuracy: 1.0000\n",
      "Epoch 24/400\n",
      "9/9 [==============================] - 0s 3ms/step - loss: 0.0321 - accuracy: 1.0000\n",
      "Epoch 25/400\n",
      "9/9 [==============================] - 0s 3ms/step - loss: 0.0408 - accuracy: 1.0000\n",
      "Epoch 26/400\n",
      "9/9 [==============================] - 0s 3ms/step - loss: 0.0101 - accuracy: 1.0000\n",
      "Epoch 27/400\n",
      "9/9 [==============================] - 0s 3ms/step - loss: 0.0111 - accuracy: 1.0000\n",
      "Epoch 28/400\n",
      "9/9 [==============================] - 0s 3ms/step - loss: 0.0117 - accuracy: 1.0000\n",
      "Epoch 29/400\n",
      "9/9 [==============================] - 0s 3ms/step - loss: 0.0102 - accuracy: 1.0000\n",
      "Epoch 30/400\n",
      "9/9 [==============================] - 0s 3ms/step - loss: 0.0075 - accuracy: 1.0000\n",
      "Epoch 31/400\n",
      "9/9 [==============================] - 0s 3ms/step - loss: 0.0045 - accuracy: 1.0000\n",
      "Epoch 32/400\n",
      "9/9 [==============================] - 0s 3ms/step - loss: 0.0044 - accuracy: 1.0000\n",
      "Epoch 33/400\n",
      "9/9 [==============================] - 0s 3ms/step - loss: 0.0299 - accuracy: 1.0000\n",
      "Epoch 34/400\n",
      "9/9 [==============================] - 0s 3ms/step - loss: 0.0090 - accuracy: 1.0000\n",
      "Epoch 35/400\n",
      "9/9 [==============================] - 0s 3ms/step - loss: 0.0136 - accuracy: 1.0000\n",
      "Epoch 36/400\n",
      "9/9 [==============================] - 0s 4ms/step - loss: 0.0060 - accuracy: 1.0000\n",
      "Epoch 37/400\n",
      "9/9 [==============================] - 0s 3ms/step - loss: 0.0119 - accuracy: 1.0000\n",
      "Epoch 38/400\n",
      "9/9 [==============================] - 0s 3ms/step - loss: 0.0042 - accuracy: 1.0000\n",
      "Epoch 39/400\n",
      "9/9 [==============================] - 0s 3ms/step - loss: 0.0466 - accuracy: 1.0000\n",
      "Epoch 40/400\n",
      "9/9 [==============================] - 0s 3ms/step - loss: 0.0129 - accuracy: 1.0000\n",
      "Epoch 41/400\n",
      "9/9 [==============================] - 0s 3ms/step - loss: 0.0202 - accuracy: 1.0000\n",
      "Epoch 42/400\n",
      "9/9 [==============================] - 0s 3ms/step - loss: 0.0050 - accuracy: 1.0000\n",
      "Epoch 43/400\n",
      "9/9 [==============================] - 0s 3ms/step - loss: 0.0064 - accuracy: 1.0000\n",
      "Epoch 44/400\n",
      "9/9 [==============================] - 0s 3ms/step - loss: 0.0089 - accuracy: 1.0000\n",
      "Epoch 45/400\n",
      "9/9 [==============================] - 0s 3ms/step - loss: 0.0094 - accuracy: 1.0000\n",
      "Epoch 46/400\n",
      "9/9 [==============================] - 0s 3ms/step - loss: 0.0203 - accuracy: 1.0000\n",
      "Epoch 47/400\n",
      "9/9 [==============================] - 0s 5ms/step - loss: 0.0052 - accuracy: 1.0000\n",
      "Epoch 48/400\n",
      "9/9 [==============================] - 0s 3ms/step - loss: 0.0113 - accuracy: 1.0000\n",
      "Epoch 49/400\n",
      "9/9 [==============================] - 0s 3ms/step - loss: 0.0548 - accuracy: 0.9412\n",
      "Epoch 50/400\n",
      "9/9 [==============================] - 0s 3ms/step - loss: 0.0028 - accuracy: 1.0000\n",
      "Epoch 51/400\n",
      "9/9 [==============================] - 0s 3ms/step - loss: 0.0050 - accuracy: 1.0000\n",
      "Epoch 52/400\n",
      "9/9 [==============================] - 0s 3ms/step - loss: 0.0057 - accuracy: 1.0000\n",
      "Epoch 53/400\n",
      "9/9 [==============================] - 0s 3ms/step - loss: 0.0040 - accuracy: 1.0000\n",
      "Epoch 54/400\n",
      "9/9 [==============================] - 0s 3ms/step - loss: 0.0346 - accuracy: 1.0000\n",
      "Epoch 55/400\n",
      "9/9 [==============================] - 0s 3ms/step - loss: 0.0051 - accuracy: 1.0000\n",
      "Epoch 56/400\n",
      "9/9 [==============================] - 0s 3ms/step - loss: 0.0059 - accuracy: 1.0000\n",
      "Epoch 57/400\n",
      "9/9 [==============================] - 0s 3ms/step - loss: 0.0016 - accuracy: 1.0000\n",
      "Epoch 58/400\n",
      "9/9 [==============================] - 0s 3ms/step - loss: 0.0046 - accuracy: 1.0000\n",
      "Epoch 59/400\n",
      "9/9 [==============================] - 0s 3ms/step - loss: 0.0098 - accuracy: 1.0000\n",
      "Epoch 60/400\n",
      "9/9 [==============================] - 0s 3ms/step - loss: 0.0024 - accuracy: 1.0000\n",
      "Epoch 61/400\n",
      "9/9 [==============================] - 0s 3ms/step - loss: 0.0015 - accuracy: 1.0000\n",
      "Epoch 62/400\n",
      "9/9 [==============================] - 0s 2ms/step - loss: 0.0143 - accuracy: 1.0000\n",
      "Epoch 63/400\n",
      "9/9 [==============================] - 0s 3ms/step - loss: 0.0013 - accuracy: 1.0000\n",
      "Epoch 64/400\n",
      "9/9 [==============================] - 0s 3ms/step - loss: 0.0035 - accuracy: 1.0000\n",
      "Epoch 65/400\n",
      "9/9 [==============================] - 0s 2ms/step - loss: 0.0011 - accuracy: 1.0000\n",
      "Epoch 66/400\n",
      "9/9 [==============================] - 0s 3ms/step - loss: 0.0081 - accuracy: 1.0000\n",
      "Epoch 67/400\n",
      "9/9 [==============================] - 0s 3ms/step - loss: 0.0015 - accuracy: 1.0000\n",
      "Epoch 68/400\n",
      "9/9 [==============================] - 0s 3ms/step - loss: 8.6788e-04 - accuracy: 1.0000\n",
      "Epoch 69/400\n",
      "9/9 [==============================] - 0s 3ms/step - loss: 0.0016 - accuracy: 1.0000\n",
      "Epoch 70/400\n",
      "9/9 [==============================] - 0s 3ms/step - loss: 0.0047 - accuracy: 1.0000\n",
      "Epoch 71/400\n",
      "9/9 [==============================] - 0s 2ms/step - loss: 0.0116 - accuracy: 1.0000\n",
      "Epoch 72/400\n",
      "9/9 [==============================] - 0s 3ms/step - loss: 0.0016 - accuracy: 1.0000\n",
      "Epoch 73/400\n",
      "9/9 [==============================] - 0s 3ms/step - loss: 0.0842 - accuracy: 0.9412\n",
      "Epoch 74/400\n",
      "9/9 [==============================] - 0s 5ms/step - loss: 0.0069 - accuracy: 1.0000\n",
      "Epoch 75/400\n",
      "9/9 [==============================] - 0s 3ms/step - loss: 0.0017 - accuracy: 1.0000\n",
      "Epoch 76/400\n",
      "9/9 [==============================] - 0s 4ms/step - loss: 0.0109 - accuracy: 1.0000\n",
      "Epoch 77/400\n",
      "9/9 [==============================] - 0s 3ms/step - loss: 0.0363 - accuracy: 1.0000\n",
      "Epoch 78/400\n",
      "9/9 [==============================] - 0s 3ms/step - loss: 0.0147 - accuracy: 1.0000\n",
      "Epoch 79/400\n",
      "9/9 [==============================] - 0s 3ms/step - loss: 4.9822e-04 - accuracy: 1.0000\n",
      "Epoch 80/400\n",
      "9/9 [==============================] - 0s 3ms/step - loss: 0.0076 - accuracy: 1.0000\n",
      "Epoch 81/400\n",
      "9/9 [==============================] - 0s 3ms/step - loss: 0.0046 - accuracy: 1.0000\n",
      "Epoch 82/400\n",
      "9/9 [==============================] - 0s 3ms/step - loss: 8.8980e-04 - accuracy: 1.0000\n",
      "Epoch 83/400\n",
      "9/9 [==============================] - 0s 2ms/step - loss: 0.0033 - accuracy: 1.0000\n",
      "Epoch 84/400\n",
      "9/9 [==============================] - 0s 3ms/step - loss: 0.0013 - accuracy: 1.0000\n",
      "Epoch 85/400\n",
      "9/9 [==============================] - 0s 3ms/step - loss: 0.0013 - accuracy: 1.0000\n",
      "Epoch 86/400\n",
      "9/9 [==============================] - 0s 3ms/step - loss: 0.0034 - accuracy: 1.0000\n",
      "Epoch 87/400\n",
      "9/9 [==============================] - 0s 3ms/step - loss: 0.0027 - accuracy: 1.0000\n",
      "Epoch 88/400\n",
      "9/9 [==============================] - 0s 2ms/step - loss: 0.0025 - accuracy: 1.0000\n",
      "Epoch 89/400\n",
      "9/9 [==============================] - 0s 3ms/step - loss: 0.0025 - accuracy: 1.0000\n",
      "Epoch 90/400\n",
      "9/9 [==============================] - 0s 3ms/step - loss: 0.0021 - accuracy: 1.0000\n",
      "Epoch 91/400\n",
      "9/9 [==============================] - 0s 3ms/step - loss: 8.8804e-04 - accuracy: 1.0000\n",
      "Epoch 92/400\n",
      "9/9 [==============================] - 0s 2ms/step - loss: 0.0039 - accuracy: 1.0000\n",
      "Epoch 93/400\n",
      "9/9 [==============================] - 0s 3ms/step - loss: 0.0011 - accuracy: 1.0000\n",
      "Epoch 94/400\n",
      "9/9 [==============================] - 0s 3ms/step - loss: 0.0039 - accuracy: 1.0000\n",
      "Epoch 95/400\n",
      "9/9 [==============================] - 0s 2ms/step - loss: 0.0021 - accuracy: 1.0000\n",
      "Epoch 96/400\n",
      "9/9 [==============================] - 0s 3ms/step - loss: 0.0019 - accuracy: 1.0000\n",
      "Epoch 97/400\n",
      "9/9 [==============================] - 0s 4ms/step - loss: 0.0014 - accuracy: 1.0000\n",
      "Epoch 98/400\n",
      "9/9 [==============================] - 0s 3ms/step - loss: 4.4109e-04 - accuracy: 1.0000\n",
      "Epoch 99/400\n",
      "9/9 [==============================] - 0s 3ms/step - loss: 0.0053 - accuracy: 1.0000\n",
      "Epoch 100/400\n",
      "9/9 [==============================] - 0s 3ms/step - loss: 0.0066 - accuracy: 1.0000\n",
      "Epoch 101/400\n",
      "9/9 [==============================] - 0s 2ms/step - loss: 0.0060 - accuracy: 1.0000\n",
      "Epoch 102/400\n",
      "9/9 [==============================] - 0s 3ms/step - loss: 0.0057 - accuracy: 1.0000\n",
      "Epoch 103/400\n",
      "9/9 [==============================] - 0s 3ms/step - loss: 0.0023 - accuracy: 1.0000\n",
      "Epoch 104/400\n",
      "9/9 [==============================] - 0s 2ms/step - loss: 0.0025 - accuracy: 1.0000\n",
      "Epoch 105/400\n",
      "9/9 [==============================] - 0s 3ms/step - loss: 5.2519e-04 - accuracy: 1.0000\n",
      "Epoch 106/400\n",
      "9/9 [==============================] - 0s 2ms/step - loss: 0.0128 - accuracy: 1.0000\n",
      "Epoch 107/400\n",
      "9/9 [==============================] - 0s 3ms/step - loss: 9.1998e-04 - accuracy: 1.0000\n",
      "Epoch 108/400\n",
      "9/9 [==============================] - 0s 3ms/step - loss: 0.0014 - accuracy: 1.0000\n",
      "Epoch 109/400\n",
      "9/9 [==============================] - 0s 3ms/step - loss: 5.6840e-04 - accuracy: 1.0000\n",
      "Epoch 110/400\n",
      "9/9 [==============================] - 0s 3ms/step - loss: 6.8663e-04 - accuracy: 1.0000\n",
      "Epoch 111/400\n",
      "9/9 [==============================] - 0s 3ms/step - loss: 0.0014 - accuracy: 1.0000\n",
      "Epoch 112/400\n",
      "9/9 [==============================] - 0s 3ms/step - loss: 0.0018 - accuracy: 1.0000\n",
      "Epoch 113/400\n",
      "9/9 [==============================] - 0s 3ms/step - loss: 0.0018 - accuracy: 1.0000\n",
      "Epoch 114/400\n",
      "9/9 [==============================] - 0s 3ms/step - loss: 2.9211e-04 - accuracy: 1.0000\n",
      "Epoch 115/400\n",
      "9/9 [==============================] - 0s 2ms/step - loss: 0.0027 - accuracy: 1.0000\n",
      "Epoch 116/400\n",
      "9/9 [==============================] - 0s 3ms/step - loss: 0.0025 - accuracy: 1.0000\n",
      "Epoch 117/400\n",
      "9/9 [==============================] - 0s 2ms/step - loss: 0.0031 - accuracy: 1.0000\n",
      "Epoch 118/400\n",
      "9/9 [==============================] - 0s 3ms/step - loss: 0.0023 - accuracy: 1.0000\n",
      "Epoch 119/400\n",
      "9/9 [==============================] - 0s 3ms/step - loss: 0.0038 - accuracy: 1.0000\n",
      "Epoch 120/400\n",
      "9/9 [==============================] - 0s 3ms/step - loss: 0.0020 - accuracy: 1.0000\n",
      "Epoch 121/400\n",
      "9/9 [==============================] - 0s 3ms/step - loss: 0.0015 - accuracy: 1.0000\n",
      "Epoch 122/400\n",
      "9/9 [==============================] - 0s 3ms/step - loss: 0.0037 - accuracy: 1.0000\n",
      "Epoch 123/400\n",
      "9/9 [==============================] - 0s 3ms/step - loss: 0.0015 - accuracy: 1.0000\n",
      "Epoch 124/400\n",
      "9/9 [==============================] - 0s 4ms/step - loss: 0.0031 - accuracy: 1.0000\n",
      "Epoch 125/400\n",
      "9/9 [==============================] - 0s 3ms/step - loss: 2.7739e-04 - accuracy: 1.0000\n",
      "Epoch 126/400\n",
      "9/9 [==============================] - 0s 3ms/step - loss: 6.7541e-04 - accuracy: 1.0000\n",
      "Epoch 127/400\n",
      "9/9 [==============================] - 0s 2ms/step - loss: 0.0021 - accuracy: 1.0000\n",
      "Epoch 128/400\n",
      "9/9 [==============================] - 0s 2ms/step - loss: 4.0414e-04 - accuracy: 1.0000\n",
      "Epoch 129/400\n",
      "9/9 [==============================] - 0s 2ms/step - loss: 0.0024 - accuracy: 1.0000\n",
      "Epoch 130/400\n",
      "9/9 [==============================] - 0s 3ms/step - loss: 1.0893e-04 - accuracy: 1.0000\n",
      "Epoch 131/400\n",
      "9/9 [==============================] - 0s 3ms/step - loss: 6.3021e-04 - accuracy: 1.0000\n",
      "Epoch 132/400\n",
      "9/9 [==============================] - 0s 3ms/step - loss: 9.9629e-04 - accuracy: 1.0000\n",
      "Epoch 133/400\n",
      "9/9 [==============================] - 0s 2ms/step - loss: 0.0043 - accuracy: 1.0000\n",
      "Epoch 134/400\n",
      "9/9 [==============================] - 0s 3ms/step - loss: 8.7930e-04 - accuracy: 1.0000\n",
      "Epoch 135/400\n",
      "9/9 [==============================] - 0s 2ms/step - loss: 2.9470e-04 - accuracy: 1.0000\n",
      "Epoch 136/400\n",
      "9/9 [==============================] - 0s 3ms/step - loss: 0.0022 - accuracy: 1.0000\n",
      "Epoch 137/400\n",
      "9/9 [==============================] - 0s 3ms/step - loss: 0.0015 - accuracy: 1.0000\n",
      "Epoch 138/400\n",
      "9/9 [==============================] - 0s 3ms/step - loss: 6.6563e-04 - accuracy: 1.0000\n",
      "Epoch 139/400\n",
      "9/9 [==============================] - 0s 3ms/step - loss: 0.0013 - accuracy: 1.0000\n",
      "Epoch 140/400\n",
      "9/9 [==============================] - 0s 3ms/step - loss: 0.0011 - accuracy: 1.0000\n",
      "Epoch 141/400\n",
      "9/9 [==============================] - 0s 3ms/step - loss: 0.0011 - accuracy: 1.0000\n",
      "Epoch 142/400\n",
      "9/9 [==============================] - 0s 3ms/step - loss: 8.6694e-04 - accuracy: 1.0000\n",
      "Epoch 143/400\n",
      "9/9 [==============================] - 0s 3ms/step - loss: 3.5737e-04 - accuracy: 1.0000\n",
      "Epoch 144/400\n",
      "9/9 [==============================] - 0s 3ms/step - loss: 6.1836e-04 - accuracy: 1.0000\n",
      "Epoch 145/400\n",
      "9/9 [==============================] - 0s 2ms/step - loss: 0.0314 - accuracy: 1.0000\n",
      "Epoch 146/400\n",
      "9/9 [==============================] - 0s 3ms/step - loss: 8.4689e-04 - accuracy: 1.0000\n",
      "Epoch 147/400\n",
      "9/9 [==============================] - 0s 5ms/step - loss: 2.8549e-04 - accuracy: 1.0000\n",
      "Epoch 148/400\n",
      "9/9 [==============================] - 0s 3ms/step - loss: 0.0021 - accuracy: 1.0000\n",
      "Epoch 149/400\n",
      "9/9 [==============================] - 0s 3ms/step - loss: 7.4697e-04 - accuracy: 1.0000\n",
      "Epoch 150/400\n",
      "9/9 [==============================] - 0s 3ms/step - loss: 8.9774e-04 - accuracy: 1.0000\n",
      "Epoch 151/400\n",
      "9/9 [==============================] - 0s 3ms/step - loss: 0.0088 - accuracy: 1.0000\n",
      "Epoch 152/400\n",
      "9/9 [==============================] - 0s 3ms/step - loss: 0.0013 - accuracy: 1.0000\n",
      "Epoch 153/400\n",
      "9/9 [==============================] - 0s 3ms/step - loss: 0.0023 - accuracy: 1.0000\n",
      "Epoch 154/400\n",
      "9/9 [==============================] - 0s 2ms/step - loss: 2.4935e-04 - accuracy: 1.0000\n",
      "Epoch 155/400\n",
      "9/9 [==============================] - 0s 3ms/step - loss: 4.0843e-04 - accuracy: 1.0000\n",
      "Epoch 156/400\n",
      "9/9 [==============================] - 0s 3ms/step - loss: 6.8008e-04 - accuracy: 1.0000\n",
      "Epoch 157/400\n",
      "9/9 [==============================] - 0s 3ms/step - loss: 0.0017 - accuracy: 1.0000\n",
      "Epoch 158/400\n",
      "9/9 [==============================] - 0s 3ms/step - loss: 0.0011 - accuracy: 1.0000\n",
      "Epoch 159/400\n",
      "9/9 [==============================] - 0s 2ms/step - loss: 8.9177e-04 - accuracy: 1.0000\n",
      "Epoch 160/400\n",
      "9/9 [==============================] - 0s 4ms/step - loss: 6.0631e-04 - accuracy: 1.0000\n",
      "Epoch 161/400\n",
      "9/9 [==============================] - 0s 3ms/step - loss: 0.0030 - accuracy: 1.0000\n",
      "Epoch 162/400\n",
      "9/9 [==============================] - 0s 3ms/step - loss: 0.0025 - accuracy: 1.0000\n",
      "Epoch 163/400\n",
      "9/9 [==============================] - 0s 2ms/step - loss: 4.1578e-04 - accuracy: 1.0000\n",
      "Epoch 164/400\n",
      "9/9 [==============================] - 0s 3ms/step - loss: 0.0017 - accuracy: 1.0000\n",
      "Epoch 165/400\n",
      "9/9 [==============================] - 0s 3ms/step - loss: 7.5146e-04 - accuracy: 1.0000\n",
      "Epoch 166/400\n",
      "9/9 [==============================] - 0s 2ms/step - loss: 0.0011 - accuracy: 1.0000\n",
      "Epoch 167/400\n",
      "9/9 [==============================] - 0s 3ms/step - loss: 0.0027 - accuracy: 1.0000\n",
      "Epoch 168/400\n",
      "9/9 [==============================] - 0s 3ms/step - loss: 0.0026 - accuracy: 1.0000\n",
      "Epoch 169/400\n",
      "9/9 [==============================] - 0s 4ms/step - loss: 6.5342e-04 - accuracy: 1.0000\n",
      "Epoch 170/400\n",
      "9/9 [==============================] - 0s 3ms/step - loss: 0.0134 - accuracy: 1.0000\n",
      "Epoch 171/400\n",
      "9/9 [==============================] - 0s 3ms/step - loss: 0.0016 - accuracy: 1.0000\n",
      "Epoch 172/400\n",
      "9/9 [==============================] - 0s 3ms/step - loss: 6.5618e-04 - accuracy: 1.0000\n",
      "Epoch 173/400\n",
      "9/9 [==============================] - 0s 2ms/step - loss: 0.0028 - accuracy: 1.0000\n",
      "Epoch 174/400\n",
      "9/9 [==============================] - 0s 3ms/step - loss: 7.6065e-04 - accuracy: 1.0000\n",
      "Epoch 175/400\n",
      "9/9 [==============================] - 0s 2ms/step - loss: 1.7998e-04 - accuracy: 1.0000\n",
      "Epoch 176/400\n",
      "9/9 [==============================] - 0s 3ms/step - loss: 0.0063 - accuracy: 1.0000\n",
      "Epoch 177/400\n",
      "9/9 [==============================] - 0s 2ms/step - loss: 0.0014 - accuracy: 1.0000\n",
      "Epoch 178/400\n",
      "9/9 [==============================] - 0s 3ms/step - loss: 0.0554 - accuracy: 0.9412\n",
      "Epoch 179/400\n",
      "9/9 [==============================] - 0s 3ms/step - loss: 0.0017 - accuracy: 1.0000\n",
      "Epoch 180/400\n",
      "9/9 [==============================] - 0s 3ms/step - loss: 9.3472e-04 - accuracy: 1.0000\n",
      "Epoch 181/400\n",
      "9/9 [==============================] - 0s 2ms/step - loss: 5.5711e-04 - accuracy: 1.0000\n",
      "Epoch 182/400\n",
      "9/9 [==============================] - 0s 3ms/step - loss: 4.7020e-04 - accuracy: 1.0000\n",
      "Epoch 183/400\n",
      "9/9 [==============================] - 0s 2ms/step - loss: 0.0013 - accuracy: 1.0000\n",
      "Epoch 184/400\n",
      "9/9 [==============================] - 0s 3ms/step - loss: 2.8406e-04 - accuracy: 1.0000\n",
      "Epoch 185/400\n",
      "9/9 [==============================] - 0s 3ms/step - loss: 3.1235e-04 - accuracy: 1.0000\n",
      "Epoch 186/400\n",
      "9/9 [==============================] - 0s 3ms/step - loss: 5.1872e-04 - accuracy: 1.0000\n",
      "Epoch 187/400\n",
      "9/9 [==============================] - 0s 3ms/step - loss: 0.0069 - accuracy: 1.0000\n",
      "Epoch 188/400\n",
      "9/9 [==============================] - 0s 2ms/step - loss: 1.3896e-04 - accuracy: 1.0000\n",
      "Epoch 189/400\n",
      "9/9 [==============================] - 0s 3ms/step - loss: 0.0013 - accuracy: 1.0000\n",
      "Epoch 190/400\n",
      "9/9 [==============================] - 0s 5ms/step - loss: 3.7516e-04 - accuracy: 1.0000\n",
      "Epoch 191/400\n",
      "9/9 [==============================] - 0s 4ms/step - loss: 0.0012 - accuracy: 1.0000\n",
      "Epoch 192/400\n",
      "9/9 [==============================] - 0s 3ms/step - loss: 0.0061 - accuracy: 1.0000\n",
      "Epoch 193/400\n",
      "9/9 [==============================] - 0s 3ms/step - loss: 9.4188e-04 - accuracy: 1.0000\n",
      "Epoch 194/400\n",
      "9/9 [==============================] - 0s 2ms/step - loss: 0.0052 - accuracy: 1.0000\n",
      "Epoch 195/400\n",
      "9/9 [==============================] - 0s 3ms/step - loss: 4.7725e-04 - accuracy: 1.0000\n",
      "Epoch 196/400\n",
      "9/9 [==============================] - 0s 3ms/step - loss: 0.0024 - accuracy: 1.0000\n",
      "Epoch 197/400\n",
      "9/9 [==============================] - 0s 2ms/step - loss: 0.0022 - accuracy: 1.0000\n",
      "Epoch 198/400\n",
      "9/9 [==============================] - 0s 3ms/step - loss: 7.5922e-04 - accuracy: 1.0000\n",
      "Epoch 199/400\n",
      "9/9 [==============================] - 0s 3ms/step - loss: 0.0017 - accuracy: 1.0000\n",
      "Epoch 200/400\n",
      "9/9 [==============================] - 0s 2ms/step - loss: 9.4669e-04 - accuracy: 1.0000\n",
      "Epoch 201/400\n",
      "9/9 [==============================] - 0s 3ms/step - loss: 5.8844e-04 - accuracy: 1.0000\n",
      "Epoch 202/400\n",
      "9/9 [==============================] - 0s 3ms/step - loss: 3.1008e-04 - accuracy: 1.0000\n",
      "Epoch 203/400\n",
      "9/9 [==============================] - 0s 2ms/step - loss: 0.0014 - accuracy: 1.0000\n",
      "Epoch 204/400\n",
      "9/9 [==============================] - 0s 3ms/step - loss: 4.2611e-04 - accuracy: 1.0000\n",
      "Epoch 205/400\n",
      "9/9 [==============================] - 0s 3ms/step - loss: 1.5389e-04 - accuracy: 1.0000\n",
      "Epoch 206/400\n",
      "9/9 [==============================] - 0s 3ms/step - loss: 4.0707e-04 - accuracy: 1.0000\n",
      "Epoch 207/400\n",
      "9/9 [==============================] - 0s 2ms/step - loss: 1.6595e-04 - accuracy: 1.0000\n",
      "Epoch 208/400\n",
      "9/9 [==============================] - 0s 3ms/step - loss: 4.8703e-04 - accuracy: 1.0000\n",
      "Epoch 209/400\n",
      "9/9 [==============================] - 0s 3ms/step - loss: 9.6841e-04 - accuracy: 1.0000\n",
      "Epoch 210/400\n",
      "9/9 [==============================] - 0s 2ms/step - loss: 2.8128e-04 - accuracy: 1.0000\n",
      "Epoch 211/400\n",
      "9/9 [==============================] - 0s 3ms/step - loss: 0.0012 - accuracy: 1.0000\n",
      "Epoch 212/400\n",
      "9/9 [==============================] - 0s 4ms/step - loss: 0.0031 - accuracy: 1.0000\n",
      "Epoch 213/400\n",
      "9/9 [==============================] - 0s 3ms/step - loss: 7.7770e-04 - accuracy: 1.0000\n",
      "Epoch 214/400\n",
      "9/9 [==============================] - 0s 2ms/step - loss: 0.0056 - accuracy: 1.0000\n",
      "Epoch 215/400\n",
      "9/9 [==============================] - 0s 2ms/step - loss: 4.7565e-04 - accuracy: 1.0000\n",
      "Epoch 216/400\n",
      "9/9 [==============================] - 0s 3ms/step - loss: 3.7288e-04 - accuracy: 1.0000\n",
      "Epoch 217/400\n",
      "9/9 [==============================] - 0s 3ms/step - loss: 0.0023 - accuracy: 1.0000\n",
      "Epoch 218/400\n",
      "9/9 [==============================] - 0s 3ms/step - loss: 0.0014 - accuracy: 1.0000\n",
      "Epoch 219/400\n",
      "9/9 [==============================] - 0s 3ms/step - loss: 1.6408e-04 - accuracy: 1.0000\n",
      "Epoch 220/400\n",
      "9/9 [==============================] - 0s 3ms/step - loss: 5.8198e-04 - accuracy: 1.0000\n",
      "Epoch 221/400\n",
      "9/9 [==============================] - 0s 2ms/step - loss: 0.0010 - accuracy: 1.0000\n",
      "Epoch 222/400\n",
      "9/9 [==============================] - 0s 3ms/step - loss: 1.8609e-04 - accuracy: 1.0000\n",
      "Epoch 223/400\n",
      "9/9 [==============================] - 0s 3ms/step - loss: 1.6130e-04 - accuracy: 1.0000\n",
      "Epoch 224/400\n",
      "9/9 [==============================] - 0s 3ms/step - loss: 4.0149e-04 - accuracy: 1.0000\n",
      "Epoch 225/400\n",
      "9/9 [==============================] - 0s 4ms/step - loss: 0.0066 - accuracy: 1.0000\n",
      "Epoch 226/400\n",
      "9/9 [==============================] - 0s 3ms/step - loss: 2.0245e-04 - accuracy: 1.0000\n",
      "Epoch 227/400\n",
      "9/9 [==============================] - 0s 3ms/step - loss: 0.0025 - accuracy: 1.0000\n",
      "Epoch 228/400\n",
      "9/9 [==============================] - 0s 3ms/step - loss: 0.0015 - accuracy: 1.0000\n",
      "Epoch 229/400\n",
      "9/9 [==============================] - 0s 3ms/step - loss: 7.5609e-04 - accuracy: 1.0000\n",
      "Epoch 230/400\n",
      "9/9 [==============================] - 0s 3ms/step - loss: 5.7078e-04 - accuracy: 1.0000\n",
      "Epoch 231/400\n",
      "9/9 [==============================] - 0s 4ms/step - loss: 1.2544e-04 - accuracy: 1.0000\n",
      "Epoch 232/400\n",
      "9/9 [==============================] - 0s 4ms/step - loss: 7.8852e-04 - accuracy: 1.0000\n",
      "Epoch 233/400\n",
      "9/9 [==============================] - 0s 3ms/step - loss: 9.3026e-05 - accuracy: 1.0000\n",
      "Epoch 234/400\n",
      "9/9 [==============================] - 0s 2ms/step - loss: 3.6787e-04 - accuracy: 1.0000\n",
      "Epoch 235/400\n",
      "9/9 [==============================] - 0s 3ms/step - loss: 3.9455e-04 - accuracy: 1.0000\n",
      "Epoch 236/400\n",
      "9/9 [==============================] - 0s 3ms/step - loss: 6.7008e-04 - accuracy: 1.0000\n",
      "Epoch 237/400\n",
      "9/9 [==============================] - 0s 3ms/step - loss: 2.2547e-04 - accuracy: 1.0000\n",
      "Epoch 238/400\n",
      "9/9 [==============================] - 0s 3ms/step - loss: 8.3152e-04 - accuracy: 1.0000\n",
      "Epoch 239/400\n",
      "9/9 [==============================] - 0s 3ms/step - loss: 4.3729e-04 - accuracy: 1.0000\n",
      "Epoch 240/400\n",
      "9/9 [==============================] - 0s 3ms/step - loss: 0.0017 - accuracy: 1.0000\n",
      "Epoch 241/400\n",
      "9/9 [==============================] - 0s 3ms/step - loss: 9.6168e-04 - accuracy: 1.0000\n",
      "Epoch 242/400\n",
      "9/9 [==============================] - 0s 3ms/step - loss: 1.7517e-04 - accuracy: 1.0000\n",
      "Epoch 243/400\n",
      "9/9 [==============================] - 0s 3ms/step - loss: 7.6552e-04 - accuracy: 1.0000\n",
      "Epoch 244/400\n",
      "9/9 [==============================] - 0s 3ms/step - loss: 8.1835e-04 - accuracy: 1.0000\n",
      "Epoch 245/400\n",
      "9/9 [==============================] - 0s 3ms/step - loss: 1.1121e-04 - accuracy: 1.0000\n",
      "Epoch 246/400\n",
      "9/9 [==============================] - 0s 3ms/step - loss: 2.1563e-04 - accuracy: 1.0000\n",
      "Epoch 247/400\n",
      "9/9 [==============================] - 0s 3ms/step - loss: 2.7153e-04 - accuracy: 1.0000\n",
      "Epoch 248/400\n",
      "9/9 [==============================] - 0s 2ms/step - loss: 0.0015 - accuracy: 1.0000\n",
      "Epoch 249/400\n",
      "9/9 [==============================] - 0s 3ms/step - loss: 1.2285e-04 - accuracy: 1.0000\n",
      "Epoch 250/400\n",
      "9/9 [==============================] - 0s 2ms/step - loss: 1.1472e-04 - accuracy: 1.0000\n",
      "Epoch 251/400\n",
      "9/9 [==============================] - 0s 3ms/step - loss: 0.0014 - accuracy: 1.0000\n",
      "Epoch 252/400\n",
      "9/9 [==============================] - 0s 3ms/step - loss: 2.0893e-04 - accuracy: 1.0000\n",
      "Epoch 253/400\n",
      "9/9 [==============================] - 0s 5ms/step - loss: 3.3864e-04 - accuracy: 1.0000\n",
      "Epoch 254/400\n",
      "9/9 [==============================] - 0s 3ms/step - loss: 2.7505e-04 - accuracy: 1.0000\n",
      "Epoch 255/400\n",
      "9/9 [==============================] - 0s 3ms/step - loss: 9.2771e-04 - accuracy: 1.0000\n",
      "Epoch 256/400\n",
      "9/9 [==============================] - 0s 3ms/step - loss: 3.8114e-04 - accuracy: 1.0000\n",
      "Epoch 257/400\n",
      "9/9 [==============================] - 0s 2ms/step - loss: 3.3878e-04 - accuracy: 1.0000\n",
      "Epoch 258/400\n",
      "9/9 [==============================] - 0s 3ms/step - loss: 1.1804e-04 - accuracy: 1.0000\n",
      "Epoch 259/400\n",
      "9/9 [==============================] - 0s 3ms/step - loss: 6.0302e-04 - accuracy: 1.0000\n",
      "Epoch 260/400\n",
      "9/9 [==============================] - 0s 3ms/step - loss: 2.8839e-04 - accuracy: 1.0000\n",
      "Epoch 261/400\n",
      "9/9 [==============================] - 0s 3ms/step - loss: 1.0688e-04 - accuracy: 1.0000\n",
      "Epoch 262/400\n",
      "9/9 [==============================] - 0s 3ms/step - loss: 0.0053 - accuracy: 1.0000\n",
      "Epoch 263/400\n",
      "9/9 [==============================] - 0s 3ms/step - loss: 9.4419e-04 - accuracy: 1.0000\n",
      "Epoch 264/400\n",
      "9/9 [==============================] - 0s 3ms/step - loss: 0.0011 - accuracy: 1.0000\n",
      "Epoch 265/400\n",
      "9/9 [==============================] - 0s 3ms/step - loss: 3.5632e-04 - accuracy: 1.0000\n",
      "Epoch 266/400\n",
      "9/9 [==============================] - 0s 3ms/step - loss: 0.0018 - accuracy: 1.0000\n",
      "Epoch 267/400\n",
      "9/9 [==============================] - 0s 3ms/step - loss: 4.1919e-04 - accuracy: 1.0000\n",
      "Epoch 268/400\n",
      "9/9 [==============================] - 0s 3ms/step - loss: 2.1892e-04 - accuracy: 1.0000\n",
      "Epoch 269/400\n",
      "9/9 [==============================] - 0s 3ms/step - loss: 1.9501e-05 - accuracy: 1.0000\n",
      "Epoch 270/400\n",
      "9/9 [==============================] - 0s 3ms/step - loss: 2.8426e-04 - accuracy: 1.0000\n",
      "Epoch 271/400\n",
      "9/9 [==============================] - 0s 3ms/step - loss: 9.6277e-05 - accuracy: 1.0000\n",
      "Epoch 272/400\n",
      "9/9 [==============================] - 0s 3ms/step - loss: 1.5953e-04 - accuracy: 1.0000\n",
      "Epoch 273/400\n",
      "9/9 [==============================] - 0s 5ms/step - loss: 7.1640e-04 - accuracy: 1.0000\n",
      "Epoch 274/400\n",
      "9/9 [==============================] - 0s 3ms/step - loss: 2.2522e-04 - accuracy: 1.0000\n",
      "Epoch 275/400\n",
      "9/9 [==============================] - 0s 2ms/step - loss: 1.6329e-04 - accuracy: 1.0000\n",
      "Epoch 276/400\n",
      "9/9 [==============================] - 0s 4ms/step - loss: 1.7699e-04 - accuracy: 1.0000\n",
      "Epoch 277/400\n",
      "9/9 [==============================] - 0s 3ms/step - loss: 2.6993e-04 - accuracy: 1.0000\n",
      "Epoch 278/400\n",
      "9/9 [==============================] - 0s 2ms/step - loss: 1.0966e-04 - accuracy: 1.0000\n",
      "Epoch 279/400\n",
      "9/9 [==============================] - 0s 3ms/step - loss: 8.1812e-04 - accuracy: 1.0000\n",
      "Epoch 280/400\n",
      "9/9 [==============================] - 0s 2ms/step - loss: 7.3440e-04 - accuracy: 1.0000\n",
      "Epoch 281/400\n",
      "9/9 [==============================] - 0s 3ms/step - loss: 8.0735e-04 - accuracy: 1.0000\n",
      "Epoch 282/400\n",
      "9/9 [==============================] - 0s 3ms/step - loss: 8.6711e-04 - accuracy: 1.0000\n",
      "Epoch 283/400\n",
      "9/9 [==============================] - 0s 3ms/step - loss: 2.7636e-04 - accuracy: 1.0000\n",
      "Epoch 284/400\n",
      "9/9 [==============================] - 0s 2ms/step - loss: 3.3497e-04 - accuracy: 1.0000\n",
      "Epoch 285/400\n",
      "9/9 [==============================] - 0s 3ms/step - loss: 3.9831e-04 - accuracy: 1.0000\n",
      "Epoch 286/400\n",
      "9/9 [==============================] - 0s 3ms/step - loss: 3.0253e-04 - accuracy: 1.0000\n",
      "Epoch 287/400\n",
      "9/9 [==============================] - 0s 3ms/step - loss: 5.4456e-04 - accuracy: 1.0000\n",
      "Epoch 288/400\n",
      "9/9 [==============================] - 0s 3ms/step - loss: 3.8221e-04 - accuracy: 1.0000\n",
      "Epoch 289/400\n",
      "9/9 [==============================] - 0s 3ms/step - loss: 4.0288e-04 - accuracy: 1.0000\n",
      "Epoch 290/400\n",
      "9/9 [==============================] - 0s 3ms/step - loss: 7.4336e-05 - accuracy: 1.0000\n",
      "Epoch 291/400\n",
      "9/9 [==============================] - 0s 2ms/step - loss: 1.3296e-04 - accuracy: 1.0000\n",
      "Epoch 292/400\n",
      "9/9 [==============================] - 0s 3ms/step - loss: 5.6014e-05 - accuracy: 1.0000\n",
      "Epoch 293/400\n",
      "9/9 [==============================] - 0s 3ms/step - loss: 5.4834e-04 - accuracy: 1.0000\n",
      "Epoch 294/400\n",
      "9/9 [==============================] - 0s 5ms/step - loss: 0.0018 - accuracy: 1.0000\n",
      "Epoch 295/400\n",
      "9/9 [==============================] - 0s 3ms/step - loss: 1.2271e-04 - accuracy: 1.0000\n",
      "Epoch 296/400\n",
      "9/9 [==============================] - 0s 3ms/step - loss: 1.8711e-04 - accuracy: 1.0000\n",
      "Epoch 297/400\n",
      "9/9 [==============================] - 0s 3ms/step - loss: 7.8736e-04 - accuracy: 1.0000\n",
      "Epoch 298/400\n",
      "9/9 [==============================] - 0s 4ms/step - loss: 7.4078e-05 - accuracy: 1.0000\n",
      "Epoch 299/400\n",
      "9/9 [==============================] - 0s 3ms/step - loss: 0.0096 - accuracy: 1.0000\n",
      "Epoch 300/400\n",
      "9/9 [==============================] - 0s 3ms/step - loss: 1.1536e-04 - accuracy: 1.0000\n",
      "Epoch 301/400\n",
      "9/9 [==============================] - 0s 3ms/step - loss: 8.7878e-05 - accuracy: 1.0000\n",
      "Epoch 302/400\n",
      "9/9 [==============================] - 0s 3ms/step - loss: 7.6795e-05 - accuracy: 1.0000\n",
      "Epoch 303/400\n",
      "9/9 [==============================] - 0s 3ms/step - loss: 2.2496e-04 - accuracy: 1.0000\n",
      "Epoch 304/400\n",
      "9/9 [==============================] - 0s 3ms/step - loss: 5.9870e-04 - accuracy: 1.0000\n",
      "Epoch 305/400\n",
      "9/9 [==============================] - 0s 3ms/step - loss: 8.2913e-04 - accuracy: 1.0000\n",
      "Epoch 306/400\n",
      "9/9 [==============================] - 0s 3ms/step - loss: 0.0039 - accuracy: 1.0000\n",
      "Epoch 307/400\n",
      "9/9 [==============================] - 0s 3ms/step - loss: 1.7892e-04 - accuracy: 1.0000\n",
      "Epoch 308/400\n",
      "9/9 [==============================] - 0s 2ms/step - loss: 1.6311e-04 - accuracy: 1.0000\n",
      "Epoch 309/400\n",
      "9/9 [==============================] - 0s 2ms/step - loss: 5.6766e-04 - accuracy: 1.0000\n",
      "Epoch 310/400\n",
      "9/9 [==============================] - 0s 2ms/step - loss: 1.8111e-04 - accuracy: 1.0000\n",
      "Epoch 311/400\n",
      "9/9 [==============================] - 0s 3ms/step - loss: 1.5215e-04 - accuracy: 1.0000\n",
      "Epoch 312/400\n",
      "9/9 [==============================] - 0s 4ms/step - loss: 1.7043e-04 - accuracy: 1.0000\n",
      "Epoch 313/400\n",
      "9/9 [==============================] - 0s 3ms/step - loss: 4.1548e-04 - accuracy: 1.0000\n",
      "Epoch 314/400\n",
      "9/9 [==============================] - 0s 3ms/step - loss: 2.0705e-04 - accuracy: 1.0000\n",
      "Epoch 315/400\n",
      "9/9 [==============================] - 0s 2ms/step - loss: 8.0470e-04 - accuracy: 1.0000\n",
      "Epoch 316/400\n",
      "9/9 [==============================] - 0s 3ms/step - loss: 4.1882e-04 - accuracy: 1.0000\n",
      "Epoch 317/400\n",
      "9/9 [==============================] - 0s 3ms/step - loss: 0.0105 - accuracy: 1.0000\n",
      "Epoch 318/400\n",
      "9/9 [==============================] - 0s 2ms/step - loss: 0.0572 - accuracy: 0.9412\n",
      "Epoch 319/400\n",
      "9/9 [==============================] - 0s 4ms/step - loss: 0.0017 - accuracy: 1.0000\n",
      "Epoch 320/400\n",
      "9/9 [==============================] - 0s 3ms/step - loss: 9.1909e-04 - accuracy: 1.0000\n",
      "Epoch 321/400\n",
      "9/9 [==============================] - 0s 3ms/step - loss: 0.0029 - accuracy: 1.0000\n",
      "Epoch 322/400\n",
      "9/9 [==============================] - 0s 3ms/step - loss: 6.0955e-04 - accuracy: 1.0000\n",
      "Epoch 323/400\n",
      "9/9 [==============================] - 0s 3ms/step - loss: 8.9387e-04 - accuracy: 1.0000\n",
      "Epoch 324/400\n",
      "9/9 [==============================] - 0s 3ms/step - loss: 4.2072e-04 - accuracy: 1.0000\n",
      "Epoch 325/400\n",
      "9/9 [==============================] - 0s 3ms/step - loss: 0.0018 - accuracy: 1.0000\n",
      "Epoch 326/400\n",
      "9/9 [==============================] - 0s 2ms/step - loss: 3.1596e-04 - accuracy: 1.0000\n",
      "Epoch 327/400\n",
      "9/9 [==============================] - 0s 3ms/step - loss: 4.3186e-04 - accuracy: 1.0000\n",
      "Epoch 328/400\n",
      "9/9 [==============================] - 0s 3ms/step - loss: 0.0017 - accuracy: 1.0000\n",
      "Epoch 329/400\n",
      "9/9 [==============================] - 0s 3ms/step - loss: 0.0015 - accuracy: 1.0000\n",
      "Epoch 330/400\n",
      "9/9 [==============================] - 0s 4ms/step - loss: 0.0026 - accuracy: 1.0000\n",
      "Epoch 331/400\n",
      "9/9 [==============================] - 0s 4ms/step - loss: 8.4824e-04 - accuracy: 1.0000\n",
      "Epoch 332/400\n",
      "9/9 [==============================] - 0s 3ms/step - loss: 8.8642e-04 - accuracy: 1.0000\n",
      "Epoch 333/400\n",
      "9/9 [==============================] - 0s 2ms/step - loss: 1.7432e-04 - accuracy: 1.0000\n",
      "Epoch 334/400\n",
      "9/9 [==============================] - 0s 3ms/step - loss: 3.1835e-04 - accuracy: 1.0000\n",
      "Epoch 335/400\n",
      "9/9 [==============================] - 0s 2ms/step - loss: 4.3824e-05 - accuracy: 1.0000\n",
      "Epoch 336/400\n",
      "9/9 [==============================] - 0s 3ms/step - loss: 8.3185e-04 - accuracy: 1.0000\n",
      "Epoch 337/400\n",
      "9/9 [==============================] - 0s 2ms/step - loss: 2.9305e-04 - accuracy: 1.0000\n",
      "Epoch 338/400\n",
      "9/9 [==============================] - 0s 3ms/step - loss: 5.7627e-04 - accuracy: 1.0000\n",
      "Epoch 339/400\n",
      "9/9 [==============================] - 0s 3ms/step - loss: 4.9047e-04 - accuracy: 1.0000\n",
      "Epoch 340/400\n",
      "9/9 [==============================] - 0s 2ms/step - loss: 9.2821e-05 - accuracy: 1.0000\n",
      "Epoch 341/400\n",
      "9/9 [==============================] - 0s 3ms/step - loss: 1.3954e-04 - accuracy: 1.0000\n",
      "Epoch 342/400\n",
      "9/9 [==============================] - 0s 3ms/step - loss: 9.4896e-04 - accuracy: 1.0000\n",
      "Epoch 343/400\n",
      "9/9 [==============================] - 0s 3ms/step - loss: 2.8148e-04 - accuracy: 1.0000\n",
      "Epoch 344/400\n",
      "9/9 [==============================] - 0s 3ms/step - loss: 4.6832e-04 - accuracy: 1.0000\n",
      "Epoch 345/400\n",
      "9/9 [==============================] - 0s 3ms/step - loss: 7.4876e-05 - accuracy: 1.0000\n",
      "Epoch 346/400\n",
      "9/9 [==============================] - 0s 2ms/step - loss: 0.0051 - accuracy: 1.0000\n",
      "Epoch 347/400\n",
      "9/9 [==============================] - 0s 3ms/step - loss: 7.5576e-04 - accuracy: 1.0000\n",
      "Epoch 348/400\n",
      "9/9 [==============================] - 0s 3ms/step - loss: 3.8811e-04 - accuracy: 1.0000\n",
      "Epoch 349/400\n",
      "9/9 [==============================] - 0s 5ms/step - loss: 1.0035e-04 - accuracy: 1.0000\n",
      "Epoch 350/400\n",
      "9/9 [==============================] - 0s 4ms/step - loss: 2.0509e-04 - accuracy: 1.0000\n",
      "Epoch 351/400\n",
      "9/9 [==============================] - 0s 3ms/step - loss: 4.4268e-04 - accuracy: 1.0000\n",
      "Epoch 352/400\n",
      "9/9 [==============================] - 0s 3ms/step - loss: 8.7338e-05 - accuracy: 1.0000\n",
      "Epoch 353/400\n",
      "9/9 [==============================] - 0s 3ms/step - loss: 3.5115e-04 - accuracy: 1.0000\n",
      "Epoch 354/400\n",
      "9/9 [==============================] - 0s 3ms/step - loss: 1.9050e-04 - accuracy: 1.0000\n",
      "Epoch 355/400\n",
      "9/9 [==============================] - 0s 3ms/step - loss: 7.8044e-04 - accuracy: 1.0000\n",
      "Epoch 356/400\n",
      "9/9 [==============================] - 0s 3ms/step - loss: 1.1209e-04 - accuracy: 1.0000\n",
      "Epoch 357/400\n",
      "9/9 [==============================] - 0s 3ms/step - loss: 5.8116e-04 - accuracy: 1.0000\n",
      "Epoch 358/400\n",
      "9/9 [==============================] - 0s 3ms/step - loss: 5.7931e-04 - accuracy: 1.0000\n",
      "Epoch 359/400\n",
      "9/9 [==============================] - 0s 3ms/step - loss: 1.9024e-04 - accuracy: 1.0000\n",
      "Epoch 360/400\n",
      "9/9 [==============================] - 0s 3ms/step - loss: 1.4288e-04 - accuracy: 1.0000\n",
      "Epoch 361/400\n",
      "9/9 [==============================] - 0s 2ms/step - loss: 2.6498e-04 - accuracy: 1.0000\n",
      "Epoch 362/400\n",
      "9/9 [==============================] - 0s 3ms/step - loss: 2.2452e-04 - accuracy: 1.0000\n",
      "Epoch 363/400\n",
      "9/9 [==============================] - 0s 3ms/step - loss: 2.1605e-04 - accuracy: 1.0000\n",
      "Epoch 364/400\n",
      "9/9 [==============================] - 0s 3ms/step - loss: 3.8190e-04 - accuracy: 1.0000\n",
      "Epoch 365/400\n",
      "9/9 [==============================] - 0s 3ms/step - loss: 0.0020 - accuracy: 1.0000\n",
      "Epoch 366/400\n",
      "9/9 [==============================] - 0s 2ms/step - loss: 3.5542e-04 - accuracy: 1.0000\n",
      "Epoch 367/400\n",
      "9/9 [==============================] - 0s 5ms/step - loss: 6.1344e-04 - accuracy: 1.0000\n",
      "Epoch 368/400\n",
      "9/9 [==============================] - 0s 4ms/step - loss: 4.3911e-04 - accuracy: 1.0000\n",
      "Epoch 369/400\n",
      "9/9 [==============================] - 0s 3ms/step - loss: 0.0013 - accuracy: 1.0000\n",
      "Epoch 370/400\n",
      "9/9 [==============================] - 0s 3ms/step - loss: 5.0104e-04 - accuracy: 1.0000\n",
      "Epoch 371/400\n",
      "9/9 [==============================] - 0s 2ms/step - loss: 1.6110e-04 - accuracy: 1.0000\n",
      "Epoch 372/400\n",
      "9/9 [==============================] - 0s 3ms/step - loss: 0.0042 - accuracy: 1.0000\n",
      "Epoch 373/400\n",
      "9/9 [==============================] - 0s 4ms/step - loss: 2.4770e-04 - accuracy: 1.0000\n",
      "Epoch 374/400\n",
      "9/9 [==============================] - 0s 3ms/step - loss: 0.0015 - accuracy: 1.0000\n",
      "Epoch 375/400\n",
      "9/9 [==============================] - 0s 3ms/step - loss: 7.6065e-04 - accuracy: 1.0000\n",
      "Epoch 376/400\n",
      "9/9 [==============================] - 0s 3ms/step - loss: 1.1552e-04 - accuracy: 1.0000\n",
      "Epoch 377/400\n",
      "9/9 [==============================] - 0s 3ms/step - loss: 9.7213e-05 - accuracy: 1.0000\n",
      "Epoch 378/400\n",
      "9/9 [==============================] - 0s 3ms/step - loss: 1.5173e-04 - accuracy: 1.0000\n",
      "Epoch 379/400\n",
      "9/9 [==============================] - 0s 2ms/step - loss: 2.6054e-04 - accuracy: 1.0000\n",
      "Epoch 380/400\n",
      "9/9 [==============================] - 0s 3ms/step - loss: 4.5034e-04 - accuracy: 1.0000\n",
      "Epoch 381/400\n",
      "9/9 [==============================] - 0s 3ms/step - loss: 0.0037 - accuracy: 1.0000\n",
      "Epoch 382/400\n",
      "9/9 [==============================] - 0s 3ms/step - loss: 6.5955e-04 - accuracy: 1.0000\n",
      "Epoch 383/400\n",
      "9/9 [==============================] - 0s 3ms/step - loss: 0.0052 - accuracy: 1.0000\n",
      "Epoch 384/400\n",
      "9/9 [==============================] - 0s 5ms/step - loss: 1.8188e-04 - accuracy: 1.0000\n",
      "Epoch 385/400\n",
      "9/9 [==============================] - 0s 3ms/step - loss: 4.4220e-04 - accuracy: 1.0000\n",
      "Epoch 386/400\n",
      "9/9 [==============================] - 0s 3ms/step - loss: 7.6633e-04 - accuracy: 1.0000\n",
      "Epoch 387/400\n",
      "9/9 [==============================] - 0s 3ms/step - loss: 7.6818e-04 - accuracy: 1.0000\n",
      "Epoch 388/400\n",
      "9/9 [==============================] - 0s 2ms/step - loss: 1.5801e-04 - accuracy: 1.0000\n",
      "Epoch 389/400\n",
      "9/9 [==============================] - 0s 3ms/step - loss: 3.0286e-04 - accuracy: 1.0000\n",
      "Epoch 390/400\n",
      "9/9 [==============================] - 0s 4ms/step - loss: 5.1487e-04 - accuracy: 1.0000\n",
      "Epoch 391/400\n",
      "9/9 [==============================] - 0s 3ms/step - loss: 2.3369e-04 - accuracy: 1.0000\n",
      "Epoch 392/400\n",
      "9/9 [==============================] - 0s 2ms/step - loss: 4.4726e-04 - accuracy: 1.0000\n",
      "Epoch 393/400\n",
      "9/9 [==============================] - 0s 3ms/step - loss: 7.0661e-04 - accuracy: 1.0000\n",
      "Epoch 394/400\n",
      "9/9 [==============================] - 0s 3ms/step - loss: 2.9551e-04 - accuracy: 1.0000\n",
      "Epoch 395/400\n",
      "9/9 [==============================] - 0s 3ms/step - loss: 4.4545e-04 - accuracy: 1.0000\n",
      "Epoch 396/400\n",
      "9/9 [==============================] - 0s 3ms/step - loss: 2.6777e-04 - accuracy: 1.0000\n",
      "Epoch 397/400\n",
      "9/9 [==============================] - 0s 3ms/step - loss: 9.2161e-04 - accuracy: 1.0000\n",
      "Epoch 398/400\n",
      "9/9 [==============================] - 0s 3ms/step - loss: 3.0789e-05 - accuracy: 1.0000\n",
      "Epoch 399/400\n",
      "9/9 [==============================] - 0s 2ms/step - loss: 3.8804e-04 - accuracy: 1.0000\n",
      "Epoch 400/400\n",
      "9/9 [==============================] - 0s 3ms/step - loss: 3.8467e-04 - accuracy: 1.0000\n"
     ]
    }
   ],
   "source": [
    "hist=model.fit(np.array(train_x), np.array(train_y),\n",
    "                 epochs=400, batch_size=2, verbose=1,shuffle=True)\n",
    "\n",
    "\n",
    "\n",
    "\n",
    "\n",
    "# tf_train_y=tf.data.Dataset.from_tensor_slices(np.array(train_y))\n",
    "# model.fit(tf_train_x,tf_train_y)"
   ]
  },
  {
   "cell_type": "code",
   "execution_count": 15,
   "metadata": {},
   "outputs": [
    {
     "name": "stdout",
     "output_type": "stream",
     "text": [
      "Model: \"chatbot_trainer\"\n",
      "_________________________________________________________________\n",
      " Layer (type)                Output Shape              Param #   \n",
      "=================================================================\n",
      " flatten (Flatten)           multiple                  0         \n",
      "                                                                 \n",
      " dense (Dense)               multiple                  3456      \n",
      "                                                                 \n",
      " dropout (Dropout)           multiple                  0         \n",
      "                                                                 \n",
      " dense_1 (Dense)             multiple                  8256      \n",
      "                                                                 \n",
      " dropout_1 (Dropout)         multiple                  0         \n",
      "                                                                 \n",
      " dense_2 (Dense)             multiple                  195       \n",
      "                                                                 \n",
      "=================================================================\n",
      "Total params: 11,907\n",
      "Trainable params: 11,907\n",
      "Non-trainable params: 0\n",
      "_________________________________________________________________\n"
     ]
    }
   ],
   "source": [
    "model.summary()"
   ]
  },
  {
   "cell_type": "code",
   "execution_count": 20,
   "metadata": {},
   "outputs": [
    {
     "name": "stdout",
     "output_type": "stream",
     "text": [
      "1/1 [==============================] - 0s 20ms/step - loss: 1.8636e-05 - accuracy: 1.0000\n"
     ]
    },
    {
     "data": {
      "text/plain": [
       "[1.863601391960401e-05, 1.0]"
      ]
     },
     "execution_count": 20,
     "metadata": {},
     "output_type": "execute_result"
    }
   ],
   "source": [
    "model.evaluate(np.array(train_x)[len(train_x)-4:len(train_x)-1],np.array(train_y)[len(train_x)-4:len(train_x)-1])"
   ]
  },
  {
   "cell_type": "code",
   "execution_count": 21,
   "metadata": {},
   "outputs": [],
   "source": [
    "# train_x[0:8]"
   ]
  },
  {
   "cell_type": "code",
   "execution_count": 18,
   "metadata": {},
   "outputs": [],
   "source": [
    "# pip install pydot"
   ]
  },
  {
   "cell_type": "code",
   "execution_count": 19,
   "metadata": {},
   "outputs": [],
   "source": [
    "# tf.keras.utils.plot_model(model)"
   ]
  },
  {
   "cell_type": "code",
   "execution_count": 23,
   "metadata": {},
   "outputs": [
    {
     "name": "stdout",
     "output_type": "stream",
     "text": [
      "INFO:tensorflow:Unsupported signature for serialization: ((TensorSpec(shape=(26, 128), dtype=tf.float32, name='gradient'), <tensorflow.python.framework.func_graph.UnknownArgument object at 0x7fe5c80b90d0>, 140624880983952), {}).\n"
     ]
    },
    {
     "name": "stderr",
     "output_type": "stream",
     "text": [
      "INFO:tensorflow:Unsupported signature for serialization: ((TensorSpec(shape=(26, 128), dtype=tf.float32, name='gradient'), <tensorflow.python.framework.func_graph.UnknownArgument object at 0x7fe5c80b90d0>, 140624880983952), {}).\n"
     ]
    },
    {
     "name": "stdout",
     "output_type": "stream",
     "text": [
      "INFO:tensorflow:Unsupported signature for serialization: ((TensorSpec(shape=(128,), dtype=tf.float32, name='gradient'), <tensorflow.python.framework.func_graph.UnknownArgument object at 0x7fe5b87fa340>, 140624880688544), {}).\n"
     ]
    },
    {
     "name": "stderr",
     "output_type": "stream",
     "text": [
      "INFO:tensorflow:Unsupported signature for serialization: ((TensorSpec(shape=(128,), dtype=tf.float32, name='gradient'), <tensorflow.python.framework.func_graph.UnknownArgument object at 0x7fe5b87fa340>, 140624880688544), {}).\n"
     ]
    },
    {
     "name": "stdout",
     "output_type": "stream",
     "text": [
      "INFO:tensorflow:Unsupported signature for serialization: ((TensorSpec(shape=(128, 64), dtype=tf.float32, name='gradient'), <tensorflow.python.framework.func_graph.UnknownArgument object at 0x7fe5c805e790>, 140624880073200), {}).\n"
     ]
    },
    {
     "name": "stderr",
     "output_type": "stream",
     "text": [
      "INFO:tensorflow:Unsupported signature for serialization: ((TensorSpec(shape=(128, 64), dtype=tf.float32, name='gradient'), <tensorflow.python.framework.func_graph.UnknownArgument object at 0x7fe5c805e790>, 140624880073200), {}).\n"
     ]
    },
    {
     "name": "stdout",
     "output_type": "stream",
     "text": [
      "INFO:tensorflow:Unsupported signature for serialization: ((TensorSpec(shape=(64,), dtype=tf.float32, name='gradient'), <tensorflow.python.framework.func_graph.UnknownArgument object at 0x7fe5c80b9e20>, 140624880395344), {}).\n"
     ]
    },
    {
     "name": "stderr",
     "output_type": "stream",
     "text": [
      "INFO:tensorflow:Unsupported signature for serialization: ((TensorSpec(shape=(64,), dtype=tf.float32, name='gradient'), <tensorflow.python.framework.func_graph.UnknownArgument object at 0x7fe5c80b9e20>, 140624880395344), {}).\n"
     ]
    },
    {
     "name": "stdout",
     "output_type": "stream",
     "text": [
      "INFO:tensorflow:Unsupported signature for serialization: ((TensorSpec(shape=(64, 3), dtype=tf.float32, name='gradient'), <tensorflow.python.framework.func_graph.UnknownArgument object at 0x7fe5c806db20>, 140624880395728), {}).\n"
     ]
    },
    {
     "name": "stderr",
     "output_type": "stream",
     "text": [
      "INFO:tensorflow:Unsupported signature for serialization: ((TensorSpec(shape=(64, 3), dtype=tf.float32, name='gradient'), <tensorflow.python.framework.func_graph.UnknownArgument object at 0x7fe5c806db20>, 140624880395728), {}).\n"
     ]
    },
    {
     "name": "stdout",
     "output_type": "stream",
     "text": [
      "INFO:tensorflow:Unsupported signature for serialization: ((TensorSpec(shape=(3,), dtype=tf.float32, name='gradient'), <tensorflow.python.framework.func_graph.UnknownArgument object at 0x7fe5b87901f0>, 140624880395152), {}).\n"
     ]
    },
    {
     "name": "stderr",
     "output_type": "stream",
     "text": [
      "INFO:tensorflow:Unsupported signature for serialization: ((TensorSpec(shape=(3,), dtype=tf.float32, name='gradient'), <tensorflow.python.framework.func_graph.UnknownArgument object at 0x7fe5b87901f0>, 140624880395152), {}).\n"
     ]
    },
    {
     "name": "stdout",
     "output_type": "stream",
     "text": [
      "INFO:tensorflow:Unsupported signature for serialization: ((TensorSpec(shape=(26, 128), dtype=tf.float32, name='gradient'), <tensorflow.python.framework.func_graph.UnknownArgument object at 0x7fe5c80b90d0>, 140624880983952), {}).\n"
     ]
    },
    {
     "name": "stderr",
     "output_type": "stream",
     "text": [
      "INFO:tensorflow:Unsupported signature for serialization: ((TensorSpec(shape=(26, 128), dtype=tf.float32, name='gradient'), <tensorflow.python.framework.func_graph.UnknownArgument object at 0x7fe5c80b90d0>, 140624880983952), {}).\n"
     ]
    },
    {
     "name": "stdout",
     "output_type": "stream",
     "text": [
      "INFO:tensorflow:Unsupported signature for serialization: ((TensorSpec(shape=(128,), dtype=tf.float32, name='gradient'), <tensorflow.python.framework.func_graph.UnknownArgument object at 0x7fe5b87fa340>, 140624880688544), {}).\n"
     ]
    },
    {
     "name": "stderr",
     "output_type": "stream",
     "text": [
      "INFO:tensorflow:Unsupported signature for serialization: ((TensorSpec(shape=(128,), dtype=tf.float32, name='gradient'), <tensorflow.python.framework.func_graph.UnknownArgument object at 0x7fe5b87fa340>, 140624880688544), {}).\n"
     ]
    },
    {
     "name": "stdout",
     "output_type": "stream",
     "text": [
      "INFO:tensorflow:Unsupported signature for serialization: ((TensorSpec(shape=(128, 64), dtype=tf.float32, name='gradient'), <tensorflow.python.framework.func_graph.UnknownArgument object at 0x7fe5c805e790>, 140624880073200), {}).\n"
     ]
    },
    {
     "name": "stderr",
     "output_type": "stream",
     "text": [
      "INFO:tensorflow:Unsupported signature for serialization: ((TensorSpec(shape=(128, 64), dtype=tf.float32, name='gradient'), <tensorflow.python.framework.func_graph.UnknownArgument object at 0x7fe5c805e790>, 140624880073200), {}).\n"
     ]
    },
    {
     "name": "stdout",
     "output_type": "stream",
     "text": [
      "INFO:tensorflow:Unsupported signature for serialization: ((TensorSpec(shape=(64,), dtype=tf.float32, name='gradient'), <tensorflow.python.framework.func_graph.UnknownArgument object at 0x7fe5c80b9e20>, 140624880395344), {}).\n"
     ]
    },
    {
     "name": "stderr",
     "output_type": "stream",
     "text": [
      "INFO:tensorflow:Unsupported signature for serialization: ((TensorSpec(shape=(64,), dtype=tf.float32, name='gradient'), <tensorflow.python.framework.func_graph.UnknownArgument object at 0x7fe5c80b9e20>, 140624880395344), {}).\n"
     ]
    },
    {
     "name": "stdout",
     "output_type": "stream",
     "text": [
      "INFO:tensorflow:Unsupported signature for serialization: ((TensorSpec(shape=(64, 3), dtype=tf.float32, name='gradient'), <tensorflow.python.framework.func_graph.UnknownArgument object at 0x7fe5c806db20>, 140624880395728), {}).\n"
     ]
    },
    {
     "name": "stderr",
     "output_type": "stream",
     "text": [
      "INFO:tensorflow:Unsupported signature for serialization: ((TensorSpec(shape=(64, 3), dtype=tf.float32, name='gradient'), <tensorflow.python.framework.func_graph.UnknownArgument object at 0x7fe5c806db20>, 140624880395728), {}).\n"
     ]
    },
    {
     "name": "stdout",
     "output_type": "stream",
     "text": [
      "INFO:tensorflow:Unsupported signature for serialization: ((TensorSpec(shape=(3,), dtype=tf.float32, name='gradient'), <tensorflow.python.framework.func_graph.UnknownArgument object at 0x7fe5b87901f0>, 140624880395152), {}).\n"
     ]
    },
    {
     "name": "stderr",
     "output_type": "stream",
     "text": [
      "INFO:tensorflow:Unsupported signature for serialization: ((TensorSpec(shape=(3,), dtype=tf.float32, name='gradient'), <tensorflow.python.framework.func_graph.UnknownArgument object at 0x7fe5b87901f0>, 140624880395152), {}).\n",
      "WARNING:absl:Found untraced functions such as _update_step_xla while saving (showing 1 of 1). These functions will not be directly callable after loading.\n"
     ]
    },
    {
     "name": "stdout",
     "output_type": "stream",
     "text": [
      "INFO:tensorflow:Assets written to: Chatbot_base_spanish.tf/assets\n"
     ]
    },
    {
     "name": "stderr",
     "output_type": "stream",
     "text": [
      "INFO:tensorflow:Assets written to: Chatbot_base_spanish.tf/assets\n"
     ]
    }
   ],
   "source": [
    "model.save('Chatbot_base_spanish.tf',hist)"
   ]
  },
  {
   "cell_type": "code",
   "execution_count": null,
   "metadata": {},
   "outputs": [],
   "source": []
  },
  {
   "cell_type": "code",
   "execution_count": null,
   "metadata": {},
   "outputs": [],
   "source": []
  },
  {
   "cell_type": "code",
   "execution_count": null,
   "metadata": {},
   "outputs": [],
   "source": []
  },
  {
   "cell_type": "code",
   "execution_count": null,
   "metadata": {},
   "outputs": [],
   "source": [
    "# model.summary()"
   ]
  },
  {
   "cell_type": "code",
   "execution_count": null,
   "metadata": {},
   "outputs": [],
   "source": []
  },
  {
   "cell_type": "code",
   "execution_count": null,
   "metadata": {},
   "outputs": [],
   "source": [
    "# for i in tf.data.Dataset.from_tensor_slices(np.array(train_x)).take(1):\n",
    "#     print (i.shape)"
   ]
  },
  {
   "cell_type": "code",
   "execution_count": null,
   "metadata": {},
   "outputs": [],
   "source": [
    "np.array(train_y).shape[1]"
   ]
  },
  {
   "cell_type": "code",
   "execution_count": null,
   "metadata": {},
   "outputs": [],
   "source": [
    "np.array(train_x).shape[0]"
   ]
  },
  {
   "cell_type": "code",
   "execution_count": null,
   "metadata": {},
   "outputs": [],
   "source": [
    "(len(np.array(train_x)[0]),)"
   ]
  },
  {
   "cell_type": "code",
   "execution_count": null,
   "metadata": {},
   "outputs": [],
   "source": [
    "len(train_y)"
   ]
  },
  {
   "cell_type": "code",
   "execution_count": null,
   "metadata": {},
   "outputs": [],
   "source": [
    "# model = tf.keras.Sequential()\n",
    "# model.add(tf.keras.layers.Dense(128, input_shape=(len(train_x[0]), ),\n",
    "#                 activation='relu'))\n",
    "# model.add(tf.keras.layers.Dropout(0.5))\n",
    "# model.add(tf.keras.layers.Dense(64, activation='relu'))\n",
    "# model.add(tf.keras.layers.Dropout(0.5))\n",
    "# model.add(tf.keras.layers.Dense(len(train_y[0]), \n",
    "#                 activation='softmax'))"
   ]
  },
  {
   "cell_type": "code",
   "execution_count": null,
   "metadata": {},
   "outputs": [],
   "source": [
    "# sgd = tf.keras.optimizers.SGD(learning_rate=0.01, momentum=0.9, nesterov=True)\n",
    "# model.compile(loss='categorical_crossentropy',\n",
    "#               optimizer=sgd, metrics=['accuracy'])\n",
    "# hist = model.fit(np.array(train_x), np.array(train_y),\n",
    "#                  epochs=200, batch_size=5, verbose=1)"
   ]
  },
  {
   "cell_type": "code",
   "execution_count": null,
   "metadata": {},
   "outputs": [],
   "source": []
  }
 ],
 "metadata": {
  "kernelspec": {
   "display_name": "base",
   "language": "python",
   "name": "python3"
  },
  "language_info": {
   "codemirror_mode": {
    "name": "ipython",
    "version": 3
   },
   "file_extension": ".py",
   "mimetype": "text/x-python",
   "name": "python",
   "nbconvert_exporter": "python",
   "pygments_lexer": "ipython3",
   "version": "3.8.8"
  },
  "orig_nbformat": 4
 },
 "nbformat": 4,
 "nbformat_minor": 2
}
