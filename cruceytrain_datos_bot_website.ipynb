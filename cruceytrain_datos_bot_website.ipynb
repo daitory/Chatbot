{
 "cells": [
  {
   "cell_type": "code",
   "execution_count": 36,
   "metadata": {},
   "outputs": [],
   "source": [
    "import json\n",
    "import pandas as pd"
   ]
  },
  {
   "cell_type": "code",
   "execution_count": 37,
   "metadata": {},
   "outputs": [],
   "source": [
    "data_campo_base_menu=json.loads(open(\"website_menu.json\").read())\n",
    "data_campos_menu=json.loads(open(\"help_menu.json\").read())\n"
   ]
  },
  {
   "cell_type": "code",
   "execution_count": 38,
   "metadata": {},
   "outputs": [
    {
     "data": {
      "text/plain": [
       "{'model': 'pagina.website_menu',\n",
       " 'pk': 1,\n",
       " 'fields': {'menu_item': 'Menu_Producto'}}"
      ]
     },
     "execution_count": 38,
     "metadata": {},
     "output_type": "execute_result"
    }
   ],
   "source": [
    "data_campo_base_menu[0]"
   ]
  },
  {
   "cell_type": "code",
   "execution_count": 39,
   "metadata": {},
   "outputs": [
    {
     "name": "stdout",
     "output_type": "stream",
     "text": [
      "Menu_Producto\n",
      "El menu de productos tiene 2 niveles de búsqueda. \n",
      "\n",
      "En principio, debes darle a la lista desplegable para seleccionar el tipo de modelo que deseas consultar, pulsas Buscar y luego te apareceran las opciones de Modelos con esa tipologia. \n",
      "\n",
      "Si decides indagar sobre un modelo de esa tipología, seleccionalo en la segunda lista despĺegable y pulsa Buscar\n",
      "Menu_Contacto\n",
      "Para saber mayor información sobre los productos ofrecidos, capacitaciones y oportunidades de Outsourcing. Dirígete al menu de Contacto, dejanos tus datos y explicános brevemente sobre tu necesidad.  \n",
      "Pronto te atenderá un miembro del equipo de Financialitica!\n",
      "Menu_Capacitaciones\n",
      "Para mayor información sobre nuestras capacitaciones , comunicate directamente con nuestro representante Marcos de Leon, sus datos de contacto actualizados están en el fondo de la página.\n",
      "Menu_Outsourcing\n",
      "Para mayor información referente a Outsourcing, comúnicate con nuestro representante local. Marcos de León , su número de contacto lo encontrarás en el fondo de la página.\n"
     ]
    }
   ],
   "source": [
    "# Esto modifica la bd en formato Json para agregar el valor real de tag (que usaremos en el modelo)\n",
    "for j in data_campos_menu:\n",
    "    for i in data_campo_base_menu:        \n",
    "        if (i['pk']==j['fields']['Help_item']):\n",
    "            j['fields']['Help_item']=i['fields']['menu_item']\n",
    "            print(j['fields']['Help_item'])\n",
    "            print(j['fields']['Help_response'])\n",
    "        \n",
    "        \n"
   ]
  },
  {
   "cell_type": "code",
   "execution_count": 40,
   "metadata": {},
   "outputs": [
    {
     "data": {
      "text/plain": [
       "[{'model': 'pagina.help_menu',\n",
       "  'pk': 1,\n",
       "  'fields': {'Help_item': 'Menu_Producto',\n",
       "   'Help_question': 'Cómo puedo visualizar los productos?',\n",
       "   'Help_response': 'El menu de productos tiene 2 niveles de búsqueda. \\r\\n\\r\\nEn principio, debes darle a la lista desplegable para seleccionar el tipo de modelo que deseas consultar, pulsas Buscar y luego te apareceran las opciones de Modelos con esa tipologia. \\r\\n\\r\\nSi decides indagar sobre un modelo de esa tipología, seleccionalo en la segunda lista despĺegable y pulsa Buscar'}},\n",
       " {'model': 'pagina.help_menu',\n",
       "  'pk': 2,\n",
       "  'fields': {'Help_item': 'Menu_Contacto',\n",
       "   'Help_question': 'Quiero solicitar más información sobre un Modelo en particular',\n",
       "   'Help_response': 'Para saber mayor información sobre los productos ofrecidos, capacitaciones y oportunidades de Outsourcing. Dirígete al menu de Contacto, dejanos tus datos y explicános brevemente sobre tu necesidad.  \\r\\nPronto te atenderá un miembro del equipo de Financialitica!'}},\n",
       " {'model': 'pagina.help_menu',\n",
       "  'pk': 3,\n",
       "  'fields': {'Help_item': 'Menu_Capacitaciones',\n",
       "   'Help_question': 'Quiero mayor información sobre sus Capacitaciones',\n",
       "   'Help_response': 'Para mayor información sobre nuestras capacitaciones , comunicate directamente con nuestro representante Marcos de Leon, sus datos de contacto actualizados están en el fondo de la página.'}},\n",
       " {'model': 'pagina.help_menu',\n",
       "  'pk': 4,\n",
       "  'fields': {'Help_item': 'Menu_Outsourcing',\n",
       "   'Help_question': 'Quiero mayor informacion sobre Outsourcing',\n",
       "   'Help_response': 'Para mayor información referente a Outsourcing, comúnicate con nuestro representante local. Marcos de León , su número de contacto lo encontrarás en el fondo de la página.'}}]"
      ]
     },
     "execution_count": 40,
     "metadata": {},
     "output_type": "execute_result"
    }
   ],
   "source": [
    "data_campos_menu"
   ]
  },
  {
   "cell_type": "code",
   "execution_count": 41,
   "metadata": {},
   "outputs": [],
   "source": [
    "data_campo_base_personality=json.loads(open(\"add_functionality.json\").read())\n",
    "data_campos_personality=json.loads(open(\"Personality.json\").read())"
   ]
  },
  {
   "cell_type": "code",
   "execution_count": 42,
   "metadata": {},
   "outputs": [
    {
     "data": {
      "text/plain": [
       "{'model': 'pagina.add_functionality',\n",
       " 'pk': 1,\n",
       " 'fields': {'functionality_action': 'Proposito'}}"
      ]
     },
     "execution_count": 42,
     "metadata": {},
     "output_type": "execute_result"
    }
   ],
   "source": [
    "data_campo_base_personality[0]"
   ]
  },
  {
   "cell_type": "code",
   "execution_count": 43,
   "metadata": {},
   "outputs": [
    {
     "data": {
      "text/plain": [
       "{'model': 'pagina.personality',\n",
       " 'pk': 1,\n",
       " 'fields': {'Personality_function': 1,\n",
       "  'Personality_question': 'Cual es tu proposito?',\n",
       "  'Personality_response': 'Soy un bot creado con Inteligencia Artificial, entrenado por el equipo de Financialitica, para responder  preguntas limitadas sobre funcionamiento del website y  productos .'}}"
      ]
     },
     "execution_count": 43,
     "metadata": {},
     "output_type": "execute_result"
    }
   ],
   "source": [
    "data_campos_personality[0]"
   ]
  },
  {
   "cell_type": "code",
   "execution_count": 44,
   "metadata": {},
   "outputs": [
    {
     "data": {
      "text/plain": [
       "'Proposito'"
      ]
     },
     "execution_count": 44,
     "metadata": {},
     "output_type": "execute_result"
    }
   ],
   "source": [
    "data_campo_base_personality[0]['fields']['functionality_action']"
   ]
  },
  {
   "cell_type": "code",
   "execution_count": 45,
   "metadata": {},
   "outputs": [
    {
     "name": "stdout",
     "output_type": "stream",
     "text": [
      "Proposito\n",
      "Soy un bot creado con Inteligencia Artificial, entrenado por el equipo de Financialitica, para responder  preguntas limitadas sobre funcionamiento del website y  productos .\n",
      "Proposito\n",
      "Soy un bot entrenado por el equipo de Financialitica, que te va a servir de guia en el Website homónimo. \n",
      "Puedes preguntar sobre el tema que desees.\n",
      "Proposito\n",
      "Soy un bot, desarrollado con Inteligencia Artificial, por el equipo de Financialitica. Soy prueba de como puede ayudar la Inteligencia Artificial a la Industria. Pregúntame lo que necesites saber sobre Productos o sobre el funcionamiento de elementos del Website.\n",
      "Presentacion\n",
      "Buenas, ¿en qué puedo ayudarte?\n",
      "Presentacion\n",
      "Hola, ¿en qué puedo ayudarte?\n",
      "Presentacion\n",
      "¿en qué puedo serte útil?\n",
      "Presentacion\n",
      "Buenas, requieres de algún apoyo con el Website o con algún Producto?\n",
      "Identificacion\n",
      "me llamo FINANCIALYTICS-BOT, tu bot de apoyo en Financialitica\n",
      "Presentacion\n",
      "soy tu bot de apoyo en Financialitica,FINANCIALYTICS-BOT. \n",
      "\n",
      "Cómo puedo ayudarte?\n",
      "Identificacion\n",
      "Llámame FINANCIALYTICS-BOT,soy bot de apoyo en Financialitica\n",
      "Despedida\n",
      "Ha sido un placer ayudarte, hasta la próxima!\n",
      "Despedida\n",
      "Espero te hayas sentido bien con mi compañía, vuelve pronto!\n",
      "Despedida\n",
      "Vuelve cuando gustes, acá estaremos para servirte!\n"
     ]
    }
   ],
   "source": [
    "for j in data_campos_personality:\n",
    "    for i in data_campo_base_personality:\n",
    "        if (i['pk']==j['fields']['Personality_function']):\n",
    "            j['fields']['Personality_function']=i['fields']['functionality_action']\n",
    "            print(j['fields']['Personality_function'])\n",
    "            print(j['fields']['Personality_response'])        "
   ]
  },
  {
   "cell_type": "code",
   "execution_count": 46,
   "metadata": {},
   "outputs": [
    {
     "data": {
      "text/plain": [
       "[{'model': 'pagina.personality',\n",
       "  'pk': 1,\n",
       "  'fields': {'Personality_function': 'Proposito',\n",
       "   'Personality_question': 'Cual es tu proposito?',\n",
       "   'Personality_response': 'Soy un bot creado con Inteligencia Artificial, entrenado por el equipo de Financialitica, para responder  preguntas limitadas sobre funcionamiento del website y  productos .'}},\n",
       " {'model': 'pagina.personality',\n",
       "  'pk': 2,\n",
       "  'fields': {'Personality_function': 'Proposito',\n",
       "   'Personality_question': 'Como me puedes ayudar?',\n",
       "   'Personality_response': 'Soy un bot entrenado por el equipo de Financialitica, que te va a servir de guia en el Website homónimo. \\r\\nPuedes preguntar sobre el tema que desees.'}},\n",
       " {'model': 'pagina.personality',\n",
       "  'pk': 3,\n",
       "  'fields': {'Personality_function': 'Proposito',\n",
       "   'Personality_question': 'Que puedes hacer por mi?',\n",
       "   'Personality_response': 'Soy un bot, desarrollado con Inteligencia Artificial, por el equipo de Financialitica. Soy prueba de como puede ayudar la Inteligencia Artificial a la Industria. Pregúntame lo que necesites saber sobre Productos o sobre el funcionamiento de elementos del Website.'}},\n",
       " {'model': 'pagina.personality',\n",
       "  'pk': 4,\n",
       "  'fields': {'Personality_function': 'Presentacion',\n",
       "   'Personality_question': 'Hola',\n",
       "   'Personality_response': 'Buenas, ¿en qué puedo ayudarte?'}},\n",
       " {'model': 'pagina.personality',\n",
       "  'pk': 5,\n",
       "  'fields': {'Personality_function': 'Presentacion',\n",
       "   'Personality_question': 'buenas',\n",
       "   'Personality_response': 'Hola, ¿en qué puedo ayudarte?'}},\n",
       " {'model': 'pagina.personality',\n",
       "  'pk': 6,\n",
       "  'fields': {'Personality_function': 'Presentacion',\n",
       "   'Personality_question': 'buenos dias',\n",
       "   'Personality_response': '¿en qué puedo serte útil?'}},\n",
       " {'model': 'pagina.personality',\n",
       "  'pk': 7,\n",
       "  'fields': {'Personality_function': 'Presentacion',\n",
       "   'Personality_question': 'Buenas tardes',\n",
       "   'Personality_response': 'Buenas, requieres de algún apoyo con el Website o con algún Producto?'}},\n",
       " {'model': 'pagina.personality',\n",
       "  'pk': 8,\n",
       "  'fields': {'Personality_function': 'Identificacion',\n",
       "   'Personality_question': '¿cómo te llamas?',\n",
       "   'Personality_response': 'me llamo FINANCIALYTICS-BOT, tu bot de apoyo en Financialitica'}},\n",
       " {'model': 'pagina.personality',\n",
       "  'pk': 9,\n",
       "  'fields': {'Personality_function': 'Presentacion',\n",
       "   'Personality_question': '¿cuál es tu nombre?',\n",
       "   'Personality_response': 'soy tu bot de apoyo en Financialitica,FINANCIALYTICS-BOT. \\r\\n\\r\\nCómo puedo ayudarte?'}},\n",
       " {'model': 'pagina.personality',\n",
       "  'pk': 10,\n",
       "  'fields': {'Personality_function': 'Identificacion',\n",
       "   'Personality_question': '¿cómo puedo llamarte?',\n",
       "   'Personality_response': 'Llámame FINANCIALYTICS-BOT,soy bot de apoyo en Financialitica'}},\n",
       " {'model': 'pagina.personality',\n",
       "  'pk': 11,\n",
       "  'fields': {'Personality_function': 'Despedida',\n",
       "   'Personality_question': 'Adios',\n",
       "   'Personality_response': 'Ha sido un placer ayudarte, hasta la próxima!'}},\n",
       " {'model': 'pagina.personality',\n",
       "  'pk': 12,\n",
       "  'fields': {'Personality_function': 'Despedida',\n",
       "   'Personality_question': 'Chao',\n",
       "   'Personality_response': 'Espero te hayas sentido bien con mi compañía, vuelve pronto!'}},\n",
       " {'model': 'pagina.personality',\n",
       "  'pk': 13,\n",
       "  'fields': {'Personality_function': 'Despedida',\n",
       "   'Personality_question': 'bye',\n",
       "   'Personality_response': 'Vuelve cuando gustes, acá estaremos para servirte!'}}]"
      ]
     },
     "execution_count": 46,
     "metadata": {},
     "output_type": "execute_result"
    }
   ],
   "source": [
    "data_campos_personality"
   ]
  },
  {
   "cell_type": "code",
   "execution_count": 47,
   "metadata": {},
   "outputs": [],
   "source": [
    "data_campo_base_model_choice=json.loads(open(\"tipo.json\").read())\n",
    "data_nombre_modelo=json.loads(open(\"Name_model_selector.json\").read())\n",
    "data_campos_model_choice=json.loads(open(\"Model_choice.json\").read())"
   ]
  },
  {
   "cell_type": "code",
   "execution_count": 48,
   "metadata": {},
   "outputs": [
    {
     "data": {
      "text/plain": [
       "{'model': 'pagina.tipo', 'pk': 1, 'fields': {'Model_TYPE': 'Clásico'}}"
      ]
     },
     "execution_count": 48,
     "metadata": {},
     "output_type": "execute_result"
    }
   ],
   "source": [
    "data_campo_base_model_choice[0]"
   ]
  },
  {
   "cell_type": "code",
   "execution_count": 49,
   "metadata": {},
   "outputs": [
    {
     "data": {
      "text/plain": [
       "{'model': 'pagina.model_choice',\n",
       " 'pk': 1,\n",
       " 'fields': {'Name_model': 1,\n",
       "  'Type_model': 1,\n",
       "  'Class_model': 1,\n",
       "  'Usage_model': 1,\n",
       "  'Description_model': '- Modelo de **Otorgamiento de Préstamos**, basado en Estadística Clásica, para predecir la <i>**Probabilidad Default de Prospectos a Clientes.** </i> \\r\\n\\r\\n- Es uno de los modelos más utilizados y reconocidos  internacionalmente  por su buen desempeño, simplicidad y resistencia al paso del tiempo.\\r\\n\\r\\n- Puede ser reacondicionado en el tiempo, a menos que haya sufrido un deterioro muy fuerte.\\r\\n\\r\\n- Sirve como punto de partida para estudios de **Pricing** , **Especificaciones de Punto de Corte** y **Políticas**.'}}"
      ]
     },
     "execution_count": 49,
     "metadata": {},
     "output_type": "execute_result"
    }
   ],
   "source": [
    "data_campos_model_choice[0]\n",
    "#falta cruzar modelos"
   ]
  },
  {
   "cell_type": "code",
   "execution_count": 50,
   "metadata": {},
   "outputs": [
    {
     "data": {
      "text/plain": [
       "{'model': 'pagina.name_type_model_selector',\n",
       " 'pk': 1,\n",
       " 'fields': {'Name_model_selector': 'Credit Admission Scores',\n",
       "  'Type_model_selector': 1}}"
      ]
     },
     "execution_count": 50,
     "metadata": {},
     "output_type": "execute_result"
    }
   ],
   "source": [
    "data_nombre_modelo[0]"
   ]
  },
  {
   "cell_type": "code",
   "execution_count": 51,
   "metadata": {},
   "outputs": [],
   "source": [
    "for i in data_campos_model_choice:\n",
    "    for j in data_nombre_modelo:\n",
    "        # if j['pk']==17:\n",
    "        #     print(j['pk'])\n",
    "        #     print(i['fields']['Name_model'])\n",
    "        #     print(j['fields']['Type_model_selector'])\n",
    "        #     print(i['fields']['Type_model'])\n",
    "            \n",
    "        if (j['pk']==i['fields']['Name_model']) :\n",
    "            i['fields']['Name_model']=j['fields']['Name_model_selector']\n",
    "\n",
    "            # if k['pk']==i['fields']['Type_model']:\n",
    "            #     i['fields']['Type_model']= k['fields']['Model_TYPE']\n"
   ]
  },
  {
   "cell_type": "code",
   "execution_count": 52,
   "metadata": {},
   "outputs": [],
   "source": [
    "for i in data_campos_model_choice:\n",
    "    for j in data_campo_base_model_choice:\n",
    "        if j['pk']==i['fields']['Type_model']:\n",
    "            i['fields']['Type_model']=j['fields']['Model_TYPE']"
   ]
  },
  {
   "cell_type": "code",
   "execution_count": 53,
   "metadata": {},
   "outputs": [
    {
     "data": {
      "text/plain": [
       "[{'model': 'pagina.model_choice',\n",
       "  'pk': 1,\n",
       "  'fields': {'Name_model': 'Credit Admission Scores',\n",
       "   'Type_model': 'Clásico',\n",
       "   'Class_model': 1,\n",
       "   'Usage_model': 1,\n",
       "   'Description_model': '- Modelo de **Otorgamiento de Préstamos**, basado en Estadística Clásica, para predecir la <i>**Probabilidad Default de Prospectos a Clientes.** </i> \\r\\n\\r\\n- Es uno de los modelos más utilizados y reconocidos  internacionalmente  por su buen desempeño, simplicidad y resistencia al paso del tiempo.\\r\\n\\r\\n- Puede ser reacondicionado en el tiempo, a menos que haya sufrido un deterioro muy fuerte.\\r\\n\\r\\n- Sirve como punto de partida para estudios de **Pricing** , **Especificaciones de Punto de Corte** y **Políticas**.'}},\n",
       " {'model': 'pagina.model_choice',\n",
       "  'pk': 2,\n",
       "  'fields': {'Name_model': 'Machine Learning Admission',\n",
       "   'Type_model': 'Machine Learning/AI',\n",
       "   'Class_model': 1,\n",
       "   'Usage_model': 1,\n",
       "   'Description_model': '- Modelo  para **Otorgamiento de Préstamos**, basado en  Machine Learning, para predecir la <i>**Probabilidad de Default de Prospectos a Cliente**</i>. \\r\\n\\r\\n- Tiende a Presentar Resultados **Más Contundentes que los Modelos Clásicos**, es decir, al poseer una capacidad de ajuste no lineal, las diferencias encontradas suelen representarse mejor en data real. \\r\\n\\r\\n- Se Testean y Entrenan contra indicadores robustos y ampliamente utilizados en el Sector Financiero para ajustes de Modelos, aplicables también a los Modelos Clásicos.\\r\\n\\r\\n- Permite trabajar con **Segmentos No  Tradicionales.**\\r\\n\\r\\n- Se entrenan en menor tiempo que los modelos clásicos.'}},\n",
       " {'model': 'pagina.model_choice',\n",
       "  'pk': 3,\n",
       "  'fields': {'Name_model': 'Fraud Payment Default',\n",
       "   'Type_model': 'Machine Learning/AI',\n",
       "   'Class_model': 1,\n",
       "   'Usage_model': 1,\n",
       "   'Description_model': '- Modelo de **Prevención de Fraude** , basado en Machine Learning para **<i>Predecir la Probabilidad de que el Prospecto ejecute  First , Second o Third Payment Default.</i>**\\r\\n\\r\\n- Utiliza indicadores de desempeńo bastante robustos, que permiten evaluar adecuadamente el evento de interés  (Detección de Candidatos con Intención de Incumplir con sus Facilidades crediticias)\\r\\n\\r\\n- Ayuda a Mejorar la Selección de Prospectos de los Modelos de Originación.'}},\n",
       " {'model': 'pagina.model_choice',\n",
       "  'pk': 4,\n",
       "  'fields': {'Name_model': 'Stress Testing',\n",
       "   'Type_model': 'IRB',\n",
       "   'Class_model': 2,\n",
       "   'Usage_model': 2,\n",
       "   'Description_model': '- Aplicación de **Pruebas de Estrés** a modelos de Valor en Riesgo de la Cartera de Inversiones y portafolio de Crédito. \\r\\n\\r\\n\\r\\n- Se proponen varias metodologías, para manejar indicadores en situaciónes adversas, del portafolio actual de la entidad.'}},\n",
       " {'model': 'pagina.model_choice',\n",
       "  'pk': 5,\n",
       "  'fields': {'Name_model': 'Portfolio Segmentation',\n",
       "   'Type_model': 'Clásico',\n",
       "   'Class_model': 3,\n",
       "   'Usage_model': 3,\n",
       "   'Description_model': '- Modelo para Segmentar el **Portafolio de Crédito**, basado en el <i>**Comportamiento de Clientes.**</i>\\r\\n\\r\\n- Este tipo de desarrollos, son altamente utilizados para definir nuevos segmentos de clientes y con ello, se establece un tratamiento y una estrategía de comercialización de productos, con el fin de optimizar los recursos ,** minimizando el esfuerzo de venta**.\\r\\n\\r\\n\\r\\n- Es recomendable utilizar este producto en combinación con una clasificación de segmentos a posteriori, del mismo modo, se puede asociar con modelos de ventas cruzadas y mejoras de oferta.'}},\n",
       " {'model': 'pagina.model_choice',\n",
       "  'pk': 6,\n",
       "  'fields': {'Name_model': 'Portfolio Classification',\n",
       "   'Type_model': 'Machine Learning/AI',\n",
       "   'Class_model': 1,\n",
       "   'Usage_model': 3,\n",
       "   'Description_model': '- Modelo de Clasificación para **Carterizar a Clientes Nuevos**, que no participaron en la Segmentación base, o bien, para **Refrescar los Segmentos de Clientes Existentes.**\\r\\n\\r\\n- Este modelo replica la información contenida en los segmentos ya predefinidos en la institución para aplicársela a los clentes.\\r\\n\\r\\n- Se recomienda realizar corridas mensuales para mantener actualizada la cartera de la Institución.'}},\n",
       " {'model': 'pagina.model_choice',\n",
       "  'pk': 7,\n",
       "  'fields': {'Name_model': 'Active Behaviour Model',\n",
       "   'Type_model': 'Clásico',\n",
       "   'Class_model': 1,\n",
       "   'Usage_model': 1,\n",
       "   'Description_model': '- Modelo **Comportamental **, Basado en Estadística Clásica para predecir la **Probabilidad de Incumplimiento** de  <i>Clientes con historia en la Institución</i>.\\r\\n\\r\\n- Es un Modelo con un **Performance Alto** , asímismo ,  también **Muy Estable en el Tiempo**\\r\\n\\r\\n- Permite Asignar tratamientos para ventas, fijar tasas, entre otras estrategias de uso comercial. Por cuanto, sirve como input para otros Modelos Analíticos.'}},\n",
       " {'model': 'pagina.model_choice',\n",
       "  'pk': 8,\n",
       "  'fields': {'Name_model': 'Pasives Behaviour Model',\n",
       "   'Type_model': 'Clásico',\n",
       "   'Class_model': 1,\n",
       "   'Usage_model': 1,\n",
       "   'Description_model': '- Modelo **Comportamental**, basado en Estadística Clásica, para predecir la **Probabilidad de Incumplimiento** de <i>Clientes con productos en la Institución</i>.\\r\\n\\r\\n- Tiene un **Performance Alto**, y presenta **Mucha Estabilidad en el Tiempo** , tal y como suelen tener sus homólogos basados en Productos Activos.\\r\\n\\r\\n-  Suelen combinarse con otros modelos comportamentales para dar una visión más completa del cliente.'}},\n",
       " {'model': 'pagina.model_choice',\n",
       "  'pk': 9,\n",
       "  'fields': {'Name_model': 'Early Warnings',\n",
       "   'Type_model': 'Clásico',\n",
       "   'Class_model': 1,\n",
       "   'Usage_model': 4,\n",
       "   'Description_model': '- Modelo **Comportamental aplicado a Cobranzas**, basado en Estadística Clásica, para predecir la **Probabilidad de Default** de <i>Clientes con Productos activos  en estado de Premora.</i>\\r\\n\\r\\n- Sirve para imponer tratamientos preventivos efectivos ante clientes que presentan mayor probabilidad de incumplir con sus facilidades crediticia, pese a que, al momento de realizar el estudio se encuentran en premora.\\r\\n\\r\\n- Son ampliamente utilizados en el Sector Financiero, para asegurar la efectividad de la Cobranza, y suelen combinarse con otros modelos Comportamentales para generar estrategias adecuadas para cobro, bajo un **Modelo de Cobranzas**.'}},\n",
       " {'model': 'pagina.model_choice',\n",
       "  'pk': 10,\n",
       "  'fields': {'Name_model': 'Collections Score',\n",
       "   'Type_model': 'Clásico',\n",
       "   'Class_model': 1,\n",
       "   'Usage_model': 4,\n",
       "   'Description_model': '- Modelo de **Cobranzas** , basado en Estadística Clásica , para **Administrar Tratamientos a Clientes** <i>con productos Activos en la Institución Financiera.</i>   Pudiendo, acoplarse a los tratamientos de cobros impuestos por la EIF, pero con el **aditivo preventivo**  de los modelos que utiliza como base. \\r\\n\\r\\n- Resulta Altamente Eficaz en la prevención del deterioro de clientes con oportunidades de mejora, dado que establece tratamientos desde la premora.\\r\\n\\r\\n- Permite focalizar los esfuerzos  para mejorar su efectividad y eficientizar las labores del Área de Cobros.'}},\n",
       " {'model': 'pagina.model_choice',\n",
       "  'pk': 11,\n",
       "  'fields': {'Name_model': 'Risk Based Pricing',\n",
       "   'Type_model': 'Clásico',\n",
       "   'Class_model': 1,\n",
       "   'Usage_model': 3,\n",
       "   'Description_model': '- Modelo de **Precios Basado en Riesgo**, utiilizando Modelos Analíticos, en función de la **Probabilidad de Default de Clientes en el Producto.** \\r\\n\\r\\n- Permite mantener un margen financiero positivo, que sincera los costos asociados al default de productos observados. \\r\\n\\r\\n- Puede combinarse a otros Modelos Analíticos para realizar una asignación de **Precios Dinámica**,  que asocie el valor del cliente para la Institución, junto al riesgo que presenta su Patrón de Comportamiento  de Pago y Utilización de Productos.'}},\n",
       " {'model': 'pagina.model_choice',\n",
       "  'pk': 12,\n",
       "  'fields': {'Name_model': 'CLTV Based Pricing',\n",
       "   'Type_model': 'Clásico',\n",
       "   'Class_model': 3,\n",
       "   'Usage_model': 3,\n",
       "   'Description_model': '- Modelo de **Precios en base al Valor del Cliente en el Tiempo**, con un enfoque Estadístico Clásico - Comportamental, que persigue un ajuste del valor de cliente en función del retorno que genera hacia la Institución Financiera.\\r\\n\\r\\n- Funciona como complemento a la visión Riesgo Céntrica del Pricing. \\r\\n\\r\\n- Mediante la aplicación conjunta de los modelos de Pricing se consigue un ajuste Dinámico del Pricing.'}},\n",
       " {'model': 'pagina.model_choice',\n",
       "  'pk': 13,\n",
       "  'fields': {'Name_model': 'Atrittion Score',\n",
       "   'Type_model': 'Clásico',\n",
       "   'Class_model': 1,\n",
       "   'Usage_model': 5,\n",
       "   'Description_model': '- Modelo de **Retención**, basado en Estadística Clásica, para predecir la **Probabilidad de Deserción de Clientes.**\\r\\n\\r\\n- Permite generar estrategías de retención en función de la probabilidad que presentan los prospectos para dejar de utilizar sus productos financieros.\\r\\n\\r\\n- En combinación con modelos de venta, originación y clasificación de portafolio, resulta muy efectivo para focalizar los esfuerzos en los clientes que realmente valgan la pena.'}},\n",
       " {'model': 'pagina.model_choice',\n",
       "  'pk': 14,\n",
       "  'fields': {'Name_model': 'Crossell - Upsell Model',\n",
       "   'Type_model': 'Clásico',\n",
       "   'Class_model': 1,\n",
       "   'Usage_model': 3,\n",
       "   'Description_model': '- Modelo para **Ventas Cruzadas**, basado en Estadística Clásica, fundamentado en el **Comportamiento  y uso de los productos Financieros de los Clientes.**\\r\\n\\r\\n- En combinación de los modelos de Probabilidad de Aceptación de Oferta, Admisión , Pricing , Clasificación de Portafolio, permite focalizar los esfuerzos en clientes que generen mayor retorno para la Institución.'}},\n",
       " {'model': 'pagina.model_choice',\n",
       "  'pk': 15,\n",
       "  'fields': {'Name_model': 'Acceptance Probability',\n",
       "   'Type_model': 'Machine Learning/AI',\n",
       "   'Class_model': 1,\n",
       "   'Usage_model': 3,\n",
       "   'Description_model': '- Modelo de Venta, basado en Machine Learning para predecir la **Probabilidad de Aceptación de la Oferta de Clientes**\\r\\n\\r\\n- Permite reducción reducir el esfuerzo de ventas.\\r\\n\\r\\n- En combinación con los modelos adecuados, permite una focalización en clientes importantes para la Institución.'}},\n",
       " {'model': 'pagina.model_choice',\n",
       "  'pk': 16,\n",
       "  'fields': {'Name_model': 'Prouct Recommender',\n",
       "   'Type_model': 'Machine Learning/AI',\n",
       "   'Class_model': 1,\n",
       "   'Usage_model': 3,\n",
       "   'Description_model': '- Modelo de **Venta**, basado en Inteligencia Artificial , permite **Recomendar Productos a Clientes de Institución Financiera.**\\r\\n\\r\\n- Es altamente utilizado por empresas como Amazon, Netflix, Youtube para realizar ofertas adecuadas a clientes basada en la utilización y valoración de productos.\\r\\n\\r\\n- En combinación con otros modelos , permite la activación de fabricas de originación de créditos.'}},\n",
       " {'model': 'pagina.model_choice',\n",
       "  'pk': 17,\n",
       "  'fields': {'Name_model': 'VaR Models',\n",
       "   'Type_model': 'IRB',\n",
       "   'Class_model': 2,\n",
       "   'Usage_model': 2,\n",
       "   'Description_model': '- Modelos de **Valor en Riesgo (Value At Risk)** , con enfoque de  Estadística Clásica, para estimar el monto que se espera perder, bajo cierto nivel de certidumbre, en función de la composición del portafolio  estudiado.\\r\\n\\r\\n- Se proponen varios modelos de estudio, como indicadores de seguimiento de la cartera de Inversiones.\\r\\n\\r\\n-  Debe combinarse con Modelos de Pérdidas Esperadas.'}},\n",
       " {'model': 'pagina.model_choice',\n",
       "  'pk': 18,\n",
       "  'fields': {'Name_model': 'Back-Test',\n",
       "   'Type_model': 'IRB',\n",
       "   'Class_model': 2,\n",
       "   'Usage_model': 2,\n",
       "   'Description_model': '- Aplicación de **Back-Testing**  a Modelos de estimación del Valor en Riesgo, para verificar su correcto ajuste a la Historia de la EIF.\\r\\n\\r\\n- Se recomienda Aplicar Backtest a cada Modelo propuesto.'}},\n",
       " {'model': 'pagina.model_choice',\n",
       "  'pk': 19,\n",
       "  'fields': {'Name_model': 'Loss Given By Default',\n",
       "   'Type_model': 'IRB',\n",
       "   'Class_model': 2,\n",
       "   'Usage_model': 1,\n",
       "   'Description_model': '- Estimación de **Pérdidas Financieras dado el Incumplimiento de Préstamos**, en función de Modelos Estadísticos Clásicos.\\r\\n\\r\\n- Forma parte de la Metodología de Basilea, para **Cálculo de Pérdidas Esperadas y su consecuente requerimiento de Capital Económico.**'}},\n",
       " {'model': 'pagina.model_choice',\n",
       "  'pk': 20,\n",
       "  'fields': {'Name_model': 'Roll Rates',\n",
       "   'Type_model': 'IRB',\n",
       "   'Class_model': 2,\n",
       "   'Usage_model': 1,\n",
       "   'Description_model': '- Preparación de **Roll Rates**, para estimar la de la **Proababilidad de Default**, bajo proyecciones de las transiciones de Mora.\\r\\n\\r\\n-  Forma parte de la Metodología de Basilea para **Cálculo de Pérdidas Esperadas y su consecuente requerimiento de  Capital Económico.**'}}]"
      ]
     },
     "execution_count": 53,
     "metadata": {},
     "output_type": "execute_result"
    }
   ],
   "source": [
    "data_campos_model_choice"
   ]
  },
  {
   "cell_type": "code",
   "execution_count": 54,
   "metadata": {},
   "outputs": [],
   "source": [
    "Namemodel=[]\n",
    "for i in data_campos_model_choice:\n",
    "    Namemodel.append(i['fields']['Name_model'])"
   ]
  },
  {
   "cell_type": "code",
   "execution_count": 55,
   "metadata": {},
   "outputs": [
    {
     "data": {
      "text/plain": [
       "['Credit Admission Scores',\n",
       " 'Machine Learning Admission',\n",
       " 'Fraud Payment Default',\n",
       " 'Stress Testing',\n",
       " 'Portfolio Segmentation',\n",
       " 'Portfolio Classification',\n",
       " 'Active Behaviour Model',\n",
       " 'Pasives Behaviour Model',\n",
       " 'Early Warnings',\n",
       " 'Collections Score',\n",
       " 'Risk Based Pricing',\n",
       " 'CLTV Based Pricing',\n",
       " 'Atrittion Score',\n",
       " 'Crossell - Upsell Model',\n",
       " 'Acceptance Probability',\n",
       " 'Prouct Recommender',\n",
       " 'VaR Models',\n",
       " 'Back-Test',\n",
       " 'Loss Given By Default',\n",
       " 'Roll Rates']"
      ]
     },
     "execution_count": 55,
     "metadata": {},
     "output_type": "execute_result"
    }
   ],
   "source": [
    "Namemodel"
   ]
  },
  {
   "cell_type": "code",
   "execution_count": 56,
   "metadata": {},
   "outputs": [],
   "source": [
    "for i in data_campos_model_choice:\n",
    "    if (i['fields']['Name_model'])==17:\n",
    "        print(i) "
   ]
  },
  {
   "cell_type": "code",
   "execution_count": 57,
   "metadata": {},
   "outputs": [
    {
     "name": "stdout",
     "output_type": "stream",
     "text": [
      "{'model': 'pagina.name_type_model_selector', 'pk': 17, 'fields': {'Name_model_selector': 'VaR Models', 'Type_model_selector': 1}}\n"
     ]
    }
   ],
   "source": [
    "for i in data_nombre_modelo:\n",
    "    if i['fields']['Name_model_selector']==\"VaR Models\":\n",
    "        print(i)"
   ]
  },
  {
   "cell_type": "code",
   "execution_count": 58,
   "metadata": {},
   "outputs": [
    {
     "name": "stdout",
     "output_type": "stream",
     "text": [
      "Portfolio Classification\n",
      "{'tag': 'Portfolio Classification', 'patterns': ['Portfolio Classification'], 'responses': ['- Modelo de Clasificación para **Carterizar a Clientes Nuevos**, que no participaron en la Segmentación base, o bien, para **Refrescar los Segmentos de Clientes Existentes.**\\r\\n\\r\\n- Este modelo replica la información contenida en los segmentos ya predefinidos en la institución para aplicársela a los clentes.\\r\\n\\r\\n- Se recomienda realizar corridas mensuales para mantener actualizada la cartera de la Institución.']}\n",
      "1\n",
      "Back-Test\n",
      "{'tag': 'Back-Test', 'patterns': ['Back-Test'], 'responses': ['- Aplicación de **Back-Testing**  a Modelos de estimación del Valor en Riesgo, para verificar su correcto ajuste a la Historia de la EIF.\\r\\n\\r\\n- Se recomienda Aplicar Backtest a cada Modelo propuesto.']}\n",
      "2\n",
      "Prouct Recommender\n",
      "{'tag': 'Prouct Recommender', 'patterns': ['Prouct Recommender'], 'responses': ['- Modelo de **Venta**, basado en Inteligencia Artificial , permite **Recomendar Productos a Clientes de Institución Financiera.**\\r\\n\\r\\n- Es altamente utilizado por empresas como Amazon, Netflix, Youtube para realizar ofertas adecuadas a clientes basada en la utilización y valoración de productos.\\r\\n\\r\\n- En combinación con otros modelos , permite la activación de fabricas de originación de créditos.']}\n",
      "3\n",
      "Pasives Behaviour Model\n",
      "{'tag': 'Pasives Behaviour Model', 'patterns': ['Pasives Behaviour Model'], 'responses': ['- Modelo **Comportamental**, basado en Estadística Clásica, para predecir la **Probabilidad de Incumplimiento** de <i>Clientes con productos en la Institución</i>.\\r\\n\\r\\n- Tiene un **Performance Alto**, y presenta **Mucha Estabilidad en el Tiempo** , tal y como suelen tener sus homólogos basados en Productos Activos.\\r\\n\\r\\n-  Suelen combinarse con otros modelos comportamentales para dar una visión más completa del cliente.']}\n",
      "4\n",
      "Collections Score\n",
      "{'tag': 'Collections Score', 'patterns': ['Collections Score'], 'responses': ['- Modelo de **Cobranzas** , basado en Estadística Clásica , para **Administrar Tratamientos a Clientes** <i>con productos Activos en la Institución Financiera.</i>   Pudiendo, acoplarse a los tratamientos de cobros impuestos por la EIF, pero con el **aditivo preventivo**  de los modelos que utiliza como base. \\r\\n\\r\\n- Resulta Altamente Eficaz en la prevención del deterioro de clientes con oportunidades de mejora, dado que establece tratamientos desde la premora.\\r\\n\\r\\n- Permite focalizar los esfuerzos  para mejorar su efectividad y eficientizar las labores del Área de Cobros.']}\n",
      "5\n",
      "CLTV Based Pricing\n",
      "{'tag': 'CLTV Based Pricing', 'patterns': ['CLTV Based Pricing'], 'responses': ['- Modelo de **Precios en base al Valor del Cliente en el Tiempo**, con un enfoque Estadístico Clásico - Comportamental, que persigue un ajuste del valor de cliente en función del retorno que genera hacia la Institución Financiera.\\r\\n\\r\\n- Funciona como complemento a la visión Riesgo Céntrica del Pricing. \\r\\n\\r\\n- Mediante la aplicación conjunta de los modelos de Pricing se consigue un ajuste Dinámico del Pricing.']}\n",
      "6\n",
      "Stress Testing\n",
      "{'tag': 'Stress Testing', 'patterns': ['Stress Testing'], 'responses': ['- Aplicación de **Pruebas de Estrés** a modelos de Valor en Riesgo de la Cartera de Inversiones y portafolio de Crédito. \\r\\n\\r\\n\\r\\n- Se proponen varias metodologías, para manejar indicadores en situaciónes adversas, del portafolio actual de la entidad.']}\n",
      "7\n",
      "Credit Admission Scores\n",
      "{'tag': 'Credit Admission Scores', 'patterns': ['Credit Admission Scores'], 'responses': ['- Modelo de **Otorgamiento de Préstamos**, basado en Estadística Clásica, para predecir la <i>**Probabilidad Default de Prospectos a Clientes.** </i> \\r\\n\\r\\n- Es uno de los modelos más utilizados y reconocidos  internacionalmente  por su buen desempeño, simplicidad y resistencia al paso del tiempo.\\r\\n\\r\\n- Puede ser reacondicionado en el tiempo, a menos que haya sufrido un deterioro muy fuerte.\\r\\n\\r\\n- Sirve como punto de partida para estudios de **Pricing** , **Especificaciones de Punto de Corte** y **Políticas**.']}\n",
      "8\n",
      "Acceptance Probability\n",
      "{'tag': 'Acceptance Probability', 'patterns': ['Acceptance Probability'], 'responses': ['- Modelo de Venta, basado en Machine Learning para predecir la **Probabilidad de Aceptación de la Oferta de Clientes**\\r\\n\\r\\n- Permite reducción reducir el esfuerzo de ventas.\\r\\n\\r\\n- En combinación con los modelos adecuados, permite una focalización en clientes importantes para la Institución.']}\n",
      "9\n",
      "Crossell - Upsell Model\n",
      "{'tag': 'Crossell - Upsell Model', 'patterns': ['Crossell - Upsell Model'], 'responses': ['- Modelo para **Ventas Cruzadas**, basado en Estadística Clásica, fundamentado en el **Comportamiento  y uso de los productos Financieros de los Clientes.**\\r\\n\\r\\n- En combinación de los modelos de Probabilidad de Aceptación de Oferta, Admisión , Pricing , Clasificación de Portafolio, permite focalizar los esfuerzos en clientes que generen mayor retorno para la Institución.']}\n",
      "10\n",
      "Fraud Payment Default\n",
      "{'tag': 'Fraud Payment Default', 'patterns': ['Fraud Payment Default'], 'responses': ['- Modelo de **Prevención de Fraude** , basado en Machine Learning para **<i>Predecir la Probabilidad de que el Prospecto ejecute  First , Second o Third Payment Default.</i>**\\r\\n\\r\\n- Utiliza indicadores de desempeńo bastante robustos, que permiten evaluar adecuadamente el evento de interés  (Detección de Candidatos con Intención de Incumplir con sus Facilidades crediticias)\\r\\n\\r\\n- Ayuda a Mejorar la Selección de Prospectos de los Modelos de Originación.']}\n",
      "11\n",
      "Portfolio Segmentation\n",
      "{'tag': 'Portfolio Segmentation', 'patterns': ['Portfolio Segmentation'], 'responses': ['- Modelo para Segmentar el **Portafolio de Crédito**, basado en el <i>**Comportamiento de Clientes.**</i>\\r\\n\\r\\n- Este tipo de desarrollos, son altamente utilizados para definir nuevos segmentos de clientes y con ello, se establece un tratamiento y una estrategía de comercialización de productos, con el fin de optimizar los recursos ,** minimizando el esfuerzo de venta**.\\r\\n\\r\\n\\r\\n- Es recomendable utilizar este producto en combinación con una clasificación de segmentos a posteriori, del mismo modo, se puede asociar con modelos de ventas cruzadas y mejoras de oferta.']}\n",
      "12\n",
      "Roll Rates\n",
      "{'tag': 'Roll Rates', 'patterns': ['Roll Rates'], 'responses': ['- Preparación de **Roll Rates**, para estimar la de la **Proababilidad de Default**, bajo proyecciones de las transiciones de Mora.\\r\\n\\r\\n-  Forma parte de la Metodología de Basilea para **Cálculo de Pérdidas Esperadas y su consecuente requerimiento de  Capital Económico.**']}\n",
      "13\n",
      "VaR Models\n",
      "{'tag': 'VaR Models', 'patterns': ['VaR Models'], 'responses': ['- Modelos de **Valor en Riesgo (Value At Risk)** , con enfoque de  Estadística Clásica, para estimar el monto que se espera perder, bajo cierto nivel de certidumbre, en función de la composición del portafolio  estudiado.\\r\\n\\r\\n- Se proponen varios modelos de estudio, como indicadores de seguimiento de la cartera de Inversiones.\\r\\n\\r\\n-  Debe combinarse con Modelos de Pérdidas Esperadas.']}\n",
      "14\n",
      "Active Behaviour Model\n",
      "{'tag': 'Active Behaviour Model', 'patterns': ['Active Behaviour Model'], 'responses': ['- Modelo **Comportamental **, Basado en Estadística Clásica para predecir la **Probabilidad de Incumplimiento** de  <i>Clientes con historia en la Institución</i>.\\r\\n\\r\\n- Es un Modelo con un **Performance Alto** , asímismo ,  también **Muy Estable en el Tiempo**\\r\\n\\r\\n- Permite Asignar tratamientos para ventas, fijar tasas, entre otras estrategias de uso comercial. Por cuanto, sirve como input para otros Modelos Analíticos.']}\n",
      "15\n",
      "Early Warnings\n",
      "{'tag': 'Early Warnings', 'patterns': ['Early Warnings'], 'responses': ['- Modelo **Comportamental aplicado a Cobranzas**, basado en Estadística Clásica, para predecir la **Probabilidad de Default** de <i>Clientes con Productos activos  en estado de Premora.</i>\\r\\n\\r\\n- Sirve para imponer tratamientos preventivos efectivos ante clientes que presentan mayor probabilidad de incumplir con sus facilidades crediticia, pese a que, al momento de realizar el estudio se encuentran en premora.\\r\\n\\r\\n- Son ampliamente utilizados en el Sector Financiero, para asegurar la efectividad de la Cobranza, y suelen combinarse con otros modelos Comportamentales para generar estrategias adecuadas para cobro, bajo un **Modelo de Cobranzas**.']}\n",
      "16\n",
      "Machine Learning Admission\n",
      "{'tag': 'Machine Learning Admission', 'patterns': ['Machine Learning Admission'], 'responses': ['- Modelo  para **Otorgamiento de Préstamos**, basado en  Machine Learning, para predecir la <i>**Probabilidad de Default de Prospectos a Cliente**</i>. \\r\\n\\r\\n- Tiende a Presentar Resultados **Más Contundentes que los Modelos Clásicos**, es decir, al poseer una capacidad de ajuste no lineal, las diferencias encontradas suelen representarse mejor en data real. \\r\\n\\r\\n- Se Testean y Entrenan contra indicadores robustos y ampliamente utilizados en el Sector Financiero para ajustes de Modelos, aplicables también a los Modelos Clásicos.\\r\\n\\r\\n- Permite trabajar con **Segmentos No  Tradicionales.**\\r\\n\\r\\n- Se entrenan en menor tiempo que los modelos clásicos.']}\n",
      "17\n",
      "Risk Based Pricing\n",
      "{'tag': 'Risk Based Pricing', 'patterns': ['Risk Based Pricing'], 'responses': ['- Modelo de **Precios Basado en Riesgo**, utiilizando Modelos Analíticos, en función de la **Probabilidad de Default de Clientes en el Producto.** \\r\\n\\r\\n- Permite mantener un margen financiero positivo, que sincera los costos asociados al default de productos observados. \\r\\n\\r\\n- Puede combinarse a otros Modelos Analíticos para realizar una asignación de **Precios Dinámica**,  que asocie el valor del cliente para la Institución, junto al riesgo que presenta su Patrón de Comportamiento  de Pago y Utilización de Productos.']}\n",
      "18\n",
      "Loss Given By Default\n",
      "{'tag': 'Loss Given By Default', 'patterns': ['Loss Given By Default'], 'responses': ['- Estimación de **Pérdidas Financieras dado el Incumplimiento de Préstamos**, en función de Modelos Estadísticos Clásicos.\\r\\n\\r\\n- Forma parte de la Metodología de Basilea, para **Cálculo de Pérdidas Esperadas y su consecuente requerimiento de Capital Económico.**']}\n",
      "19\n",
      "Atrittion Score\n",
      "{'tag': 'Atrittion Score', 'patterns': ['Atrittion Score'], 'responses': ['- Modelo de **Retención**, basado en Estadística Clásica, para predecir la **Probabilidad de Deserción de Clientes.**\\r\\n\\r\\n- Permite generar estrategías de retención en función de la probabilidad que presentan los prospectos para dejar de utilizar sus productos financieros.\\r\\n\\r\\n- En combinación con modelos de venta, originación y clasificación de portafolio, resulta muy efectivo para focalizar los esfuerzos en los clientes que realmente valgan la pena.']}\n",
      "20\n"
     ]
    }
   ],
   "source": [
    "\n",
    "\n",
    "# with open(file_name,mode='w',encoding='utf-8') as f:\n",
    "#    json.dump('[',f)\n",
    "\n",
    "\n",
    "\n",
    "\n",
    "product_details={}\n",
    "general_product_details=[]\n",
    "contador=0\n",
    "for i in set(Namemodel):\n",
    "   print(i)\n",
    "   product_question=[]\n",
    "   product_answer=[]\n",
    "   for j in data_campos_model_choice:\n",
    "      # print(j['fields']['Type_model'])\n",
    "      if j['fields']['Name_model']==i:\n",
    "         product_details['tag']=j['fields']['Name_model']\n",
    "         product_question.append(str(j['fields']['Name_model']))\n",
    "         # product_question.append(''.join(['Como funciona el modelo de ',str(j['fields']['Name_model'])]))\n",
    "         # product_question.append(''.join(['Para que sirve el modelo de ',str(j['fields']['Name_model'])]))\n",
    "         product_answer.append(j['fields']['Description_model'])\n",
    "         \n",
    "   product_details['patterns']=product_question\n",
    "   product_details['responses']=product_answer \n",
    "   print(product_details)\n",
    "   # if contador == 0 :\n",
    "   #    general_product_details=product_details\n",
    "   # else :\n",
    "   json_output=json.dumps(product_details,ensure_ascii=False)\n",
    "   general_product_details.append(json_output)\n",
    "   contador = contador + 1\n",
    "   print(contador)\n",
    "   \n",
    "\n",
    "\n",
    "\n",
    "# with open(file_name,mode='w') as f:\n",
    "#    json.dump(final_solution,f,indent=4,ensure_ascii=False)\n",
    "   \n"
   ]
  },
  {
   "cell_type": "code",
   "execution_count": 59,
   "metadata": {},
   "outputs": [
    {
     "data": {
      "text/plain": [
       "['{\"tag\": \"Portfolio Classification\", \"patterns\": [\"Portfolio Classification\"], \"responses\": [\"- Modelo de Clasificación para **Carterizar a Clientes Nuevos**, que no participaron en la Segmentación base, o bien, para **Refrescar los Segmentos de Clientes Existentes.**\\\\r\\\\n\\\\r\\\\n- Este modelo replica la información contenida en los segmentos ya predefinidos en la institución para aplicársela a los clentes.\\\\r\\\\n\\\\r\\\\n- Se recomienda realizar corridas mensuales para mantener actualizada la cartera de la Institución.\"]}',\n",
       " '{\"tag\": \"Back-Test\", \"patterns\": [\"Back-Test\"], \"responses\": [\"- Aplicación de **Back-Testing**  a Modelos de estimación del Valor en Riesgo, para verificar su correcto ajuste a la Historia de la EIF.\\\\r\\\\n\\\\r\\\\n- Se recomienda Aplicar Backtest a cada Modelo propuesto.\"]}',\n",
       " '{\"tag\": \"Prouct Recommender\", \"patterns\": [\"Prouct Recommender\"], \"responses\": [\"- Modelo de **Venta**, basado en Inteligencia Artificial , permite **Recomendar Productos a Clientes de Institución Financiera.**\\\\r\\\\n\\\\r\\\\n- Es altamente utilizado por empresas como Amazon, Netflix, Youtube para realizar ofertas adecuadas a clientes basada en la utilización y valoración de productos.\\\\r\\\\n\\\\r\\\\n- En combinación con otros modelos , permite la activación de fabricas de originación de créditos.\"]}',\n",
       " '{\"tag\": \"Pasives Behaviour Model\", \"patterns\": [\"Pasives Behaviour Model\"], \"responses\": [\"- Modelo **Comportamental**, basado en Estadística Clásica, para predecir la **Probabilidad de Incumplimiento** de <i>Clientes con productos en la Institución</i>.\\\\r\\\\n\\\\r\\\\n- Tiene un **Performance Alto**, y presenta **Mucha Estabilidad en el Tiempo** , tal y como suelen tener sus homólogos basados en Productos Activos.\\\\r\\\\n\\\\r\\\\n-  Suelen combinarse con otros modelos comportamentales para dar una visión más completa del cliente.\"]}',\n",
       " '{\"tag\": \"Collections Score\", \"patterns\": [\"Collections Score\"], \"responses\": [\"- Modelo de **Cobranzas** , basado en Estadística Clásica , para **Administrar Tratamientos a Clientes** <i>con productos Activos en la Institución Financiera.</i>   Pudiendo, acoplarse a los tratamientos de cobros impuestos por la EIF, pero con el **aditivo preventivo**  de los modelos que utiliza como base. \\\\r\\\\n\\\\r\\\\n- Resulta Altamente Eficaz en la prevención del deterioro de clientes con oportunidades de mejora, dado que establece tratamientos desde la premora.\\\\r\\\\n\\\\r\\\\n- Permite focalizar los esfuerzos  para mejorar su efectividad y eficientizar las labores del Área de Cobros.\"]}',\n",
       " '{\"tag\": \"CLTV Based Pricing\", \"patterns\": [\"CLTV Based Pricing\"], \"responses\": [\"- Modelo de **Precios en base al Valor del Cliente en el Tiempo**, con un enfoque Estadístico Clásico - Comportamental, que persigue un ajuste del valor de cliente en función del retorno que genera hacia la Institución Financiera.\\\\r\\\\n\\\\r\\\\n- Funciona como complemento a la visión Riesgo Céntrica del Pricing. \\\\r\\\\n\\\\r\\\\n- Mediante la aplicación conjunta de los modelos de Pricing se consigue un ajuste Dinámico del Pricing.\"]}',\n",
       " '{\"tag\": \"Stress Testing\", \"patterns\": [\"Stress Testing\"], \"responses\": [\"- Aplicación de **Pruebas de Estrés** a modelos de Valor en Riesgo de la Cartera de Inversiones y portafolio de Crédito. \\\\r\\\\n\\\\r\\\\n\\\\r\\\\n- Se proponen varias metodologías, para manejar indicadores en situaciónes adversas, del portafolio actual de la entidad.\"]}',\n",
       " '{\"tag\": \"Credit Admission Scores\", \"patterns\": [\"Credit Admission Scores\"], \"responses\": [\"- Modelo de **Otorgamiento de Préstamos**, basado en Estadística Clásica, para predecir la <i>**Probabilidad Default de Prospectos a Clientes.** </i> \\\\r\\\\n\\\\r\\\\n- Es uno de los modelos más utilizados y reconocidos  internacionalmente  por su buen desempeño, simplicidad y resistencia al paso del tiempo.\\\\r\\\\n\\\\r\\\\n- Puede ser reacondicionado en el tiempo, a menos que haya sufrido un deterioro muy fuerte.\\\\r\\\\n\\\\r\\\\n- Sirve como punto de partida para estudios de **Pricing** , **Especificaciones de Punto de Corte** y **Políticas**.\"]}',\n",
       " '{\"tag\": \"Acceptance Probability\", \"patterns\": [\"Acceptance Probability\"], \"responses\": [\"- Modelo de Venta, basado en Machine Learning para predecir la **Probabilidad de Aceptación de la Oferta de Clientes**\\\\r\\\\n\\\\r\\\\n- Permite reducción reducir el esfuerzo de ventas.\\\\r\\\\n\\\\r\\\\n- En combinación con los modelos adecuados, permite una focalización en clientes importantes para la Institución.\"]}',\n",
       " '{\"tag\": \"Crossell - Upsell Model\", \"patterns\": [\"Crossell - Upsell Model\"], \"responses\": [\"- Modelo para **Ventas Cruzadas**, basado en Estadística Clásica, fundamentado en el **Comportamiento  y uso de los productos Financieros de los Clientes.**\\\\r\\\\n\\\\r\\\\n- En combinación de los modelos de Probabilidad de Aceptación de Oferta, Admisión , Pricing , Clasificación de Portafolio, permite focalizar los esfuerzos en clientes que generen mayor retorno para la Institución.\"]}',\n",
       " '{\"tag\": \"Fraud Payment Default\", \"patterns\": [\"Fraud Payment Default\"], \"responses\": [\"- Modelo de **Prevención de Fraude** , basado en Machine Learning para **<i>Predecir la Probabilidad de que el Prospecto ejecute  First , Second o Third Payment Default.</i>**\\\\r\\\\n\\\\r\\\\n- Utiliza indicadores de desempeńo bastante robustos, que permiten evaluar adecuadamente el evento de interés  (Detección de Candidatos con Intención de Incumplir con sus Facilidades crediticias)\\\\r\\\\n\\\\r\\\\n- Ayuda a Mejorar la Selección de Prospectos de los Modelos de Originación.\"]}',\n",
       " '{\"tag\": \"Portfolio Segmentation\", \"patterns\": [\"Portfolio Segmentation\"], \"responses\": [\"- Modelo para Segmentar el **Portafolio de Crédito**, basado en el <i>**Comportamiento de Clientes.**</i>\\\\r\\\\n\\\\r\\\\n- Este tipo de desarrollos, son altamente utilizados para definir nuevos segmentos de clientes y con ello, se establece un tratamiento y una estrategía de comercialización de productos, con el fin de optimizar los recursos ,** minimizando el esfuerzo de venta**.\\\\r\\\\n\\\\r\\\\n\\\\r\\\\n- Es recomendable utilizar este producto en combinación con una clasificación de segmentos a posteriori, del mismo modo, se puede asociar con modelos de ventas cruzadas y mejoras de oferta.\"]}',\n",
       " '{\"tag\": \"Roll Rates\", \"patterns\": [\"Roll Rates\"], \"responses\": [\"- Preparación de **Roll Rates**, para estimar la de la **Proababilidad de Default**, bajo proyecciones de las transiciones de Mora.\\\\r\\\\n\\\\r\\\\n-  Forma parte de la Metodología de Basilea para **Cálculo de Pérdidas Esperadas y su consecuente requerimiento de  Capital Económico.**\"]}',\n",
       " '{\"tag\": \"VaR Models\", \"patterns\": [\"VaR Models\"], \"responses\": [\"- Modelos de **Valor en Riesgo (Value At Risk)** , con enfoque de  Estadística Clásica, para estimar el monto que se espera perder, bajo cierto nivel de certidumbre, en función de la composición del portafolio  estudiado.\\\\r\\\\n\\\\r\\\\n- Se proponen varios modelos de estudio, como indicadores de seguimiento de la cartera de Inversiones.\\\\r\\\\n\\\\r\\\\n-  Debe combinarse con Modelos de Pérdidas Esperadas.\"]}',\n",
       " '{\"tag\": \"Active Behaviour Model\", \"patterns\": [\"Active Behaviour Model\"], \"responses\": [\"- Modelo **Comportamental **, Basado en Estadística Clásica para predecir la **Probabilidad de Incumplimiento** de  <i>Clientes con historia en la Institución</i>.\\\\r\\\\n\\\\r\\\\n- Es un Modelo con un **Performance Alto** , asímismo ,  también **Muy Estable en el Tiempo**\\\\r\\\\n\\\\r\\\\n- Permite Asignar tratamientos para ventas, fijar tasas, entre otras estrategias de uso comercial. Por cuanto, sirve como input para otros Modelos Analíticos.\"]}',\n",
       " '{\"tag\": \"Early Warnings\", \"patterns\": [\"Early Warnings\"], \"responses\": [\"- Modelo **Comportamental aplicado a Cobranzas**, basado en Estadística Clásica, para predecir la **Probabilidad de Default** de <i>Clientes con Productos activos  en estado de Premora.</i>\\\\r\\\\n\\\\r\\\\n- Sirve para imponer tratamientos preventivos efectivos ante clientes que presentan mayor probabilidad de incumplir con sus facilidades crediticia, pese a que, al momento de realizar el estudio se encuentran en premora.\\\\r\\\\n\\\\r\\\\n- Son ampliamente utilizados en el Sector Financiero, para asegurar la efectividad de la Cobranza, y suelen combinarse con otros modelos Comportamentales para generar estrategias adecuadas para cobro, bajo un **Modelo de Cobranzas**.\"]}',\n",
       " '{\"tag\": \"Machine Learning Admission\", \"patterns\": [\"Machine Learning Admission\"], \"responses\": [\"- Modelo  para **Otorgamiento de Préstamos**, basado en  Machine Learning, para predecir la <i>**Probabilidad de Default de Prospectos a Cliente**</i>. \\\\r\\\\n\\\\r\\\\n- Tiende a Presentar Resultados **Más Contundentes que los Modelos Clásicos**, es decir, al poseer una capacidad de ajuste no lineal, las diferencias encontradas suelen representarse mejor en data real. \\\\r\\\\n\\\\r\\\\n- Se Testean y Entrenan contra indicadores robustos y ampliamente utilizados en el Sector Financiero para ajustes de Modelos, aplicables también a los Modelos Clásicos.\\\\r\\\\n\\\\r\\\\n- Permite trabajar con **Segmentos No  Tradicionales.**\\\\r\\\\n\\\\r\\\\n- Se entrenan en menor tiempo que los modelos clásicos.\"]}',\n",
       " '{\"tag\": \"Risk Based Pricing\", \"patterns\": [\"Risk Based Pricing\"], \"responses\": [\"- Modelo de **Precios Basado en Riesgo**, utiilizando Modelos Analíticos, en función de la **Probabilidad de Default de Clientes en el Producto.** \\\\r\\\\n\\\\r\\\\n- Permite mantener un margen financiero positivo, que sincera los costos asociados al default de productos observados. \\\\r\\\\n\\\\r\\\\n- Puede combinarse a otros Modelos Analíticos para realizar una asignación de **Precios Dinámica**,  que asocie el valor del cliente para la Institución, junto al riesgo que presenta su Patrón de Comportamiento  de Pago y Utilización de Productos.\"]}',\n",
       " '{\"tag\": \"Loss Given By Default\", \"patterns\": [\"Loss Given By Default\"], \"responses\": [\"- Estimación de **Pérdidas Financieras dado el Incumplimiento de Préstamos**, en función de Modelos Estadísticos Clásicos.\\\\r\\\\n\\\\r\\\\n- Forma parte de la Metodología de Basilea, para **Cálculo de Pérdidas Esperadas y su consecuente requerimiento de Capital Económico.**\"]}',\n",
       " '{\"tag\": \"Atrittion Score\", \"patterns\": [\"Atrittion Score\"], \"responses\": [\"- Modelo de **Retención**, basado en Estadística Clásica, para predecir la **Probabilidad de Deserción de Clientes.**\\\\r\\\\n\\\\r\\\\n- Permite generar estrategías de retención en función de la probabilidad que presentan los prospectos para dejar de utilizar sus productos financieros.\\\\r\\\\n\\\\r\\\\n- En combinación con modelos de venta, originación y clasificación de portafolio, resulta muy efectivo para focalizar los esfuerzos en los clientes que realmente valgan la pena.\"]}']"
      ]
     },
     "execution_count": 59,
     "metadata": {},
     "output_type": "execute_result"
    }
   ],
   "source": [
    "general_product_details"
   ]
  },
  {
   "cell_type": "code",
   "execution_count": 60,
   "metadata": {},
   "outputs": [],
   "source": [
    "# final_solution"
   ]
  },
  {
   "cell_type": "code",
   "execution_count": 61,
   "metadata": {},
   "outputs": [],
   "source": [
    "Personal_function=[i['fields']['Personality_function'] for i in data_campos_personality]\n",
    "\n",
    "\n"
   ]
  },
  {
   "cell_type": "code",
   "execution_count": 62,
   "metadata": {},
   "outputs": [
    {
     "data": {
      "text/plain": [
       "{'Despedida', 'Identificacion', 'Presentacion', 'Proposito'}"
      ]
     },
     "execution_count": 62,
     "metadata": {},
     "output_type": "execute_result"
    }
   ],
   "source": [
    "set(Personal_function)"
   ]
  },
  {
   "cell_type": "code",
   "execution_count": 63,
   "metadata": {},
   "outputs": [
    {
     "name": "stdout",
     "output_type": "stream",
     "text": [
      "Identificacion\n",
      "{'tag': 'Identificacion', 'patterns': ['¿cómo te llamas?', '¿cómo puedo llamarte?'], 'responses': ['me llamo FINANCIALYTICS-BOT, tu bot de apoyo en Financialitica', 'Llámame FINANCIALYTICS-BOT,soy bot de apoyo en Financialitica']}\n",
      "Presentacion\n",
      "{'tag': 'Presentacion', 'patterns': ['Hola', 'buenas', 'buenos dias', 'Buenas tardes', '¿cuál es tu nombre?'], 'responses': ['Buenas, ¿en qué puedo ayudarte?', 'Hola, ¿en qué puedo ayudarte?', '¿en qué puedo serte útil?', 'Buenas, requieres de algún apoyo con el Website o con algún Producto?', 'soy tu bot de apoyo en Financialitica,FINANCIALYTICS-BOT. \\r\\n\\r\\nCómo puedo ayudarte?']}\n",
      "Proposito\n",
      "{'tag': 'Proposito', 'patterns': ['Cual es tu proposito?', 'Como me puedes ayudar?', 'Que puedes hacer por mi?'], 'responses': ['Soy un bot creado con Inteligencia Artificial, entrenado por el equipo de Financialitica, para responder  preguntas limitadas sobre funcionamiento del website y  productos .', 'Soy un bot entrenado por el equipo de Financialitica, que te va a servir de guia en el Website homónimo. \\r\\nPuedes preguntar sobre el tema que desees.', 'Soy un bot, desarrollado con Inteligencia Artificial, por el equipo de Financialitica. Soy prueba de como puede ayudar la Inteligencia Artificial a la Industria. Pregúntame lo que necesites saber sobre Productos o sobre el funcionamiento de elementos del Website.']}\n",
      "Despedida\n",
      "{'tag': 'Despedida', 'patterns': ['Adios', 'Chao', 'bye'], 'responses': ['Ha sido un placer ayudarte, hasta la próxima!', 'Espero te hayas sentido bien con mi compañía, vuelve pronto!', 'Vuelve cuando gustes, acá estaremos para servirte!']}\n"
     ]
    }
   ],
   "source": [
    "\n",
    "\n",
    "personal_details={}\n",
    "general_personal_details=[]\n",
    "contador=0\n",
    "for i in set(Personal_function):\n",
    "   print(i)\n",
    "   personal_question=[]\n",
    "   personal_answer=[]\n",
    "   for j in data_campos_personality:\n",
    "      if j['fields']['Personality_function']==i:\n",
    "         personal_details['tag']=j['fields']['Personality_function']\n",
    "         personal_question.append(j['fields']['Personality_question'])\n",
    "         personal_answer.append(j['fields']['Personality_response'])\n",
    "   personal_details['patterns']=personal_question\n",
    "   personal_details['responses']=personal_answer \n",
    "   print(personal_details)\n",
    "   json_output_personal=json.dumps(personal_details,ensure_ascii=False)\n",
    "   general_personal_details.append(json_output_personal)\n",
    "   "
   ]
  },
  {
   "cell_type": "code",
   "execution_count": 64,
   "metadata": {},
   "outputs": [
    {
     "data": {
      "text/plain": [
       "['{\"tag\": \"Identificacion\", \"patterns\": [\"¿cómo te llamas?\", \"¿cómo puedo llamarte?\"], \"responses\": [\"me llamo FINANCIALYTICS-BOT, tu bot de apoyo en Financialitica\", \"Llámame FINANCIALYTICS-BOT,soy bot de apoyo en Financialitica\"]}',\n",
       " '{\"tag\": \"Presentacion\", \"patterns\": [\"Hola\", \"buenas\", \"buenos dias\", \"Buenas tardes\", \"¿cuál es tu nombre?\"], \"responses\": [\"Buenas, ¿en qué puedo ayudarte?\", \"Hola, ¿en qué puedo ayudarte?\", \"¿en qué puedo serte útil?\", \"Buenas, requieres de algún apoyo con el Website o con algún Producto?\", \"soy tu bot de apoyo en Financialitica,FINANCIALYTICS-BOT. \\\\r\\\\n\\\\r\\\\nCómo puedo ayudarte?\"]}',\n",
       " '{\"tag\": \"Proposito\", \"patterns\": [\"Cual es tu proposito?\", \"Como me puedes ayudar?\", \"Que puedes hacer por mi?\"], \"responses\": [\"Soy un bot creado con Inteligencia Artificial, entrenado por el equipo de Financialitica, para responder  preguntas limitadas sobre funcionamiento del website y  productos .\", \"Soy un bot entrenado por el equipo de Financialitica, que te va a servir de guia en el Website homónimo. \\\\r\\\\nPuedes preguntar sobre el tema que desees.\", \"Soy un bot, desarrollado con Inteligencia Artificial, por el equipo de Financialitica. Soy prueba de como puede ayudar la Inteligencia Artificial a la Industria. Pregúntame lo que necesites saber sobre Productos o sobre el funcionamiento de elementos del Website.\"]}',\n",
       " '{\"tag\": \"Despedida\", \"patterns\": [\"Adios\", \"Chao\", \"bye\"], \"responses\": [\"Ha sido un placer ayudarte, hasta la próxima!\", \"Espero te hayas sentido bien con mi compañía, vuelve pronto!\", \"Vuelve cuando gustes, acá estaremos para servirte!\"]}']"
      ]
     },
     "execution_count": 64,
     "metadata": {},
     "output_type": "execute_result"
    }
   ],
   "source": [
    "general_personal_details"
   ]
  },
  {
   "cell_type": "code",
   "execution_count": 65,
   "metadata": {},
   "outputs": [],
   "source": [
    "help_items=[i['fields']['Help_item'] for i in data_campos_menu]\n",
    "    "
   ]
  },
  {
   "cell_type": "code",
   "execution_count": 66,
   "metadata": {},
   "outputs": [
    {
     "name": "stdout",
     "output_type": "stream",
     "text": [
      "Menu_Producto\n",
      "{'tag': 'Menu_Producto', 'patterns': ['Cómo puedo visualizar los productos?'], 'responses': ['El menu de productos tiene 2 niveles de búsqueda. \\r\\n\\r\\nEn principio, debes darle a la lista desplegable para seleccionar el tipo de modelo que deseas consultar, pulsas Buscar y luego te apareceran las opciones de Modelos con esa tipologia. \\r\\n\\r\\nSi decides indagar sobre un modelo de esa tipología, seleccionalo en la segunda lista despĺegable y pulsa Buscar']}\n",
      "Menu_Contacto\n",
      "{'tag': 'Menu_Contacto', 'patterns': ['Quiero solicitar más información sobre un Modelo en particular'], 'responses': ['Para saber mayor información sobre los productos ofrecidos, capacitaciones y oportunidades de Outsourcing. Dirígete al menu de Contacto, dejanos tus datos y explicános brevemente sobre tu necesidad.  \\r\\nPronto te atenderá un miembro del equipo de Financialitica!']}\n",
      "Menu_Capacitaciones\n",
      "{'tag': 'Menu_Capacitaciones', 'patterns': ['Quiero mayor información sobre sus Capacitaciones'], 'responses': ['Para mayor información sobre nuestras capacitaciones , comunicate directamente con nuestro representante Marcos de Leon, sus datos de contacto actualizados están en el fondo de la página.']}\n",
      "Menu_Outsourcing\n",
      "{'tag': 'Menu_Outsourcing', 'patterns': ['Quiero mayor informacion sobre Outsourcing'], 'responses': ['Para mayor información referente a Outsourcing, comúnicate con nuestro representante local. Marcos de León , su número de contacto lo encontrarás en el fondo de la página.']}\n"
     ]
    }
   ],
   "source": [
    "helpitems_details={}\n",
    "general_helpitems_details=[]\n",
    "contador=0\n",
    "for i in set(help_items):\n",
    "   print(i)\n",
    "   helpitems_question=[]\n",
    "   helpitems_answer=[]\n",
    "   for j in data_campos_menu:\n",
    "      if j['fields']['Help_item']==i:\n",
    "         helpitems_details['tag']=j['fields']['Help_item']\n",
    "         helpitems_question.append(j['fields']['Help_question'])\n",
    "         helpitems_answer.append(j['fields']['Help_response'])\n",
    "   helpitems_details['patterns']=helpitems_question\n",
    "   helpitems_details['responses']=helpitems_answer \n",
    "   print(helpitems_details)\n",
    "   json_output_helpitems=json.dumps(helpitems_details,ensure_ascii=False)\n",
    "   general_helpitems_details.append(json_output_helpitems)\n"
   ]
  },
  {
   "cell_type": "code",
   "execution_count": 67,
   "metadata": {},
   "outputs": [],
   "source": [
    "# general_product_details.extend(general_personal_details)\n",
    "# general_product_details.extend(general_helpitems_details)"
   ]
  },
  {
   "cell_type": "code",
   "execution_count": 68,
   "metadata": {},
   "outputs": [],
   "source": [
    "# general_product_details.extend(general_personal_details)\n",
    "general_personal_details.extend(general_helpitems_details)"
   ]
  },
  {
   "cell_type": "code",
   "execution_count": 69,
   "metadata": {},
   "outputs": [
    {
     "data": {
      "text/plain": [
       "['{\"tag\": \"Portfolio Classification\", \"patterns\": [\"Portfolio Classification\"], \"responses\": [\"- Modelo de Clasificación para **Carterizar a Clientes Nuevos**, que no participaron en la Segmentación base, o bien, para **Refrescar los Segmentos de Clientes Existentes.**\\\\r\\\\n\\\\r\\\\n- Este modelo replica la información contenida en los segmentos ya predefinidos en la institución para aplicársela a los clentes.\\\\r\\\\n\\\\r\\\\n- Se recomienda realizar corridas mensuales para mantener actualizada la cartera de la Institución.\"]}',\n",
       " '{\"tag\": \"Back-Test\", \"patterns\": [\"Back-Test\"], \"responses\": [\"- Aplicación de **Back-Testing**  a Modelos de estimación del Valor en Riesgo, para verificar su correcto ajuste a la Historia de la EIF.\\\\r\\\\n\\\\r\\\\n- Se recomienda Aplicar Backtest a cada Modelo propuesto.\"]}',\n",
       " '{\"tag\": \"Prouct Recommender\", \"patterns\": [\"Prouct Recommender\"], \"responses\": [\"- Modelo de **Venta**, basado en Inteligencia Artificial , permite **Recomendar Productos a Clientes de Institución Financiera.**\\\\r\\\\n\\\\r\\\\n- Es altamente utilizado por empresas como Amazon, Netflix, Youtube para realizar ofertas adecuadas a clientes basada en la utilización y valoración de productos.\\\\r\\\\n\\\\r\\\\n- En combinación con otros modelos , permite la activación de fabricas de originación de créditos.\"]}',\n",
       " '{\"tag\": \"Pasives Behaviour Model\", \"patterns\": [\"Pasives Behaviour Model\"], \"responses\": [\"- Modelo **Comportamental**, basado en Estadística Clásica, para predecir la **Probabilidad de Incumplimiento** de <i>Clientes con productos en la Institución</i>.\\\\r\\\\n\\\\r\\\\n- Tiene un **Performance Alto**, y presenta **Mucha Estabilidad en el Tiempo** , tal y como suelen tener sus homólogos basados en Productos Activos.\\\\r\\\\n\\\\r\\\\n-  Suelen combinarse con otros modelos comportamentales para dar una visión más completa del cliente.\"]}',\n",
       " '{\"tag\": \"Collections Score\", \"patterns\": [\"Collections Score\"], \"responses\": [\"- Modelo de **Cobranzas** , basado en Estadística Clásica , para **Administrar Tratamientos a Clientes** <i>con productos Activos en la Institución Financiera.</i>   Pudiendo, acoplarse a los tratamientos de cobros impuestos por la EIF, pero con el **aditivo preventivo**  de los modelos que utiliza como base. \\\\r\\\\n\\\\r\\\\n- Resulta Altamente Eficaz en la prevención del deterioro de clientes con oportunidades de mejora, dado que establece tratamientos desde la premora.\\\\r\\\\n\\\\r\\\\n- Permite focalizar los esfuerzos  para mejorar su efectividad y eficientizar las labores del Área de Cobros.\"]}',\n",
       " '{\"tag\": \"CLTV Based Pricing\", \"patterns\": [\"CLTV Based Pricing\"], \"responses\": [\"- Modelo de **Precios en base al Valor del Cliente en el Tiempo**, con un enfoque Estadístico Clásico - Comportamental, que persigue un ajuste del valor de cliente en función del retorno que genera hacia la Institución Financiera.\\\\r\\\\n\\\\r\\\\n- Funciona como complemento a la visión Riesgo Céntrica del Pricing. \\\\r\\\\n\\\\r\\\\n- Mediante la aplicación conjunta de los modelos de Pricing se consigue un ajuste Dinámico del Pricing.\"]}',\n",
       " '{\"tag\": \"Stress Testing\", \"patterns\": [\"Stress Testing\"], \"responses\": [\"- Aplicación de **Pruebas de Estrés** a modelos de Valor en Riesgo de la Cartera de Inversiones y portafolio de Crédito. \\\\r\\\\n\\\\r\\\\n\\\\r\\\\n- Se proponen varias metodologías, para manejar indicadores en situaciónes adversas, del portafolio actual de la entidad.\"]}',\n",
       " '{\"tag\": \"Credit Admission Scores\", \"patterns\": [\"Credit Admission Scores\"], \"responses\": [\"- Modelo de **Otorgamiento de Préstamos**, basado en Estadística Clásica, para predecir la <i>**Probabilidad Default de Prospectos a Clientes.** </i> \\\\r\\\\n\\\\r\\\\n- Es uno de los modelos más utilizados y reconocidos  internacionalmente  por su buen desempeño, simplicidad y resistencia al paso del tiempo.\\\\r\\\\n\\\\r\\\\n- Puede ser reacondicionado en el tiempo, a menos que haya sufrido un deterioro muy fuerte.\\\\r\\\\n\\\\r\\\\n- Sirve como punto de partida para estudios de **Pricing** , **Especificaciones de Punto de Corte** y **Políticas**.\"]}',\n",
       " '{\"tag\": \"Acceptance Probability\", \"patterns\": [\"Acceptance Probability\"], \"responses\": [\"- Modelo de Venta, basado en Machine Learning para predecir la **Probabilidad de Aceptación de la Oferta de Clientes**\\\\r\\\\n\\\\r\\\\n- Permite reducción reducir el esfuerzo de ventas.\\\\r\\\\n\\\\r\\\\n- En combinación con los modelos adecuados, permite una focalización en clientes importantes para la Institución.\"]}',\n",
       " '{\"tag\": \"Crossell - Upsell Model\", \"patterns\": [\"Crossell - Upsell Model\"], \"responses\": [\"- Modelo para **Ventas Cruzadas**, basado en Estadística Clásica, fundamentado en el **Comportamiento  y uso de los productos Financieros de los Clientes.**\\\\r\\\\n\\\\r\\\\n- En combinación de los modelos de Probabilidad de Aceptación de Oferta, Admisión , Pricing , Clasificación de Portafolio, permite focalizar los esfuerzos en clientes que generen mayor retorno para la Institución.\"]}',\n",
       " '{\"tag\": \"Fraud Payment Default\", \"patterns\": [\"Fraud Payment Default\"], \"responses\": [\"- Modelo de **Prevención de Fraude** , basado en Machine Learning para **<i>Predecir la Probabilidad de que el Prospecto ejecute  First , Second o Third Payment Default.</i>**\\\\r\\\\n\\\\r\\\\n- Utiliza indicadores de desempeńo bastante robustos, que permiten evaluar adecuadamente el evento de interés  (Detección de Candidatos con Intención de Incumplir con sus Facilidades crediticias)\\\\r\\\\n\\\\r\\\\n- Ayuda a Mejorar la Selección de Prospectos de los Modelos de Originación.\"]}',\n",
       " '{\"tag\": \"Portfolio Segmentation\", \"patterns\": [\"Portfolio Segmentation\"], \"responses\": [\"- Modelo para Segmentar el **Portafolio de Crédito**, basado en el <i>**Comportamiento de Clientes.**</i>\\\\r\\\\n\\\\r\\\\n- Este tipo de desarrollos, son altamente utilizados para definir nuevos segmentos de clientes y con ello, se establece un tratamiento y una estrategía de comercialización de productos, con el fin de optimizar los recursos ,** minimizando el esfuerzo de venta**.\\\\r\\\\n\\\\r\\\\n\\\\r\\\\n- Es recomendable utilizar este producto en combinación con una clasificación de segmentos a posteriori, del mismo modo, se puede asociar con modelos de ventas cruzadas y mejoras de oferta.\"]}',\n",
       " '{\"tag\": \"Roll Rates\", \"patterns\": [\"Roll Rates\"], \"responses\": [\"- Preparación de **Roll Rates**, para estimar la de la **Proababilidad de Default**, bajo proyecciones de las transiciones de Mora.\\\\r\\\\n\\\\r\\\\n-  Forma parte de la Metodología de Basilea para **Cálculo de Pérdidas Esperadas y su consecuente requerimiento de  Capital Económico.**\"]}',\n",
       " '{\"tag\": \"VaR Models\", \"patterns\": [\"VaR Models\"], \"responses\": [\"- Modelos de **Valor en Riesgo (Value At Risk)** , con enfoque de  Estadística Clásica, para estimar el monto que se espera perder, bajo cierto nivel de certidumbre, en función de la composición del portafolio  estudiado.\\\\r\\\\n\\\\r\\\\n- Se proponen varios modelos de estudio, como indicadores de seguimiento de la cartera de Inversiones.\\\\r\\\\n\\\\r\\\\n-  Debe combinarse con Modelos de Pérdidas Esperadas.\"]}',\n",
       " '{\"tag\": \"Active Behaviour Model\", \"patterns\": [\"Active Behaviour Model\"], \"responses\": [\"- Modelo **Comportamental **, Basado en Estadística Clásica para predecir la **Probabilidad de Incumplimiento** de  <i>Clientes con historia en la Institución</i>.\\\\r\\\\n\\\\r\\\\n- Es un Modelo con un **Performance Alto** , asímismo ,  también **Muy Estable en el Tiempo**\\\\r\\\\n\\\\r\\\\n- Permite Asignar tratamientos para ventas, fijar tasas, entre otras estrategias de uso comercial. Por cuanto, sirve como input para otros Modelos Analíticos.\"]}',\n",
       " '{\"tag\": \"Early Warnings\", \"patterns\": [\"Early Warnings\"], \"responses\": [\"- Modelo **Comportamental aplicado a Cobranzas**, basado en Estadística Clásica, para predecir la **Probabilidad de Default** de <i>Clientes con Productos activos  en estado de Premora.</i>\\\\r\\\\n\\\\r\\\\n- Sirve para imponer tratamientos preventivos efectivos ante clientes que presentan mayor probabilidad de incumplir con sus facilidades crediticia, pese a que, al momento de realizar el estudio se encuentran en premora.\\\\r\\\\n\\\\r\\\\n- Son ampliamente utilizados en el Sector Financiero, para asegurar la efectividad de la Cobranza, y suelen combinarse con otros modelos Comportamentales para generar estrategias adecuadas para cobro, bajo un **Modelo de Cobranzas**.\"]}',\n",
       " '{\"tag\": \"Machine Learning Admission\", \"patterns\": [\"Machine Learning Admission\"], \"responses\": [\"- Modelo  para **Otorgamiento de Préstamos**, basado en  Machine Learning, para predecir la <i>**Probabilidad de Default de Prospectos a Cliente**</i>. \\\\r\\\\n\\\\r\\\\n- Tiende a Presentar Resultados **Más Contundentes que los Modelos Clásicos**, es decir, al poseer una capacidad de ajuste no lineal, las diferencias encontradas suelen representarse mejor en data real. \\\\r\\\\n\\\\r\\\\n- Se Testean y Entrenan contra indicadores robustos y ampliamente utilizados en el Sector Financiero para ajustes de Modelos, aplicables también a los Modelos Clásicos.\\\\r\\\\n\\\\r\\\\n- Permite trabajar con **Segmentos No  Tradicionales.**\\\\r\\\\n\\\\r\\\\n- Se entrenan en menor tiempo que los modelos clásicos.\"]}',\n",
       " '{\"tag\": \"Risk Based Pricing\", \"patterns\": [\"Risk Based Pricing\"], \"responses\": [\"- Modelo de **Precios Basado en Riesgo**, utiilizando Modelos Analíticos, en función de la **Probabilidad de Default de Clientes en el Producto.** \\\\r\\\\n\\\\r\\\\n- Permite mantener un margen financiero positivo, que sincera los costos asociados al default de productos observados. \\\\r\\\\n\\\\r\\\\n- Puede combinarse a otros Modelos Analíticos para realizar una asignación de **Precios Dinámica**,  que asocie el valor del cliente para la Institución, junto al riesgo que presenta su Patrón de Comportamiento  de Pago y Utilización de Productos.\"]}',\n",
       " '{\"tag\": \"Loss Given By Default\", \"patterns\": [\"Loss Given By Default\"], \"responses\": [\"- Estimación de **Pérdidas Financieras dado el Incumplimiento de Préstamos**, en función de Modelos Estadísticos Clásicos.\\\\r\\\\n\\\\r\\\\n- Forma parte de la Metodología de Basilea, para **Cálculo de Pérdidas Esperadas y su consecuente requerimiento de Capital Económico.**\"]}',\n",
       " '{\"tag\": \"Atrittion Score\", \"patterns\": [\"Atrittion Score\"], \"responses\": [\"- Modelo de **Retención**, basado en Estadística Clásica, para predecir la **Probabilidad de Deserción de Clientes.**\\\\r\\\\n\\\\r\\\\n- Permite generar estrategías de retención en función de la probabilidad que presentan los prospectos para dejar de utilizar sus productos financieros.\\\\r\\\\n\\\\r\\\\n- En combinación con modelos de venta, originación y clasificación de portafolio, resulta muy efectivo para focalizar los esfuerzos en los clientes que realmente valgan la pena.\"]}',\n",
       " '{\"tag\": \"Identificacion\", \"patterns\": [\"¿cómo te llamas?\", \"¿cómo puedo llamarte?\"], \"responses\": [\"me llamo FINANCIALYTICS-BOT, tu bot de apoyo en Financialitica\", \"Llámame FINANCIALYTICS-BOT,soy bot de apoyo en Financialitica\"]}',\n",
       " '{\"tag\": \"Presentacion\", \"patterns\": [\"Hola\", \"buenas\", \"buenos dias\", \"Buenas tardes\", \"¿cuál es tu nombre?\"], \"responses\": [\"Buenas, ¿en qué puedo ayudarte?\", \"Hola, ¿en qué puedo ayudarte?\", \"¿en qué puedo serte útil?\", \"Buenas, requieres de algún apoyo con el Website o con algún Producto?\", \"soy tu bot de apoyo en Financialitica,FINANCIALYTICS-BOT. \\\\r\\\\n\\\\r\\\\nCómo puedo ayudarte?\"]}',\n",
       " '{\"tag\": \"Proposito\", \"patterns\": [\"Cual es tu proposito?\", \"Como me puedes ayudar?\", \"Que puedes hacer por mi?\"], \"responses\": [\"Soy un bot creado con Inteligencia Artificial, entrenado por el equipo de Financialitica, para responder  preguntas limitadas sobre funcionamiento del website y  productos .\", \"Soy un bot entrenado por el equipo de Financialitica, que te va a servir de guia en el Website homónimo. \\\\r\\\\nPuedes preguntar sobre el tema que desees.\", \"Soy un bot, desarrollado con Inteligencia Artificial, por el equipo de Financialitica. Soy prueba de como puede ayudar la Inteligencia Artificial a la Industria. Pregúntame lo que necesites saber sobre Productos o sobre el funcionamiento de elementos del Website.\"]}',\n",
       " '{\"tag\": \"Despedida\", \"patterns\": [\"Adios\", \"Chao\", \"bye\"], \"responses\": [\"Ha sido un placer ayudarte, hasta la próxima!\", \"Espero te hayas sentido bien con mi compañía, vuelve pronto!\", \"Vuelve cuando gustes, acá estaremos para servirte!\"]}',\n",
       " '{\"tag\": \"Menu_Producto\", \"patterns\": [\"Cómo puedo visualizar los productos?\"], \"responses\": [\"El menu de productos tiene 2 niveles de búsqueda. \\\\r\\\\n\\\\r\\\\nEn principio, debes darle a la lista desplegable para seleccionar el tipo de modelo que deseas consultar, pulsas Buscar y luego te apareceran las opciones de Modelos con esa tipologia. \\\\r\\\\n\\\\r\\\\nSi decides indagar sobre un modelo de esa tipología, seleccionalo en la segunda lista despĺegable y pulsa Buscar\"]}',\n",
       " '{\"tag\": \"Menu_Contacto\", \"patterns\": [\"Quiero solicitar más información sobre un Modelo en particular\"], \"responses\": [\"Para saber mayor información sobre los productos ofrecidos, capacitaciones y oportunidades de Outsourcing. Dirígete al menu de Contacto, dejanos tus datos y explicános brevemente sobre tu necesidad.  \\\\r\\\\nPronto te atenderá un miembro del equipo de Financialitica!\"]}',\n",
       " '{\"tag\": \"Menu_Capacitaciones\", \"patterns\": [\"Quiero mayor información sobre sus Capacitaciones\"], \"responses\": [\"Para mayor información sobre nuestras capacitaciones , comunicate directamente con nuestro representante Marcos de Leon, sus datos de contacto actualizados están en el fondo de la página.\"]}',\n",
       " '{\"tag\": \"Menu_Outsourcing\", \"patterns\": [\"Quiero mayor informacion sobre Outsourcing\"], \"responses\": [\"Para mayor información referente a Outsourcing, comúnicate con nuestro representante local. Marcos de León , su número de contacto lo encontrarás en el fondo de la página.\"]}']"
      ]
     },
     "execution_count": 69,
     "metadata": {},
     "output_type": "execute_result"
    }
   ],
   "source": [
    "general_product_details"
   ]
  },
  {
   "cell_type": "code",
   "execution_count": 70,
   "metadata": {},
   "outputs": [],
   "source": [
    "# file_name='Json_detalle_conversaciones_bot.json'\n",
    "\n",
    "# final_solution={}\n",
    "\n",
    "# final_solution[\"intents\"]= general_personal_details#general_product_details\n",
    "# with open(file_name,mode='w') as f:\n",
    "#    json.dump(final_solution,f,indent=4,ensure_ascii=False)\n"
   ]
  },
  {
   "cell_type": "code",
   "execution_count": 71,
   "metadata": {},
   "outputs": [
    {
     "data": {
      "text/plain": [
       "['{\"tag\": \"Portfolio Classification\", \"patterns\": [\"Portfolio Classification\"], \"responses\": [\"- Modelo de Clasificación para **Carterizar a Clientes Nuevos**, que no participaron en la Segmentación base, o bien, para **Refrescar los Segmentos de Clientes Existentes.**\\\\r\\\\n\\\\r\\\\n- Este modelo replica la información contenida en los segmentos ya predefinidos en la institución para aplicársela a los clentes.\\\\r\\\\n\\\\r\\\\n- Se recomienda realizar corridas mensuales para mantener actualizada la cartera de la Institución.\"]}',\n",
       " '{\"tag\": \"Back-Test\", \"patterns\": [\"Back-Test\"], \"responses\": [\"- Aplicación de **Back-Testing**  a Modelos de estimación del Valor en Riesgo, para verificar su correcto ajuste a la Historia de la EIF.\\\\r\\\\n\\\\r\\\\n- Se recomienda Aplicar Backtest a cada Modelo propuesto.\"]}',\n",
       " '{\"tag\": \"Prouct Recommender\", \"patterns\": [\"Prouct Recommender\"], \"responses\": [\"- Modelo de **Venta**, basado en Inteligencia Artificial , permite **Recomendar Productos a Clientes de Institución Financiera.**\\\\r\\\\n\\\\r\\\\n- Es altamente utilizado por empresas como Amazon, Netflix, Youtube para realizar ofertas adecuadas a clientes basada en la utilización y valoración de productos.\\\\r\\\\n\\\\r\\\\n- En combinación con otros modelos , permite la activación de fabricas de originación de créditos.\"]}',\n",
       " '{\"tag\": \"Pasives Behaviour Model\", \"patterns\": [\"Pasives Behaviour Model\"], \"responses\": [\"- Modelo **Comportamental**, basado en Estadística Clásica, para predecir la **Probabilidad de Incumplimiento** de <i>Clientes con productos en la Institución</i>.\\\\r\\\\n\\\\r\\\\n- Tiene un **Performance Alto**, y presenta **Mucha Estabilidad en el Tiempo** , tal y como suelen tener sus homólogos basados en Productos Activos.\\\\r\\\\n\\\\r\\\\n-  Suelen combinarse con otros modelos comportamentales para dar una visión más completa del cliente.\"]}',\n",
       " '{\"tag\": \"Collections Score\", \"patterns\": [\"Collections Score\"], \"responses\": [\"- Modelo de **Cobranzas** , basado en Estadística Clásica , para **Administrar Tratamientos a Clientes** <i>con productos Activos en la Institución Financiera.</i>   Pudiendo, acoplarse a los tratamientos de cobros impuestos por la EIF, pero con el **aditivo preventivo**  de los modelos que utiliza como base. \\\\r\\\\n\\\\r\\\\n- Resulta Altamente Eficaz en la prevención del deterioro de clientes con oportunidades de mejora, dado que establece tratamientos desde la premora.\\\\r\\\\n\\\\r\\\\n- Permite focalizar los esfuerzos  para mejorar su efectividad y eficientizar las labores del Área de Cobros.\"]}',\n",
       " '{\"tag\": \"CLTV Based Pricing\", \"patterns\": [\"CLTV Based Pricing\"], \"responses\": [\"- Modelo de **Precios en base al Valor del Cliente en el Tiempo**, con un enfoque Estadístico Clásico - Comportamental, que persigue un ajuste del valor de cliente en función del retorno que genera hacia la Institución Financiera.\\\\r\\\\n\\\\r\\\\n- Funciona como complemento a la visión Riesgo Céntrica del Pricing. \\\\r\\\\n\\\\r\\\\n- Mediante la aplicación conjunta de los modelos de Pricing se consigue un ajuste Dinámico del Pricing.\"]}',\n",
       " '{\"tag\": \"Stress Testing\", \"patterns\": [\"Stress Testing\"], \"responses\": [\"- Aplicación de **Pruebas de Estrés** a modelos de Valor en Riesgo de la Cartera de Inversiones y portafolio de Crédito. \\\\r\\\\n\\\\r\\\\n\\\\r\\\\n- Se proponen varias metodologías, para manejar indicadores en situaciónes adversas, del portafolio actual de la entidad.\"]}',\n",
       " '{\"tag\": \"Credit Admission Scores\", \"patterns\": [\"Credit Admission Scores\"], \"responses\": [\"- Modelo de **Otorgamiento de Préstamos**, basado en Estadística Clásica, para predecir la <i>**Probabilidad Default de Prospectos a Clientes.** </i> \\\\r\\\\n\\\\r\\\\n- Es uno de los modelos más utilizados y reconocidos  internacionalmente  por su buen desempeño, simplicidad y resistencia al paso del tiempo.\\\\r\\\\n\\\\r\\\\n- Puede ser reacondicionado en el tiempo, a menos que haya sufrido un deterioro muy fuerte.\\\\r\\\\n\\\\r\\\\n- Sirve como punto de partida para estudios de **Pricing** , **Especificaciones de Punto de Corte** y **Políticas**.\"]}',\n",
       " '{\"tag\": \"Acceptance Probability\", \"patterns\": [\"Acceptance Probability\"], \"responses\": [\"- Modelo de Venta, basado en Machine Learning para predecir la **Probabilidad de Aceptación de la Oferta de Clientes**\\\\r\\\\n\\\\r\\\\n- Permite reducción reducir el esfuerzo de ventas.\\\\r\\\\n\\\\r\\\\n- En combinación con los modelos adecuados, permite una focalización en clientes importantes para la Institución.\"]}',\n",
       " '{\"tag\": \"Crossell - Upsell Model\", \"patterns\": [\"Crossell - Upsell Model\"], \"responses\": [\"- Modelo para **Ventas Cruzadas**, basado en Estadística Clásica, fundamentado en el **Comportamiento  y uso de los productos Financieros de los Clientes.**\\\\r\\\\n\\\\r\\\\n- En combinación de los modelos de Probabilidad de Aceptación de Oferta, Admisión , Pricing , Clasificación de Portafolio, permite focalizar los esfuerzos en clientes que generen mayor retorno para la Institución.\"]}',\n",
       " '{\"tag\": \"Fraud Payment Default\", \"patterns\": [\"Fraud Payment Default\"], \"responses\": [\"- Modelo de **Prevención de Fraude** , basado en Machine Learning para **<i>Predecir la Probabilidad de que el Prospecto ejecute  First , Second o Third Payment Default.</i>**\\\\r\\\\n\\\\r\\\\n- Utiliza indicadores de desempeńo bastante robustos, que permiten evaluar adecuadamente el evento de interés  (Detección de Candidatos con Intención de Incumplir con sus Facilidades crediticias)\\\\r\\\\n\\\\r\\\\n- Ayuda a Mejorar la Selección de Prospectos de los Modelos de Originación.\"]}',\n",
       " '{\"tag\": \"Portfolio Segmentation\", \"patterns\": [\"Portfolio Segmentation\"], \"responses\": [\"- Modelo para Segmentar el **Portafolio de Crédito**, basado en el <i>**Comportamiento de Clientes.**</i>\\\\r\\\\n\\\\r\\\\n- Este tipo de desarrollos, son altamente utilizados para definir nuevos segmentos de clientes y con ello, se establece un tratamiento y una estrategía de comercialización de productos, con el fin de optimizar los recursos ,** minimizando el esfuerzo de venta**.\\\\r\\\\n\\\\r\\\\n\\\\r\\\\n- Es recomendable utilizar este producto en combinación con una clasificación de segmentos a posteriori, del mismo modo, se puede asociar con modelos de ventas cruzadas y mejoras de oferta.\"]}',\n",
       " '{\"tag\": \"Roll Rates\", \"patterns\": [\"Roll Rates\"], \"responses\": [\"- Preparación de **Roll Rates**, para estimar la de la **Proababilidad de Default**, bajo proyecciones de las transiciones de Mora.\\\\r\\\\n\\\\r\\\\n-  Forma parte de la Metodología de Basilea para **Cálculo de Pérdidas Esperadas y su consecuente requerimiento de  Capital Económico.**\"]}',\n",
       " '{\"tag\": \"VaR Models\", \"patterns\": [\"VaR Models\"], \"responses\": [\"- Modelos de **Valor en Riesgo (Value At Risk)** , con enfoque de  Estadística Clásica, para estimar el monto que se espera perder, bajo cierto nivel de certidumbre, en función de la composición del portafolio  estudiado.\\\\r\\\\n\\\\r\\\\n- Se proponen varios modelos de estudio, como indicadores de seguimiento de la cartera de Inversiones.\\\\r\\\\n\\\\r\\\\n-  Debe combinarse con Modelos de Pérdidas Esperadas.\"]}',\n",
       " '{\"tag\": \"Active Behaviour Model\", \"patterns\": [\"Active Behaviour Model\"], \"responses\": [\"- Modelo **Comportamental **, Basado en Estadística Clásica para predecir la **Probabilidad de Incumplimiento** de  <i>Clientes con historia en la Institución</i>.\\\\r\\\\n\\\\r\\\\n- Es un Modelo con un **Performance Alto** , asímismo ,  también **Muy Estable en el Tiempo**\\\\r\\\\n\\\\r\\\\n- Permite Asignar tratamientos para ventas, fijar tasas, entre otras estrategias de uso comercial. Por cuanto, sirve como input para otros Modelos Analíticos.\"]}',\n",
       " '{\"tag\": \"Early Warnings\", \"patterns\": [\"Early Warnings\"], \"responses\": [\"- Modelo **Comportamental aplicado a Cobranzas**, basado en Estadística Clásica, para predecir la **Probabilidad de Default** de <i>Clientes con Productos activos  en estado de Premora.</i>\\\\r\\\\n\\\\r\\\\n- Sirve para imponer tratamientos preventivos efectivos ante clientes que presentan mayor probabilidad de incumplir con sus facilidades crediticia, pese a que, al momento de realizar el estudio se encuentran en premora.\\\\r\\\\n\\\\r\\\\n- Son ampliamente utilizados en el Sector Financiero, para asegurar la efectividad de la Cobranza, y suelen combinarse con otros modelos Comportamentales para generar estrategias adecuadas para cobro, bajo un **Modelo de Cobranzas**.\"]}',\n",
       " '{\"tag\": \"Machine Learning Admission\", \"patterns\": [\"Machine Learning Admission\"], \"responses\": [\"- Modelo  para **Otorgamiento de Préstamos**, basado en  Machine Learning, para predecir la <i>**Probabilidad de Default de Prospectos a Cliente**</i>. \\\\r\\\\n\\\\r\\\\n- Tiende a Presentar Resultados **Más Contundentes que los Modelos Clásicos**, es decir, al poseer una capacidad de ajuste no lineal, las diferencias encontradas suelen representarse mejor en data real. \\\\r\\\\n\\\\r\\\\n- Se Testean y Entrenan contra indicadores robustos y ampliamente utilizados en el Sector Financiero para ajustes de Modelos, aplicables también a los Modelos Clásicos.\\\\r\\\\n\\\\r\\\\n- Permite trabajar con **Segmentos No  Tradicionales.**\\\\r\\\\n\\\\r\\\\n- Se entrenan en menor tiempo que los modelos clásicos.\"]}',\n",
       " '{\"tag\": \"Risk Based Pricing\", \"patterns\": [\"Risk Based Pricing\"], \"responses\": [\"- Modelo de **Precios Basado en Riesgo**, utiilizando Modelos Analíticos, en función de la **Probabilidad de Default de Clientes en el Producto.** \\\\r\\\\n\\\\r\\\\n- Permite mantener un margen financiero positivo, que sincera los costos asociados al default de productos observados. \\\\r\\\\n\\\\r\\\\n- Puede combinarse a otros Modelos Analíticos para realizar una asignación de **Precios Dinámica**,  que asocie el valor del cliente para la Institución, junto al riesgo que presenta su Patrón de Comportamiento  de Pago y Utilización de Productos.\"]}',\n",
       " '{\"tag\": \"Loss Given By Default\", \"patterns\": [\"Loss Given By Default\"], \"responses\": [\"- Estimación de **Pérdidas Financieras dado el Incumplimiento de Préstamos**, en función de Modelos Estadísticos Clásicos.\\\\r\\\\n\\\\r\\\\n- Forma parte de la Metodología de Basilea, para **Cálculo de Pérdidas Esperadas y su consecuente requerimiento de Capital Económico.**\"]}',\n",
       " '{\"tag\": \"Atrittion Score\", \"patterns\": [\"Atrittion Score\"], \"responses\": [\"- Modelo de **Retención**, basado en Estadística Clásica, para predecir la **Probabilidad de Deserción de Clientes.**\\\\r\\\\n\\\\r\\\\n- Permite generar estrategías de retención en función de la probabilidad que presentan los prospectos para dejar de utilizar sus productos financieros.\\\\r\\\\n\\\\r\\\\n- En combinación con modelos de venta, originación y clasificación de portafolio, resulta muy efectivo para focalizar los esfuerzos en los clientes que realmente valgan la pena.\"]}',\n",
       " '{\"tag\": \"Identificacion\", \"patterns\": [\"¿cómo te llamas?\", \"¿cómo puedo llamarte?\"], \"responses\": [\"me llamo FINANCIALYTICS-BOT, tu bot de apoyo en Financialitica\", \"Llámame FINANCIALYTICS-BOT,soy bot de apoyo en Financialitica\"]}',\n",
       " '{\"tag\": \"Presentacion\", \"patterns\": [\"Hola\", \"buenas\", \"buenos dias\", \"Buenas tardes\", \"¿cuál es tu nombre?\"], \"responses\": [\"Buenas, ¿en qué puedo ayudarte?\", \"Hola, ¿en qué puedo ayudarte?\", \"¿en qué puedo serte útil?\", \"Buenas, requieres de algún apoyo con el Website o con algún Producto?\", \"soy tu bot de apoyo en Financialitica,FINANCIALYTICS-BOT. \\\\r\\\\n\\\\r\\\\nCómo puedo ayudarte?\"]}',\n",
       " '{\"tag\": \"Proposito\", \"patterns\": [\"Cual es tu proposito?\", \"Como me puedes ayudar?\", \"Que puedes hacer por mi?\"], \"responses\": [\"Soy un bot creado con Inteligencia Artificial, entrenado por el equipo de Financialitica, para responder  preguntas limitadas sobre funcionamiento del website y  productos .\", \"Soy un bot entrenado por el equipo de Financialitica, que te va a servir de guia en el Website homónimo. \\\\r\\\\nPuedes preguntar sobre el tema que desees.\", \"Soy un bot, desarrollado con Inteligencia Artificial, por el equipo de Financialitica. Soy prueba de como puede ayudar la Inteligencia Artificial a la Industria. Pregúntame lo que necesites saber sobre Productos o sobre el funcionamiento de elementos del Website.\"]}',\n",
       " '{\"tag\": \"Despedida\", \"patterns\": [\"Adios\", \"Chao\", \"bye\"], \"responses\": [\"Ha sido un placer ayudarte, hasta la próxima!\", \"Espero te hayas sentido bien con mi compañía, vuelve pronto!\", \"Vuelve cuando gustes, acá estaremos para servirte!\"]}',\n",
       " '{\"tag\": \"Menu_Producto\", \"patterns\": [\"Cómo puedo visualizar los productos?\"], \"responses\": [\"El menu de productos tiene 2 niveles de búsqueda. \\\\r\\\\n\\\\r\\\\nEn principio, debes darle a la lista desplegable para seleccionar el tipo de modelo que deseas consultar, pulsas Buscar y luego te apareceran las opciones de Modelos con esa tipologia. \\\\r\\\\n\\\\r\\\\nSi decides indagar sobre un modelo de esa tipología, seleccionalo en la segunda lista despĺegable y pulsa Buscar\"]}',\n",
       " '{\"tag\": \"Menu_Contacto\", \"patterns\": [\"Quiero solicitar más información sobre un Modelo en particular\"], \"responses\": [\"Para saber mayor información sobre los productos ofrecidos, capacitaciones y oportunidades de Outsourcing. Dirígete al menu de Contacto, dejanos tus datos y explicános brevemente sobre tu necesidad.  \\\\r\\\\nPronto te atenderá un miembro del equipo de Financialitica!\"]}',\n",
       " '{\"tag\": \"Menu_Capacitaciones\", \"patterns\": [\"Quiero mayor información sobre sus Capacitaciones\"], \"responses\": [\"Para mayor información sobre nuestras capacitaciones , comunicate directamente con nuestro representante Marcos de Leon, sus datos de contacto actualizados están en el fondo de la página.\"]}',\n",
       " '{\"tag\": \"Menu_Outsourcing\", \"patterns\": [\"Quiero mayor informacion sobre Outsourcing\"], \"responses\": [\"Para mayor información referente a Outsourcing, comúnicate con nuestro representante local. Marcos de León , su número de contacto lo encontrarás en el fondo de la página.\"]}']"
      ]
     },
     "execution_count": 71,
     "metadata": {},
     "output_type": "execute_result"
    }
   ],
   "source": [
    "general_product_details"
   ]
  },
  {
   "cell_type": "code",
   "execution_count": null,
   "metadata": {},
   "outputs": [],
   "source": []
  }
 ],
 "metadata": {
  "kernelspec": {
   "display_name": "base",
   "language": "python",
   "name": "python3"
  },
  "language_info": {
   "codemirror_mode": {
    "name": "ipython",
    "version": 3
   },
   "file_extension": ".py",
   "mimetype": "text/x-python",
   "name": "python",
   "nbconvert_exporter": "python",
   "pygments_lexer": "ipython3",
   "version": "3.8.8"
  },
  "orig_nbformat": 4
 },
 "nbformat": 4,
 "nbformat_minor": 2
}
