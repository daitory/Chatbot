{
 "cells": [
  {
   "cell_type": "code",
   "execution_count": 1,
   "metadata": {},
   "outputs": [],
   "source": [
    "import random\n",
    "import numpy as np\n",
    "import tensorflow as tf\n",
    "import json\n",
    "import pickle\n",
    "import nltk\n",
    "from nltk.stem import WordNetLemmatizer\n",
    "import unidecode"
   ]
  },
  {
   "cell_type": "code",
   "execution_count": 2,
   "metadata": {},
   "outputs": [],
   "source": [
    "# gpus = tf.config.experimental.list_physical_devices('GPU')\n",
    "# if gpus:\n",
    "#   try:\n",
    "#     tf.config.experimental.set_virtual_device_configuration(\n",
    "#         gpus[0],[tf.config.experimental.VirtualDeviceConfiguration(memory_limit=6120)])\n",
    "#   except RuntimeError as e:\n",
    "#     print(e)"
   ]
  },
  {
   "cell_type": "code",
   "execution_count": 3,
   "metadata": {},
   "outputs": [],
   "source": [
    "lemmatizer=WordNetLemmatizer()\n",
    "data = open(\"Json_detalle_productos_bot.json\").read()\n",
    "intents = json.loads(data)\n",
    "words = pickle.load(open('words_chatbot_productos.pkl','rb'))\n",
    "clases = pickle.load(open('clases_chatbot_productos.pkl','rb'))\n",
    "model = tf.keras.models.load_model('Chatbot_base_chatbot_producto_v2.tf')"
   ]
  },
  {
   "cell_type": "code",
   "execution_count": 4,
   "metadata": {},
   "outputs": [
    {
     "name": "stdout",
     "output_type": "stream",
     "text": [
      "[{'tag': 'Back-Test', 'patterns': ['back', 'retrospectivas', 'retrospectiva'], 'responses': ['- Aplicación de Back-Testing  a Modelos de estimación del Valor en Riesgo, para verificar su correcto ajuste a la Historia de la EIF.- Se recomienda Aplicar Backtest a cada Modelo propuesto.']}, {'tag': 'CLTV Based Pricing', 'patterns': ['cltv', 'lifetime'], 'responses': ['- Modelo de Precios en base al Valor del Cliente en el Tiempo, con un enfoque Estadístico Clásico - Comportamental, que persigue un ajuste del valor de cliente en función del retorno que genera hacia la Institución Financiera.- Funciona como complemento a la visión Riesgo Céntrica del Pricing. - Mediante la aplicación conjunta de los modelos de Pricing se consigue un ajuste Dinámico del Pricing.']}, {'tag': 'Atrittion Score', 'patterns': ['atrittion', 'atrittion'], 'responses': ['- Modelo de Retención, basado en Estadística Clásica, para predecir la Probabilidad de Deserción de Clientes.- Permite generar estrategías de retención en función de la probabilidad que presentan los prospectos para dejar de utilizar sus productos financieros.- En combinación con modelos de venta, originación y clasificación de portafolio, resulta muy efectivo para focalizar los esfuerzos en los clientes que realmente valgan la pena.']}, {'tag': 'Pasives Behaviour Model', 'patterns': ['pasives behaviour', 'pasivos', 'pasivo'], 'responses': ['- Modelo Comportamental, basado en Estadística Clásica, para predecir la Probabilidad de Incumplimiento de Clientes con productos en la Institución.- Tiene un Performance Alto, y presenta Mucha Estabilidad en el Tiempo , tal y como suelen tener sus homólogos basados en Productos Activos.-  Suelen combinarse con otros modelos comportamentales para dar una visión más completa del cliente.']}, {'tag': 'VaR Models', 'patterns': ['valor en riesgo', 'value at risk'], 'responses': ['- Modelos de Valor en Riesgo (Value At Risk) , con enfoque de  Estadística Clásica, para estimar el monto que se espera perder, bajo cierto nivel de certidumbre, en función de la composición del portafolio  estudiado.- Se proponen varios modelos de estudio, como indicadores de seguimiento de la cartera de Inversiones.-  Debe combinarse con Modelos de Pérdidas Esperadas.']}, {'tag': 'Collections Score', 'patterns': ['collections', 'collections', 'cobranzas'], 'responses': ['- Modelo de Cobranzas , basado en Estadística Clásica , para Administrar Tratamientos a Clientes con productos Activos en la Institución Financiera.   Pudiendo, acoplarse a los tratamientos de cobros impuestos por la EIF, pero con el aditivo preventivo  de los modelos que utiliza como base. - Resulta Altamente Eficaz en la prevención del deterioro de clientes con oportunidades de mejora, dado que establece tratamientos desde la premora.- Permite focalizar los esfuerzos  para mejorar su efectividad y eficientizar las labores del Área de Cobros.']}, {'tag': 'Crossell - Upsell Model', 'patterns': ['crossell upsell model', 'ventas cruzadas'], 'responses': ['- Modelo para Ventas Cruzadas, basado en Estadística Clásica, fundamentado en el Comportamiento  y uso de los productos Financieros de los Clientes.- En combinación de los modelos de Probabilidad de Aceptación de Oferta, Admisión , Pricing , Clasificación de Portafolio, permite focalizar los esfuerzos en clientes que generen mayor retorno para la Institución.']}, {'tag': 'Early Warnings', 'patterns': ['early warnings', 'alertas tempranas'], 'responses': ['- Modelo Comportamental aplicado a Cobranzas, basado en Estadística Clásica, para predecir la Probabilidad de Default de Clientes con Productos activos  en estado de Premora.- Sirve para imponer tratamientos preventivos efectivos ante clientes que presentan mayor probabilidad de incumplir con sus facilidades crediticia, pese a que, al momento de realizar el estudio se encuentran en premora.- Son ampliamente utilizados en el Sector Financiero, para asegurar la efectividad de la Cobranza, y suelen combinarse con otros modelos Comportamentales para generar estrategias adecuadas para cobro, bajo un Modelo de Cobranzas.']}, {'tag': 'Credit Admission Scores', 'patterns': ['credit admission', 'originacion', 'otorgamiento'], 'responses': ['- Modelo de Otorgamiento de Préstamos, basado en Estadística Clásica, para predecir la Probabilidad Default de Prospectos a Clientes.  - Es uno de los modelos más utilizados y reconocidos  internacionalmente  por su buen desempeño, simplicidad y resistencia al paso del tiempo.- Puede ser reacondicionado en el tiempo, a menos que haya sufrido un deterioro muy fuerte.- Sirve como punto de partida para estudios de Pricing , Especificaciones de Punto de Corte y Políticas.']}, {'tag': 'Loss Given By Default', 'patterns': ['loss given by default', 'lgd', 'perdidas_dado_incumplimiento'], 'responses': ['- Estimación de Pérdidas Financieras dado el Incumplimiento de Préstamos, en función de Modelos Estadísticos Clásicos.- Forma parte de la Metodología de Basilea, para Cálculo de Pérdidas Esperadas y su consecuente requerimiento de Capital Económico.']}, {'tag': 'Stress Testing', 'patterns': ['stress', 'estres'], 'responses': ['- Aplicación de Pruebas de Estrés a modelos de Valor en Riesgo de la Cartera de Inversiones y portafolio de Crédito. - Se proponen varias metodologías, para manejar indicadores en situaciónes adversas, del portafolio actual de la entidad.']}, {'tag': 'Machine Learning Admission', 'patterns': ['learning admission', 'originacion con inteligencia', 'admision con inteligencia', 'otorgamiento con inteligencia'], 'responses': ['- Modelo  para Otorgamiento de Préstamos, basado en  Machine Learning, para predecir la Probabilidad de Default de Prospectos a Cliente. - Tiende a Presentar Resultados Más Contundentes que los Modelos Clásicos, es decir, al poseer una capacidad de ajuste no lineal, las diferencias encontradas suelen representarse mejor en data real. - Se Testean y Entrenan contra indicadores robustos y ampliamente utilizados en el Sector Financiero para ajustes de Modelos, aplicables también a los Modelos Clásicos.- Permite trabajar con Segmentos No  Tradicionales.- Se entrenan en menor tiempo que los modelos clásicos.']}, {'tag': 'Risk Based Pricing', 'patterns': ['risk pricing', 'precios enfocado en riesgo', 'precios', 'pricing'], 'responses': ['- Modelo de Precios Basado en Riesgo, utiilizando Modelos Analíticos, en función de la Probabilidad de Default de Clientes en el Producto. - Permite mantener un margen financiero positivo, que sincera los costos asociados al default de productos observados. - Puede combinarse a otros Modelos Analíticos para realizar una asignación de Precios Dinámica,  que asocie el valor del cliente para la Institución, junto al riesgo que presenta su Patrón de Comportamiento  de Pago y Utilización de Productos.']}, {'tag': 'Prouct Recommender', 'patterns': ['prouct recommender', 'recomendar productos'], 'responses': ['- Modelo de Venta, basado en Inteligencia Artificial , permite Recomendar Productos a Clientes de Institución Financiera.- Es altamente utilizado por empresas como Amazon, Netflix, Youtube para realizar ofertas adecuadas a clientes basada en la utilización y valoración de productos.- En combinación con otros modelos , permite la activación de fabricas de originación de créditos.']}, {'tag': 'Acceptance Probability', 'patterns': ['acceptance', 'aceptacion'], 'responses': ['- Modelo de Venta, basado en Machine Learning para predecir la Probabilidad de Aceptación de la Oferta de Clientes- Permite reducción reducir el esfuerzo de ventas.- En combinación con los modelos adecuados, permite una focalización en clientes importantes para la Institución.']}, {'tag': 'Active Behaviour Model', 'patterns': ['active behaviour', 'activos'], 'responses': ['- Modelo Comportamental , Basado en Estadística Clásica para predecir la Probabilidad de Incumplimiento de  Clientes con historia en la Institución.- Es un Modelo con un Performance Alto , asímismo ,  también Muy Estable en el Tiempo- Permite Asignar tratamientos para ventas, fijar tasas, entre otras estrategias de uso comercial. Por cuanto, sirve como input para otros Modelos Analíticos.']}, {'tag': 'Fraud Payment Default', 'patterns': ['fraud', 'fraude'], 'responses': ['- Modelo de Prevención de Fraude , basado en Machine Learning para Predecir la Probabilidad de que el Prospecto ejecute  First , Second o Third Payment Default.- Utiliza indicadores de desempeńo bastante robustos, que permiten evaluar adecuadamente el evento de interés  (Detección de Candidatos con Intención de Incumplir con sus Facilidades crediticias)- Ayuda a Mejorar la Selección de Prospectos de los Modelos de Originación.']}, {'tag': 'Roll Rates', 'patterns': ['roll rates', 'matriz de transicion'], 'responses': ['- Preparación de Roll Rates, para estimar la de la Proababilidad de Default, bajo proyecciones de las transiciones de Mora.-  Forma parte de la Metodología de Basilea para Cálculo de Pérdidas Esperadas y su consecuente requerimiento de  Capital Económico.']}, {'tag': 'Portfolio Classification', 'patterns': ['classification', 'clasificacion'], 'responses': ['- Modelo de Clasificación para Carterizar a Clientes Nuevos, que no participaron en la Segmentación base, o bien, para Refrescar los Segmentos de Clientes Existentes.- Este modelo replica la información contenida en los segmentos ya predefinidos en la institución para aplicársela a los clentes.- Se recomienda realizar corridas mensuales para mantener actualizada la cartera de la Institución.']}, {'tag': 'Portfolio Segmentation', 'patterns': ['segmentation', 'segmentacion'], 'responses': ['- Modelo para Segmentar el Portafolio de Crédito, basado en el Comportamiento de Clientes.- Este tipo de desarrollos, son altamente utilizados para definir nuevos segmentos de clientes y con ello, se establece un tratamiento y una estrategía de comercialización de productos, con el fin de optimizar los recursos , minimizando el esfuerzo de venta.- Es recomendable utilizar este producto en combinación con una clasificación de segmentos a posteriori, del mismo modo, se puede asociar con modelos de ventas cruzadas y mejoras de oferta.']}]\n"
     ]
    }
   ],
   "source": [
    "print(intents['intents'])"
   ]
  },
  {
   "cell_type": "code",
   "execution_count": 5,
   "metadata": {},
   "outputs": [
    {
     "name": "stdout",
     "output_type": "stream",
     "text": [
      "Model: \"chatbot_trainer\"\n",
      "_________________________________________________________________\n",
      " Layer (type)                Output Shape              Param #   \n",
      "=================================================================\n",
      " flatten (Flatten)           multiple                  0         \n",
      "                                                                 \n",
      " dense (Dense)               multiple                  8448      \n",
      "                                                                 \n",
      " dropout (Dropout)           multiple                  0         \n",
      "                                                                 \n",
      " dense_1 (Dense)             multiple                  8256      \n",
      "                                                                 \n",
      " dropout_1 (Dropout)         multiple                  0         \n",
      "                                                                 \n",
      " dense_2 (Dense)             multiple                  1300      \n",
      "                                                                 \n",
      "=================================================================\n",
      "Total params: 18,004\n",
      "Trainable params: 18,004\n",
      "Non-trainable params: 0\n",
      "_________________________________________________________________\n"
     ]
    }
   ],
   "source": [
    "model.summary()"
   ]
  },
  {
   "cell_type": "code",
   "execution_count": 6,
   "metadata": {},
   "outputs": [],
   "source": [
    "# model.predict([])"
   ]
  },
  {
   "cell_type": "code",
   "execution_count": 7,
   "metadata": {},
   "outputs": [],
   "source": [
    "def clean_up_sentences(sentence):\n",
    "    sentence_words = nltk.word_tokenize(sentence)\n",
    "    sentence_words = [lemmatizer.lemmatize((unidecode.unidecode(word)).lower())\n",
    "                      for word in sentence_words]\n",
    "    return sentence_words\n",
    "\n"
   ]
  },
  {
   "cell_type": "code",
   "execution_count": 8,
   "metadata": {},
   "outputs": [],
   "source": [
    "# this function will return 1 if the word is contained in our sentence and in the list previously defined \n",
    "def bow(sentence, words, show_details=True):\n",
    "    sentence_words = clean_up_sentences(sentence)\n",
    "    bag = [0]*len(words)\n",
    "    for s in sentence_words:\n",
    "        for i,w in enumerate(words):\n",
    "            if w == s:\n",
    "                bag[i] = 1\n",
    "                if show_details:\n",
    "                    print (\"found in bag: %s\" % w)\n",
    "    return(np.array(bag))\n"
   ]
  },
  {
   "cell_type": "code",
   "execution_count": 9,
   "metadata": {},
   "outputs": [],
   "source": [
    "# This function predicts a cleansed data with a mark in the bow (flag = 1 )\n",
    "# It also appends the class - tag in the clases list where it belongs \n",
    "def predict_clases(sentence,model):\n",
    "    print(clean_up_sentences(sentence))\n",
    "    p = bow(sentence,words,show_details=True)\n",
    "    print(p)\n",
    "    res = model.predict(np.array([p]))[0]\n",
    "    \n",
    "    ERROR_THRESHOLD=0.3#0.25\n",
    "    results = [[ i , r ] for i , r  in enumerate(res) if r>ERROR_THRESHOLD]\n",
    "    results.sort(key = lambda x : x[1], reverse=True)\n",
    "    return_list = []\n",
    "    for r in results:\n",
    "        return_list.append({\n",
    "            'intent' : clases[r[0]],\n",
    "            'probability': str(r[1])\n",
    "\n",
    "        } )\n",
    "        return return_list\n"
   ]
  },
  {
   "cell_type": "code",
   "execution_count": 10,
   "metadata": {},
   "outputs": [
    {
     "name": "stdout",
     "output_type": "stream",
     "text": [
      "Esta vivo!\n"
     ]
    }
   ],
   "source": [
    "# this function will print a random response in the class according the input that the user made\n",
    "def get_response(intents_list,intents_json):\n",
    "    print('intents_list',intents_list)\n",
    "    tag = intents_list[0]['intent']\n",
    "    list_of_intents = intents_json ['intents']\n",
    "    result = \"\"\n",
    "    for i in list_of_intents:\n",
    "        if i['tag'] == tag:\n",
    "            result = random.choice(i['responses'])\n",
    "            break\n",
    "    return result\n",
    "\n",
    "print (\"Esta vivo!\")"
   ]
  },
  {
   "cell_type": "code",
   "execution_count": 11,
   "metadata": {},
   "outputs": [],
   "source": [
    "\n",
    "\n",
    "# while True:\n",
    "#     message = \"\"\n",
    "#     ints = predict_clases(message)\n",
    "#     res = get_response(ints , intents)\n",
    "#     print(res)\n",
    "\n",
    "#     # if message == 'salir':\n",
    "    #     C=False\n"
   ]
  },
  {
   "cell_type": "code",
   "execution_count": 12,
   "metadata": {},
   "outputs": [],
   "source": [
    "# message = \"whats your name?\"\n",
    "\n",
    "# ints = predict_clases(message,model)\n",
    "# res = get_response(ints , intents)\n",
    "# print(res)"
   ]
  },
  {
   "cell_type": "code",
   "execution_count": 16,
   "metadata": {},
   "outputs": [
    {
     "name": "stdout",
     "output_type": "stream",
     "text": [
      "esto es message lgd\n",
      "esto es message <keras.saving.legacy.saved_model.load.Chatbot_trainer object at 0x7fe10a6a8850>\n",
      "['lgd']\n",
      "found in bag: lgd\n",
      "[0 0 0 0 0 0 0 0 0 0 0 0 0 0 0 0 0 0 0 0 0 0 0 0 0 0 0 0 0 0 0 0 1 0 0 0 0\n",
      " 0 0 0 0 0 0 0 0 0 0 0 0 0 0 0 0 0 0 0 0 0 0 0 0 0 0 0 0]\n",
      "1/1 [==============================] - 0s 18ms/step\n",
      "esto es ints [{'intent': 'Loss Given By Default', 'probability': '1.0'}]\n",
      "intents_list [{'intent': 'Loss Given By Default', 'probability': '1.0'}]\n",
      "- Estimación de Pérdidas Financieras dado el Incumplimiento de Préstamos, en función de Modelos Estadísticos Clásicos.- Forma parte de la Metodología de Basilea, para Cálculo de Pérdidas Esperadas y su consecuente requerimiento de Capital Económico.\n"
     ]
    }
   ],
   "source": [
    "message = \"lgd\"\n",
    "print(\"esto es message\",message)\n",
    "print(\"esto es message\",model)\n",
    "\n",
    "ints = predict_clases(message,model)\n",
    "print(\"esto es ints\",ints)\n",
    "res = get_response(ints , intents)\n",
    "print(res)"
   ]
  },
  {
   "cell_type": "code",
   "execution_count": null,
   "metadata": {},
   "outputs": [],
   "source": []
  },
  {
   "cell_type": "code",
   "execution_count": null,
   "metadata": {},
   "outputs": [],
   "source": []
  }
 ],
 "metadata": {
  "kernelspec": {
   "display_name": "base",
   "language": "python",
   "name": "python3"
  },
  "language_info": {
   "codemirror_mode": {
    "name": "ipython",
    "version": 3
   },
   "file_extension": ".py",
   "mimetype": "text/x-python",
   "name": "python",
   "nbconvert_exporter": "python",
   "pygments_lexer": "ipython3",
   "version": "3.8.8"
  },
  "orig_nbformat": 4
 },
 "nbformat": 4,
 "nbformat_minor": 2
}
